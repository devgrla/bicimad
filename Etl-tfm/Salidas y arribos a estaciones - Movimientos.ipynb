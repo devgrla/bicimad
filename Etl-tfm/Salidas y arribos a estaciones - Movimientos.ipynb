{
 "cells": [
  {
   "cell_type": "markdown",
   "metadata": {},
   "source": [
    "# Entradas y Salidas de bicicletas a estaciones\n",
    "\n",
    "Se pretende visualizar como es el comportamiento de las estaciones según la cantidad de bicicletas que se enganchan y desenganchan en cada una, teniendo en cuenta día de la semana y horario."
   ]
  },
  {
   "cell_type": "code",
   "execution_count": null,
   "metadata": {},
   "outputs": [],
   "source": [
    "import json\n",
    "import pandas as pd\n",
    "from PIL import Image, ImageDraw\n",
    "import geopandas as gpd\n",
    "from shapely.geometry import Point\n",
    "import geopandas as gpd\n",
    "import folium\n",
    "import psycopg2\n",
    "conn = psycopg2.connect(\"host='postgre-sqltest.cpdeokpzufj1.us-west-2.rds.amazonaws.com' port=5432 dbname='postgres' user=xseed password=LosTilos114\")\n",
    "crs = {'init': 'epsg:4326'}\n",
    "import numpy as np\n",
    "import scipy.ndimage.filters\n",
    "import matplotlib.pyplot as plt\n",
    "import matplotlib.colors\n",
    "from matplotlib.colors import LinearSegmentedColormap, rgb_to_hsv, hsv_to_rgb"
   ]
  },
  {
   "cell_type": "markdown",
   "metadata": {},
   "source": [
    "Consulta sobre la base de datos, NO teniendo en cuenta los movimientos realizados por los trabajadores de Bicimad. Esos se analizarán aparte."
   ]
  },
  {
   "cell_type": "code",
   "execution_count": null,
   "metadata": {},
   "outputs": [],
   "source": [
    "fecha_origen = '2018-06-21 08:00:00'\n",
    "fecha_destino = '2018-06-28 23:00:00'\n",
    "\n",
    "query = '''\n",
    "select user_type_code, travel_time, idunplug_station,age_range_code,idplug_station,unplug_hourtime,\n",
    "s.code_station as code_station_departure, s.latitude as latitude_departure, s.longitude as longitude_departure, s.name as name_departure,\n",
    "s2.code_station as code_station_arrival, s2.latitude as latitude_arrival, s2.longitude as longitude_arrival, s2.name as name_arrival\n",
    "from bike_movement bm\n",
    "join station s on bm.idunplug_station = s.id\n",
    "join station s2 on bm.idplug_station = s2.id\n",
    "where bm.unplug_hourtime >= '{0}'\n",
    "and bm.unplug_hourtime  <= '{1}' and bm.user_type_code <> 3\n",
    "'''\n",
    "\n",
    "query = query.format(fecha_origen, fecha_destino)\n",
    "\n",
    "data = pd.read_sql(query, conn)"
   ]
  },
  {
   "cell_type": "markdown",
   "metadata": {},
   "source": [
    "Transformacion de columnas"
   ]
  },
  {
   "cell_type": "code",
   "execution_count": null,
   "metadata": {},
   "outputs": [],
   "source": [
    "#Calcular hora de enganche de la bicicleta en base al unplug hour time y el travel time\n",
    "data['plug_hourtime'] = pd.to_datetime(data.unplug_hourtime) + pd.to_timedelta(data.travel_time, unit='s')\n",
    "data[\"hour\"] = data.unplug_hourtime.map(lambda x: x.hour)\n",
    "data[\"hour_arrival\"] = data.plug_hourtime.map(lambda x: x.hour)"
   ]
  },
  {
   "cell_type": "markdown",
   "metadata": {},
   "source": [
    "En este primer ejemplo se quiere visualizar como es la migración de las bicicletas, si hay alguna relación entre la hora del día y las salidas o arribos de las bicis a las estaciones\n",
    "\n",
    "Selecciono la hora del día que quiero visualizar"
   ]
  },
  {
   "cell_type": "code",
   "execution_count": null,
   "metadata": {},
   "outputs": [],
   "source": [
    "def get_trip_counts_by_hour(selected_hour):\n",
    "\n",
    "    locations = data.groupby(\"code_station_departure\").first()\n",
    "    # and select only the tree columns we are interested in\n",
    "    locations = locations.loc[:, [\"latitude_departure\",\n",
    "                              \"longitude_departure\",\n",
    "                              \"name_departure\"]]\n",
    "    \n",
    "    subset = data[data[\"hour\"]==selected_hour]\n",
    "    subset_arrival = data[data[\"hour_arrival\"]==selected_hour]\n",
    "    \n",
    "    departure_counts =  subset.groupby(\"code_station_departure\").count()\n",
    "    # select one column\n",
    "    departure_counts = departure_counts.iloc[:,[0]]\n",
    "    # and rename that column\n",
    "    departure_counts.columns= [\"Departure Count\"]\n",
    "\n",
    "    arrival_counts =  subset_arrival.groupby(\"code_station_arrival\").count()\n",
    "    # select one column\n",
    "    arrival_counts = arrival_counts.iloc[:,[0]]\n",
    "    # and rename that column\n",
    "    arrival_counts.columns= [\"Arrival Count\"]\n",
    "    trip_counts = departure_counts.join(locations).join(arrival_counts)\n",
    "    \n",
    "    return trip_counts\n",
    "    "
   ]
  },
  {
   "cell_type": "markdown",
   "metadata": {},
   "source": [
    "Asignamos un color diferente según el balance entre salidas y arribos a la estación en esa hora. Si hay mas salidas que arribos el color es naranja, de lo contrario se utiliza azul. El radio depende del número del balance, cuanto mayor el número mayor el radio."
   ]
  },
  {
   "cell_type": "code",
   "execution_count": null,
   "metadata": {},
   "outputs": [],
   "source": [
    "def plot_station_counts(trip_counts):\n",
    "\n",
    "    folium_map = folium.Map(location=[40.4, -3.7], zoom_start=13,\n",
    "                        tiles=\"CartoDB dark_matter\")\n",
    "    for index, row in trip_counts.iterrows():\n",
    "        \n",
    "        net_departures = (row[\"Departure Count\"]-row[\"Arrival Count\"])\n",
    "        popup_text = \"{}<br> Total Salidas: {}<br> Total Llegadas: {}<br> Balance: {}\"\n",
    "        popup_text = popup_text.format(row[\"name_departure\"],\n",
    "                              row[\"Departure Count\"],\n",
    "                              row[\"Arrival Count\"],\n",
    "                              net_departures)\n",
    "        \n",
    "        radius = abs(net_departures/20)\n",
    "        if net_departures>0:\n",
    "            color=\"#E37222\" # tangerine\n",
    "        else:\n",
    "            color=\"#0A8A9F\" # teal\n",
    "\n",
    "        folium.CircleMarker(location=(row[\"latitude_departure\"],\n",
    "                                      row[\"longitude_departure\"]),\n",
    "                            radius=radius,\n",
    "                            color=color,\n",
    "                            popup=popup_text,\n",
    "                            fill=True).add_to(folium_map)\n",
    "        \n",
    "    return folium_map"
   ]
  },
  {
   "cell_type": "code",
   "execution_count": null,
   "metadata": {},
   "outputs": [],
   "source": [
    "# Ver comportamiento a las 9 AM\n",
    "trip_counts = get_trip_counts_by_hour(9)\n",
    "plot_station_counts(trip_counts)"
   ]
  },
  {
   "cell_type": "code",
   "execution_count": null,
   "metadata": {},
   "outputs": [],
   "source": [
    "trip_counts = get_trip_counts_by_hour(20)\n",
    "plot_station_counts(trip_counts)"
   ]
  },
  {
   "cell_type": "markdown",
   "metadata": {},
   "source": [
    "Se puede visualizar como hay regiones que varian su balance entradas/salidas según la hora del día. Muchas de las que tienen mayor cantidad de partidas durante la mañana son de las que tienen más arribos al finalizar el día. Las del centro (que son las estaciones más utilizadas) mantienen una demanda constante en cualquier horario del día."
   ]
  },
  {
   "cell_type": "markdown",
   "metadata": {},
   "source": [
    "# Visualización animada según hora del día"
   ]
  },
  {
   "cell_type": "code",
   "execution_count": null,
   "metadata": {},
   "outputs": [],
   "source": [
    "\n",
    "\n",
    "    locations = data.groupby([\"hour\",\"code_station_departure\"]).first()\n",
    "    # and select only the tree columns we are interested in\n",
    "    locations = locations.loc[:, [\"latitude_departure\",\n",
    "                              \"longitude_departure\",\n",
    "                              \"name_departure\"]]\n",
    "    \n",
    "    subset = data\n",
    "    subset_arrival = data\n",
    "    \n",
    "    departure_counts =  subset.groupby([\"hour\",\"code_station_departure\"]).count()\n",
    "    # select one column\n",
    "    departure_counts = departure_counts.iloc[:,[0]]\n",
    "    # and rename that column\n",
    "    departure_counts.columns= [\"Departure Count\"]\n",
    "\n",
    "    arrival_counts =  subset_arrival.groupby([\"hour\",\"code_station_arrival\"]).count()\n",
    "    # select one column\n",
    "    arrival_counts = arrival_counts.iloc[:,[0]]\n",
    "    # and rename that column\n",
    "    arrival_counts.columns= [\"Arrival Count\"]\n",
    "    trip_counts_by_hour = departure_counts.join(locations, on=[\"hour\",\"code_station_departure\"]).join(arrival_counts, on = [\"hour\",\"code_station_departure\"])\n",
    "    \n",
    "    trip_counts_by_hour = trip_counts_by_hour.reset_index()\n",
    "    trip_counts_by_hour\n"
   ]
  },
  {
   "cell_type": "code",
   "execution_count": null,
   "metadata": {},
   "outputs": [],
   "source": [
    "import os\n",
    "os.environ[\"PATH\"] += os.pathsep + \".\""
   ]
  },
  {
   "cell_type": "code",
   "execution_count": null,
   "metadata": {},
   "outputs": [],
   "source": [
    "def interpolate(df1, df2, x):\n",
    "    \"\"\"return a weighted average of two dataframes\"\"\"\n",
    "    df = df1 * (1 - x) + df2 * x\n",
    "    return df.replace(np.nan, 0)\n",
    "  \n",
    "\n",
    "def get_trip_counts_by_minute(float_hour):\n",
    "    \"\"\"get an interpolated dataframe for any time, based\n",
    "    on hourly data\"\"\"\n",
    "    \n",
    "    columns = [\"latitude_departure\",\n",
    "               \"longitude_departure\",\n",
    "               \"Departure Count\",\n",
    "               \"Arrival Count\"]\n",
    "    df1 = get_trip_counts_by_hour(int(float_hour))\n",
    "    df2 = get_trip_counts_by_hour(int(float_hour) + 1)\n",
    "    \n",
    "    df = interpolate(df1.loc[:,columns], \n",
    "                     df2.loc[:,columns], \n",
    "                     float_hour % 1)\n",
    "    \n",
    "    df[\"name_departure\"] = df1[\"name_departure\"]\n",
    "    return df"
   ]
  },
  {
   "cell_type": "code",
   "execution_count": null,
   "metadata": {},
   "outputs": [],
   "source": [
    "data2 = get_trip_counts_by_minute(9.5)\n",
    "plot_station_counts(data2)"
   ]
  },
  {
   "cell_type": "code",
   "execution_count": null,
   "metadata": {},
   "outputs": [],
   "source": [
    "def go_arrivals_frame(i, hour_of_day, save_path):\n",
    "    \n",
    "    # create the map object\n",
    "    data = get_trip_counts_by_minute(hour_of_day)\n",
    "    my_frame = plot_station_counts(data)\n",
    "    \n",
    "    # generate the png file as a byte array\n",
    "    png = my_frame._to_png()\n",
    "    \n",
    "    #  now add a caption to the image to indicate the time-of-day.\n",
    "    hour = int(hour_of_day)\n",
    "    minutes = int((hour_of_day % 1) * 60)\n",
    "    \n",
    "    # create a PIL image object\n",
    "    image = Image.open(io.BytesIO(png))\n",
    "    draw = ImageDraw.ImageDraw(image)\n",
    "    \n",
    "    # load a font\n",
    "    font = ImageFont.truetype(\"Roboto-Light.ttf\", 30)\n",
    "    \n",
    "    # draw time of day text\n",
    "    draw.text((20,image.height - 50), \n",
    "              \"time: {:0>2}:{:0>2}h\".format(hour, minutes),\n",
    "              fill=(255, 255, 255), \n",
    "              font=font)\n",
    "    \n",
    "    # draw title\n",
    "    draw.text((image.width - 400,20), \n",
    "              \"Net Arrivals vs Time of Day\",\n",
    "              fill=(255, 255, 255), \n",
    "              font=font)\n",
    "    \n",
    "    # write to a png file\n",
    "    filename = os.path.join(save_path, \"frame_{:0>5}.png\".format(i))\n",
    "    image.save(filename, \"PNG\")\n",
    "    return image"
   ]
  },
  {
   "cell_type": "code",
   "execution_count": null,
   "metadata": {},
   "outputs": [],
   "source": [
    "arrival_times = np.arange(6, 23, .2)\n",
    "frames_to_redo = [27, 41, 74, 100, 105]\n",
    "for i in frames_to_redo:\n",
    "    hour = arrival_times[i]\n",
    "    go_arrivals_frame(i, hour, \"frames\")"
   ]
  },
  {
   "cell_type": "markdown",
   "metadata": {},
   "source": [
    "# Relaciones entre estaciones\n",
    "\n",
    "Se pretende visualizar ahora como se relacionan las estaciones según la hora del día. O sea como es la relación origen - destino en los movimientos de las bicicletas."
   ]
  },
  {
   "cell_type": "code",
   "execution_count": null,
   "metadata": {},
   "outputs": [],
   "source": []
  }
 ],
 "metadata": {
  "kernelspec": {
   "display_name": "Python 3",
   "language": "python",
   "name": "python3"
  },
  "language_info": {
   "codemirror_mode": {
    "name": "ipython",
    "version": 3
   },
   "file_extension": ".py",
   "mimetype": "text/x-python",
   "name": "python",
   "nbconvert_exporter": "python",
   "pygments_lexer": "ipython3",
   "version": "3.6.7"
  }
 },
 "nbformat": 4,
 "nbformat_minor": 2
}
