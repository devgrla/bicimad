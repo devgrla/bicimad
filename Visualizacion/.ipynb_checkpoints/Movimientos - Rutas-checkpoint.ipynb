{
 "cells": [
  {
   "cell_type": "code",
   "execution_count": null,
   "metadata": {},
   "outputs": [],
   "source": [
    "import geopandas as gpd\n",
    "import folium\n",
    "import psycopg2\n",
    "conn = psycopg2.connect(\"host='postgre-sqltest.cpdeokpzufj1.us-west-2.rds.amazonaws.com' port=5432 dbname='postgres' user=xseed password=LosTilos114\")\n",
    "crs = {'init': 'epsg:4326'}\n",
    "style =  {'fillColor': '#1a1aff', 'color': '#1a1aff', 'opacity': .1}"
   ]
  },
  {
   "cell_type": "markdown",
   "metadata": {},
   "source": [
    "# Visualización de movimientos en mapa\n",
    "\n",
    "En este documento se pueden visualizar los movimientos de las bicicletas para un periodo determinado y según varios filtros:\n",
    "\n",
    "* Fecha desde y fecha hasta\n",
    "* Estaciones origen y destino\n",
    "* Rangos de edad\n",
    "* Tipos de usuario"
   ]
  },
  {
   "cell_type": "markdown",
   "metadata": {},
   "source": [
    "Por ejemplo, se visualiza en el siguiente mapa los recorridos de las bicicletas (usuarios anuales y ocasionales) en tre el 10/08 y el 20/08 del 2018"
   ]
  },
  {
   "cell_type": "code",
   "execution_count": null,
   "metadata": {},
   "outputs": [],
   "source": [
    "query = '''\n",
    "select geom geometry from bike_movement_route_line\n",
    "inner join bike_movement bm on bike_movement_route_line.oid_bike_movement = bm.oid\n",
    "where  bm.unplug_hourtime >= '2018-08-10' and bm.unplug_hourtime <= '2018-08-20' and bm.user_type_code <> 3 \n",
    "LIMIT 2000;\n",
    "'''\n",
    "dat = gpd.GeoDataFrame.from_postgis(query, conn, crs=crs, geom_col='geometry')\n",
    "m = folium.Map(location=[40.4, -3.7], zoom_start=13)\n",
    "folium.GeoJson(dat, lambda x: style).add_to(m)\n",
    "m"
   ]
  },
  {
   "cell_type": "markdown",
   "metadata": {},
   "source": [
    "# Movimientos entre estaciones\n",
    "\n",
    "Puede ser de interés establecer un filtro entre algunas estaciones para visualizar como son los movimientos entre ellas.\n",
    "Se pueden modificar los filtros y visualizar en mapa.\n",
    "\n",
    "Solamente se puede visualizar un limite de 2000 movimientos. Es por eso que se ordenan aleatoriamente los resultados para que representen a varios de los días seleccionados."
   ]
  },
  {
   "cell_type": "code",
   "execution_count": null,
   "metadata": {},
   "outputs": [],
   "source": [
    "estacion_origen = 1 \n",
    "estacion_destino = 151 \n",
    "fecha_origen= '2017-04-10 08:00:00'\n",
    "fecha_destino='2019-01-30 10:00:00'"
   ]
  },
  {
   "cell_type": "code",
   "execution_count": null,
   "metadata": {},
   "outputs": [],
   "source": [
    "query = '''\n",
    "select geom geometry from bike_movement_route_line\n",
    "inner join bike_movement bm on bike_movement_route_line.oid_bike_movement = bm.oid\n",
    "where  bm.unplug_hourtime >= '{0}' and bm.unplug_hourtime  <= '{1}' and bm.user_type_code <> 3\n",
    "and bm.idunplug_station = {2} and bm.idplug_station = {3} \n",
    "LIMIT 2000;\n",
    "''';\n",
    "\n",
    "query_estaciones ='''\n",
    "SELECT geom geometry, name, id, num_bases, address from station where id in ( ''' + str(estacion_origen) + ',' + str(estacion_destino) + ''')'''\n",
    "\n",
    "query_estaciones = query_estaciones.format(str(estacion_origen))\n",
    "estaciones = gpd.GeoDataFrame.from_postgis(query_estaciones, conn, crs=crs, geom_col='geometry')\n",
    "\n",
    "query = query.format(fecha_origen, fecha_destino, estacion_origen, estacion_destino)\n",
    "style =  {'fillColor': '#1a1aff', 'color': '#1a1aff', 'opacity': .5}\n",
    "dat = gpd.GeoDataFrame.from_postgis(query, conn, crs=crs, geom_col='geometry')\n",
    "m = folium.Map(location=[40.4, -3.7], zoom_start=13)\n",
    "folium.GeoJson(dat, lambda x: style).add_to(m)\n",
    "folium.GeoJson(estaciones, tooltip=folium.features.GeoJsonTooltip(fields=['id', 'name', 'num_bases', 'address'])).add_to(m)\n",
    "m"
   ]
  },
  {
   "cell_type": "code",
   "execution_count": null,
   "metadata": {},
   "outputs": [],
   "source": []
  }
 ],
 "metadata": {
  "kernelspec": {
   "display_name": "Python 3",
   "language": "python",
   "name": "python3"
  },
  "language_info": {
   "codemirror_mode": {
    "name": "ipython",
    "version": 3
   },
   "file_extension": ".py",
   "mimetype": "text/x-python",
   "name": "python",
   "nbconvert_exporter": "python",
   "pygments_lexer": "ipython3",
   "version": "3.6.7"
  }
 },
 "nbformat": 4,
 "nbformat_minor": 2
}
