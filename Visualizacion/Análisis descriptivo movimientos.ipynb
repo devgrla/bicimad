{
 "cells": [
  {
   "cell_type": "code",
   "execution_count": null,
   "metadata": {},
   "outputs": [],
   "source": [
    "import seaborn as sns\n",
    "import matplotlib.pyplot as plt\n",
    "from matplotlib import rcParams\n",
    "import numpy as np\n",
    "import funciones_movimientos as fm #Funciones customizadas"
   ]
  },
  {
   "cell_type": "markdown",
   "metadata": {},
   "source": [
    "# Gráficos de salidas por hora para ver picos de uso\n",
    "\n",
    "Se divide la informacion entre dias de semana y fines de semana ya que tienen un comportamiento diferente."
   ]
  },
  {
   "cell_type": "code",
   "execution_count": null,
   "metadata": {},
   "outputs": [],
   "source": [
    "fecha_origen = '2017-01-21 08:00:00'\n",
    "fecha_destino = '2019-01-31 23:00:00'\n",
    "user_type_codes = '(0,1,2)' #Todos menos los trabajadores\n",
    "data = fm.get_data_for_trip_counts(fecha_origen, fecha_destino,user_type_codes)"
   ]
  },
  {
   "cell_type": "code",
   "execution_count": null,
   "metadata": {},
   "outputs": [],
   "source": [
    "data_laboral = data[(data.day_week != '6 - Sabádo') & (data.day_week != '7 - Domingo')]\n",
    "data_weekend = data[(data.day_week == '6 - Sabádo') | (data.day_week == '7 - Domingo')]"
   ]
  },
  {
   "cell_type": "markdown",
   "metadata": {},
   "source": [
    "Días de semana"
   ]
  },
  {
   "cell_type": "code",
   "execution_count": null,
   "metadata": {},
   "outputs": [],
   "source": [
    "tmp = data_laboral.groupby(['hour']).count().reset_index().loc[:, [\"hour\", \"user_type_code\"]]\n",
    "tmp.columns = ['hora', 'Cantidad movimientos']\n",
    "tmp.sort_values(by=[\"hora\"], ascending=False).head(50)\n",
    "out = sns.barplot(x='hora', y ='Cantidad movimientos' , data=tmp, ci=0)\n",
    "plt.title(\"Hora vs cantidad salidas\")\n",
    "plt.ylabel('')\n",
    "plt.xlabel('Hora')\n",
    "plt.show()"
   ]
  },
  {
   "cell_type": "markdown",
   "metadata": {},
   "source": [
    "Fines de semana"
   ]
  },
  {
   "cell_type": "code",
   "execution_count": null,
   "metadata": {},
   "outputs": [],
   "source": [
    "tmp = data_weekend.groupby(['hour']).count().reset_index().loc[:, [\"hour\", \"user_type_code\"]]\n",
    "tmp.columns = ['hora', 'Cantidad movimientos']\n",
    "tmp.sort_values(by=[\"hora\"], ascending=False).head(50)\n",
    "out = sns.barplot(x='hora', y ='Cantidad movimientos' , data=tmp,  ci=0)\n",
    "plt.title(\"Hora vs cantidad salidas\")\n",
    "plt.ylabel('')\n",
    "plt.xlabel('Hora')\n",
    "plt.show()"
   ]
  },
  {
   "cell_type": "code",
   "execution_count": null,
   "metadata": {},
   "outputs": [],
   "source": []
  }
 ],
 "metadata": {
  "kernelspec": {
   "display_name": "Python 3",
   "language": "python",
   "name": "python3"
  },
  "language_info": {
   "codemirror_mode": {
    "name": "ipython",
    "version": 3
   },
   "file_extension": ".py",
   "mimetype": "text/x-python",
   "name": "python",
   "nbconvert_exporter": "python",
   "pygments_lexer": "ipython3",
   "version": "3.6.7"
  }
 },
 "nbformat": 4,
 "nbformat_minor": 2
}
