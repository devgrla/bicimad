{
 "cells": [
  {
   "cell_type": "code",
   "execution_count": 2,
   "metadata": {},
   "outputs": [],
   "source": [
    "import seaborn as sns\n",
    "import matplotlib.pyplot as plt\n",
    "from matplotlib import rcParams\n",
    "import numpy as np\n",
    "import json\n",
    "import pandas as pd\n",
    "import funciones_movimientos as fm #Funciones customizadas\n",
    "import funciones_fechas as ff #Funciones customizadas\n",
    "import psycopg2\n",
    "from datetime import date, datetime, timedelta\n",
    "conn = psycopg2.connect(\"host='postgre-sqltest.cpdeokpzufj1.us-west-2.rds.amazonaws.com' port=5432 dbname='postgres' user=xseed password=LosTilos114\")\n",
    "crs = {'init': 'epsg:4326'}\n",
    "\n",
    "def cast_date(date):\n",
    "    return datetime.strptime(date, '%Y-%m-%d')"
   ]
  },
  {
   "cell_type": "code",
   "execution_count": 3,
   "metadata": {},
   "outputs": [],
   "source": [
    "query = '''\n",
    "SELECT  uts.anual_total_use_day, uts.date, wc.precipitation, wc.temp_max, wc.temp_media, wc.temp_min, wc.wind_speed,\n",
    "       aq.dioxido_nitrogeno\n",
    "FROM user_total_statistics uts\n",
    "left join weather_conditions wc on wc.date = uts.date\n",
    "left join air_quality aq on aq.date = uts.date\n",
    "'''\n",
    "\n",
    "data_usos = pd.read_sql(query, conn)\n"
   ]
  },
  {
   "cell_type": "code",
   "execution_count": 4,
   "metadata": {},
   "outputs": [],
   "source": [
    "data_usos['date'] = [str(i) for i in data_usos.date]\n",
    "data_usos['date'] = data_usos.date.apply(cast_date)\n"
   ]
  },
  {
   "cell_type": "code",
   "execution_count": 5,
   "metadata": {},
   "outputs": [],
   "source": [
    "data_usos['season'] = data_usos.apply(ff.get_season_row, axis = 1)"
   ]
  },
  {
   "cell_type": "code",
   "execution_count": 6,
   "metadata": {},
   "outputs": [],
   "source": [
    "data_usos['weekend'] = data_usos.date.apply(ff.isWeekend)"
   ]
  },
  {
   "cell_type": "code",
   "execution_count": 8,
   "metadata": {},
   "outputs": [],
   "source": [
    "data_usos.to_csv('usos_para_modelo.csv')"
   ]
  },
  {
   "cell_type": "code",
   "execution_count": null,
   "metadata": {},
   "outputs": [],
   "source": []
  }
 ],
 "metadata": {
  "kernelspec": {
   "display_name": "Python 3",
   "language": "python",
   "name": "python3"
  },
  "language_info": {
   "codemirror_mode": {
    "name": "ipython",
    "version": 3
   },
   "file_extension": ".py",
   "mimetype": "text/x-python",
   "name": "python",
   "nbconvert_exporter": "python",
   "pygments_lexer": "ipython3",
   "version": "3.6.7"
  }
 },
 "nbformat": 4,
 "nbformat_minor": 2
}
