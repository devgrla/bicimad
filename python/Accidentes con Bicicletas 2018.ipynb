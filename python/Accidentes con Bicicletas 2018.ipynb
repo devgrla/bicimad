{
 "cells": [
  {
   "cell_type": "markdown",
   "metadata": {},
   "source": [
    "# Analisis de los Accidentes con Implicaciones de Bicicletas 2018\n",
    "\n",
    "\n",
    "![](https://static.thenounproject.com/png/11183-200.png)"
   ]
  },
  {
   "cell_type": "markdown",
   "metadata": {},
   "source": [
    "Primero importamos los paquetes de Python que vamos a requerir para la lectura, limpieza, analisis exploratorio y visualización. Para esto utilizamos:\n",
    "\n",
    "* **Pandas** - manipulación y analisis de datos para tablas y series de tiempo\n",
    "* **Datetime** - Conversión a formatos de fecha\n",
    "* **Re** - biblioteca para expresiones regulares\n",
    "* **Numpy** - soporte para vectores y matrices\n",
    "* **Matplotlib** - graficas basado en Matlab\n",
    "* **Seaborn** - herramientas de visualización mas avanzadas"
   ]
  },
  {
   "cell_type": "code",
   "execution_count": 1,
   "metadata": {},
   "outputs": [],
   "source": [
    "import pandas as pd\n",
    "from datetime import date, datetime, timedelta\n",
    "import re\n",
    "import numpy as np\n",
    "import matplotlib.pyplot as plt\n",
    "import seaborn as sns"
   ]
  },
  {
   "cell_type": "markdown",
   "metadata": {},
   "source": [
    "Utilizaremos el archivo de los [accidentes con implicaciones de bicicletas en Madrid de 2018](https://datos.madrid.es/portal/site/egob/menuitem.c05c1f754a33a9fbe4b2e4b284f1a5a0/?vgnextoid=20f4a87ebb65b510VgnVCM1000001d4a900aRCRD&vgnextchannel=374512b9ace9f310VgnVCM100000171f5a0aRCRD&vgnextfmt=default), para lo cual debemos tener en cuenta las siguientes consideraciones:\n",
    "\n",
    "* Es un archivo **CSV**\n",
    "* El archivo no abre con el encoding UTF8, por lo cual hay que utilizar ISO-8859-1. \n",
    "* Los datos estan separados por `;` y no `,` "
   ]
  },
  {
   "cell_type": "code",
   "execution_count": 2,
   "metadata": {},
   "outputs": [],
   "source": [
    "acc = pd.read_csv(\"AccidentesBicicletas_2018.csv\", index_col=False, encoding = \"ISO-8859-1\", sep=';')"
   ]
  },
  {
   "cell_type": "markdown",
   "metadata": {},
   "source": [
    "### Revisión de la Estructura de la Tabla\n",
    "\n",
    "Luego de haber cargado el archivo a nuestro ambiente, exploramos la composición de los datos. Revisamos el numero de filas y columnas, la cantidad de valores vacios, las primeras y ultimas observaciones, el tipo de los datos y el nombre de las **columnas**."
   ]
  },
  {
   "cell_type": "code",
   "execution_count": 4,
   "metadata": {
    "scrolled": true
   },
   "outputs": [
    {
     "data": {
      "text/plain": [
       "Index(['FECHA', 'RANGO HORARIO', 'DIA SEMANA', 'DISTRITO', 'LUGAR ACCIDENTE',\n",
       "       'Nº', 'Nº PARTE', 'CPFA Granizo', 'CPFA Hielo', 'CPFA Lluvia',\n",
       "       'CPFA Niebla', 'CPFA Seco', 'CPFA Nieve', 'CPSV Mojada', 'CPSV Aceite',\n",
       "       'CPSV Barro', 'CPSV Grava Suelta', 'CPSV Hielo', 'CPSV Seca Y Limpia',\n",
       "       '* Nº VICTIMAS', 'TIPO ACCIDENTE', 'Tipo Vehiculo', 'TIPO PERSONA',\n",
       "       'SEXO', 'LESIVIDAD', 'Tramo Edad'],\n",
       "      dtype='object')"
      ]
     },
     "execution_count": 4,
     "metadata": {},
     "output_type": "execute_result"
    }
   ],
   "source": [
    "acc.columns"
   ]
  },
  {
   "cell_type": "markdown",
   "metadata": {},
   "source": [
    "Revisamos la **forma** de la tabla, que nos devuelve la cantidad de filas y columnas."
   ]
  },
  {
   "cell_type": "code",
   "execution_count": 4,
   "metadata": {},
   "outputs": [
    {
     "data": {
      "text/plain": [
       "(700, 26)"
      ]
     },
     "execution_count": 4,
     "metadata": {},
     "output_type": "execute_result"
    }
   ],
   "source": [
    "acc.shape"
   ]
  },
  {
   "cell_type": "markdown",
   "metadata": {},
   "source": [
    "Revisamos la **información** de la tabla, que nos devuelve el numero de datos en cada columna, el tipo de dato y la memoria que ocupa."
   ]
  },
  {
   "cell_type": "code",
   "execution_count": 5,
   "metadata": {},
   "outputs": [
    {
     "name": "stdout",
     "output_type": "stream",
     "text": [
      "<class 'pandas.core.frame.DataFrame'>\n",
      "RangeIndex: 700 entries, 0 to 699\n",
      "Data columns (total 26 columns):\n",
      "FECHA                 700 non-null object\n",
      "RANGO HORARIO         700 non-null object\n",
      "DIA SEMANA            700 non-null object\n",
      "DISTRITO              700 non-null object\n",
      "LUGAR ACCIDENTE       700 non-null object\n",
      "Nº                    700 non-null object\n",
      "Nº PARTE              700 non-null object\n",
      "CPFA Granizo          700 non-null object\n",
      "CPFA Hielo            700 non-null object\n",
      "CPFA Lluvia           700 non-null object\n",
      "CPFA Niebla           700 non-null object\n",
      "CPFA Seco             700 non-null object\n",
      "CPFA Nieve            700 non-null object\n",
      "CPSV Mojada           700 non-null object\n",
      "CPSV Aceite           700 non-null object\n",
      "CPSV Barro            700 non-null object\n",
      "CPSV Grava Suelta     700 non-null object\n",
      "CPSV Hielo            700 non-null object\n",
      "CPSV Seca Y Limpia    700 non-null object\n",
      "* Nº VICTIMAS         700 non-null int64\n",
      "TIPO ACCIDENTE        700 non-null object\n",
      "Tipo Vehiculo         700 non-null object\n",
      "TIPO PERSONA          700 non-null object\n",
      "SEXO                  700 non-null object\n",
      "LESIVIDAD             700 non-null object\n",
      "Tramo Edad            700 non-null object\n",
      "dtypes: int64(1), object(25)\n",
      "memory usage: 142.3+ KB\n"
     ]
    }
   ],
   "source": [
    "acc.info()"
   ]
  },
  {
   "cell_type": "markdown",
   "metadata": {},
   "source": [
    "Vemos una **muestra** de la tabla, para revisar la composición de los datos. Tanto de las primeras como de las ultimas observaciones."
   ]
  },
  {
   "cell_type": "code",
   "execution_count": 51,
   "metadata": {},
   "outputs": [
    {
     "data": {
      "text/html": [
       "<div>\n",
       "<style scoped>\n",
       "    .dataframe tbody tr th:only-of-type {\n",
       "        vertical-align: middle;\n",
       "    }\n",
       "\n",
       "    .dataframe tbody tr th {\n",
       "        vertical-align: top;\n",
       "    }\n",
       "\n",
       "    .dataframe thead th {\n",
       "        text-align: right;\n",
       "    }\n",
       "</style>\n",
       "<table border=\"1\" class=\"dataframe\">\n",
       "  <thead>\n",
       "    <tr style=\"text-align: right;\">\n",
       "      <th></th>\n",
       "      <th>fecha</th>\n",
       "      <th>dia_semana</th>\n",
       "      <th>distrito</th>\n",
       "      <th>lugar</th>\n",
       "      <th>numero</th>\n",
       "      <th>lluvia</th>\n",
       "      <th>mojado</th>\n",
       "      <th>victimas</th>\n",
       "      <th>tipo_accidente</th>\n",
       "      <th>tipo_persona</th>\n",
       "      <th>sexo</th>\n",
       "      <th>lesividad</th>\n",
       "      <th>horain</th>\n",
       "      <th>edadmin</th>\n",
       "    </tr>\n",
       "  </thead>\n",
       "  <tbody>\n",
       "    <tr>\n",
       "      <th>0</th>\n",
       "      <td>2018-01-01 13:00:00</td>\n",
       "      <td>LUNES</td>\n",
       "      <td>ARGANZUELA</td>\n",
       "      <td>CALLE DE ANCORA - PASEO DE LAS DELICIAS       ...</td>\n",
       "      <td>0</td>\n",
       "      <td>NO</td>\n",
       "      <td>NO</td>\n",
       "      <td>1</td>\n",
       "      <td>COLISIÓN DOBLE</td>\n",
       "      <td>CONDUCTOR</td>\n",
       "      <td>HOMBRE</td>\n",
       "      <td>HL</td>\n",
       "      <td>13:00</td>\n",
       "      <td>30.0</td>\n",
       "    </tr>\n",
       "    <tr>\n",
       "      <th>1</th>\n",
       "      <td>2018-01-01 15:00:00</td>\n",
       "      <td>LUNES</td>\n",
       "      <td>CENTRO</td>\n",
       "      <td>CALLE DE ALCALA NUM                           ...</td>\n",
       "      <td>44</td>\n",
       "      <td>NO</td>\n",
       "      <td>NO</td>\n",
       "      <td>2</td>\n",
       "      <td>ATROPELLO</td>\n",
       "      <td>CONDUCTOR</td>\n",
       "      <td>HOMBRE</td>\n",
       "      <td>HL</td>\n",
       "      <td>15:00</td>\n",
       "      <td>25.0</td>\n",
       "    </tr>\n",
       "    <tr>\n",
       "      <th>2</th>\n",
       "      <td>2018-01-02 12:00:00</td>\n",
       "      <td>MARTES</td>\n",
       "      <td>SALAMANCA</td>\n",
       "      <td>CALLE DE SERRANO - CALLE DEL CONDE DE ARANDA  ...</td>\n",
       "      <td>0</td>\n",
       "      <td>NO</td>\n",
       "      <td>NO</td>\n",
       "      <td>2</td>\n",
       "      <td>ATROPELLO</td>\n",
       "      <td>CONDUCTOR</td>\n",
       "      <td>HOMBRE</td>\n",
       "      <td>HL</td>\n",
       "      <td>12:00</td>\n",
       "      <td>40.0</td>\n",
       "    </tr>\n",
       "    <tr>\n",
       "      <th>3</th>\n",
       "      <td>2018-01-03 13:00:00</td>\n",
       "      <td>MIERCOLES</td>\n",
       "      <td>SALAMANCA</td>\n",
       "      <td>PLAZA DE LA INDEPENDENCIA NUM                 ...</td>\n",
       "      <td>5</td>\n",
       "      <td>NO</td>\n",
       "      <td>NO</td>\n",
       "      <td>1</td>\n",
       "      <td>COLISIÓN DOBLE</td>\n",
       "      <td>CONDUCTOR</td>\n",
       "      <td>HOMBRE</td>\n",
       "      <td>HL</td>\n",
       "      <td>13:00</td>\n",
       "      <td>50.0</td>\n",
       "    </tr>\n",
       "    <tr>\n",
       "      <th>4</th>\n",
       "      <td>2018-01-03 15:00:00</td>\n",
       "      <td>MIERCOLES</td>\n",
       "      <td>CIUDAD LINEAL</td>\n",
       "      <td>CALLE DE RAMIREZ DE ARELLANO NUM              ...</td>\n",
       "      <td>35</td>\n",
       "      <td>NO</td>\n",
       "      <td>NO</td>\n",
       "      <td>1</td>\n",
       "      <td>COLISIÓN DOBLE</td>\n",
       "      <td>CONDUCTOR</td>\n",
       "      <td>HOMBRE</td>\n",
       "      <td>HL</td>\n",
       "      <td>15:00</td>\n",
       "      <td>25.0</td>\n",
       "    </tr>\n",
       "  </tbody>\n",
       "</table>\n",
       "</div>"
      ],
      "text/plain": [
       "                fecha dia_semana                        distrito  \\\n",
       "0 2018-01-01 13:00:00      LUNES  ARGANZUELA                       \n",
       "1 2018-01-01 15:00:00      LUNES  CENTRO                           \n",
       "2 2018-01-02 12:00:00     MARTES  SALAMANCA                        \n",
       "3 2018-01-03 13:00:00  MIERCOLES  SALAMANCA                        \n",
       "4 2018-01-03 15:00:00  MIERCOLES  CIUDAD LINEAL                    \n",
       "\n",
       "                                               lugar numero lluvia mojado  \\\n",
       "0  CALLE DE ANCORA - PASEO DE LAS DELICIAS       ...      0     NO     NO   \n",
       "1  CALLE DE ALCALA NUM                           ...     44     NO     NO   \n",
       "2  CALLE DE SERRANO - CALLE DEL CONDE DE ARANDA  ...      0     NO     NO   \n",
       "3  PLAZA DE LA INDEPENDENCIA NUM                 ...      5     NO     NO   \n",
       "4  CALLE DE RAMIREZ DE ARELLANO NUM              ...     35     NO     NO   \n",
       "\n",
       "   victimas                            tipo_accidente tipo_persona    sexo  \\\n",
       "0         1  COLISIÓN DOBLE                              CONDUCTOR  HOMBRE   \n",
       "1         2  ATROPELLO                                   CONDUCTOR  HOMBRE   \n",
       "2         2  ATROPELLO                                   CONDUCTOR  HOMBRE   \n",
       "3         1  COLISIÓN DOBLE                              CONDUCTOR  HOMBRE   \n",
       "4         1  COLISIÓN DOBLE                              CONDUCTOR  HOMBRE   \n",
       "\n",
       "                                  lesividad horain  edadmin  \n",
       "0  HL                                        13:00     30.0  \n",
       "1  HL                                        15:00     25.0  \n",
       "2  HL                                        12:00     40.0  \n",
       "3  HL                                        13:00     50.0  \n",
       "4  HL                                        15:00     25.0  "
      ]
     },
     "execution_count": 51,
     "metadata": {},
     "output_type": "execute_result"
    }
   ],
   "source": [
    "acc2.head()"
   ]
  },
  {
   "cell_type": "code",
   "execution_count": 7,
   "metadata": {},
   "outputs": [
    {
     "data": {
      "text/html": [
       "<div>\n",
       "<style scoped>\n",
       "    .dataframe tbody tr th:only-of-type {\n",
       "        vertical-align: middle;\n",
       "    }\n",
       "\n",
       "    .dataframe tbody tr th {\n",
       "        vertical-align: top;\n",
       "    }\n",
       "\n",
       "    .dataframe thead th {\n",
       "        text-align: right;\n",
       "    }\n",
       "</style>\n",
       "<table border=\"1\" class=\"dataframe\">\n",
       "  <thead>\n",
       "    <tr style=\"text-align: right;\">\n",
       "      <th></th>\n",
       "      <th>FECHA</th>\n",
       "      <th>RANGO HORARIO</th>\n",
       "      <th>DIA SEMANA</th>\n",
       "      <th>DISTRITO</th>\n",
       "      <th>LUGAR ACCIDENTE</th>\n",
       "      <th>Nº</th>\n",
       "      <th>Nº PARTE</th>\n",
       "      <th>CPFA Granizo</th>\n",
       "      <th>CPFA Hielo</th>\n",
       "      <th>CPFA Lluvia</th>\n",
       "      <th>...</th>\n",
       "      <th>CPSV Grava Suelta</th>\n",
       "      <th>CPSV Hielo</th>\n",
       "      <th>CPSV Seca Y Limpia</th>\n",
       "      <th>* Nº VICTIMAS</th>\n",
       "      <th>TIPO ACCIDENTE</th>\n",
       "      <th>Tipo Vehiculo</th>\n",
       "      <th>TIPO PERSONA</th>\n",
       "      <th>SEXO</th>\n",
       "      <th>LESIVIDAD</th>\n",
       "      <th>Tramo Edad</th>\n",
       "    </tr>\n",
       "  </thead>\n",
       "  <tbody>\n",
       "    <tr>\n",
       "      <th>695</th>\n",
       "      <td>25/12/2018</td>\n",
       "      <td>DE 12:00 A 12:59</td>\n",
       "      <td>MARTES</td>\n",
       "      <td>FUENCARRAL-EL PARDO</td>\n",
       "      <td>CALLE DE BRAOJOS NUM                          ...</td>\n",
       "      <td>10</td>\n",
       "      <td>2018/16468</td>\n",
       "      <td>NO</td>\n",
       "      <td>NO</td>\n",
       "      <td>NO</td>\n",
       "      <td>...</td>\n",
       "      <td>NO</td>\n",
       "      <td>NO</td>\n",
       "      <td>SI</td>\n",
       "      <td>1</td>\n",
       "      <td>CAÍDA BICICLETA</td>\n",
       "      <td>BICICLETA</td>\n",
       "      <td>CONDUCTOR</td>\n",
       "      <td>HOMBRE</td>\n",
       "      <td>HL</td>\n",
       "      <td>DE 25 A 29 AÑOS</td>\n",
       "    </tr>\n",
       "    <tr>\n",
       "      <th>696</th>\n",
       "      <td>28/12/2018</td>\n",
       "      <td>DE 9:00 A 9:59</td>\n",
       "      <td>VIERNES</td>\n",
       "      <td>CHAMARTIN</td>\n",
       "      <td>PASEO DE LA CASTELLANA - PASEO DE LA HABANA   ...</td>\n",
       "      <td>0</td>\n",
       "      <td>2018/16651</td>\n",
       "      <td>NO</td>\n",
       "      <td>NO</td>\n",
       "      <td>NO</td>\n",
       "      <td>...</td>\n",
       "      <td>NO</td>\n",
       "      <td>NO</td>\n",
       "      <td>SI</td>\n",
       "      <td>1</td>\n",
       "      <td>COLISIÓN DOBLE</td>\n",
       "      <td>BICICLETA</td>\n",
       "      <td>CONDUCTOR</td>\n",
       "      <td>HOMBRE</td>\n",
       "      <td>HL</td>\n",
       "      <td>DE 25 A 29 AÑOS</td>\n",
       "    </tr>\n",
       "    <tr>\n",
       "      <th>697</th>\n",
       "      <td>28/12/2018</td>\n",
       "      <td>DE 14:00 A 14:59</td>\n",
       "      <td>VIERNES</td>\n",
       "      <td>CENTRO</td>\n",
       "      <td>CALLE DE GENOVA NUM                           ...</td>\n",
       "      <td>2</td>\n",
       "      <td>2018/16626</td>\n",
       "      <td>NO</td>\n",
       "      <td>NO</td>\n",
       "      <td>NO</td>\n",
       "      <td>...</td>\n",
       "      <td>NO</td>\n",
       "      <td>NO</td>\n",
       "      <td>SI</td>\n",
       "      <td>2</td>\n",
       "      <td>COLISIÓN DOBLE</td>\n",
       "      <td>BICICLETA</td>\n",
       "      <td>CONDUCTOR</td>\n",
       "      <td>HOMBRE</td>\n",
       "      <td>HL</td>\n",
       "      <td>DE 18 A 20 AÑOS</td>\n",
       "    </tr>\n",
       "    <tr>\n",
       "      <th>698</th>\n",
       "      <td>29/12/2018</td>\n",
       "      <td>DE 10:00 A 10:59</td>\n",
       "      <td>SABADO</td>\n",
       "      <td>TETUAN</td>\n",
       "      <td>CALLE DE BRAVO MURILLO NUM                    ...</td>\n",
       "      <td>105</td>\n",
       "      <td>2019/57</td>\n",
       "      <td>NO</td>\n",
       "      <td>NO</td>\n",
       "      <td>NO</td>\n",
       "      <td>...</td>\n",
       "      <td>NO</td>\n",
       "      <td>NO</td>\n",
       "      <td>SI</td>\n",
       "      <td>1</td>\n",
       "      <td>COLISIÓN DOBLE</td>\n",
       "      <td>BICICLETA</td>\n",
       "      <td>CONDUCTOR</td>\n",
       "      <td>HOMBRE</td>\n",
       "      <td>HL</td>\n",
       "      <td>DE 55 A 59 AÑOS</td>\n",
       "    </tr>\n",
       "    <tr>\n",
       "      <th>699</th>\n",
       "      <td>29/12/2018</td>\n",
       "      <td>DE 19:00 A 19:59</td>\n",
       "      <td>SABADO</td>\n",
       "      <td>CHAMBERI</td>\n",
       "      <td>CALLE DE SANTA ENGRACIA NUM                   ...</td>\n",
       "      <td>135</td>\n",
       "      <td>2018/16655</td>\n",
       "      <td>NO</td>\n",
       "      <td>NO</td>\n",
       "      <td>NO</td>\n",
       "      <td>...</td>\n",
       "      <td>NO</td>\n",
       "      <td>NO</td>\n",
       "      <td>SI</td>\n",
       "      <td>1</td>\n",
       "      <td>CAÍDA BICICLETA</td>\n",
       "      <td>BICICLETA</td>\n",
       "      <td>CONDUCTOR</td>\n",
       "      <td>HOMBRE</td>\n",
       "      <td>HL</td>\n",
       "      <td>DE 40 A 44 AÑOS</td>\n",
       "    </tr>\n",
       "  </tbody>\n",
       "</table>\n",
       "<p>5 rows × 26 columns</p>\n",
       "</div>"
      ],
      "text/plain": [
       "          FECHA     RANGO HORARIO DIA SEMANA                        DISTRITO  \\\n",
       "695  25/12/2018  DE 12:00 A 12:59     MARTES  FUENCARRAL-EL PARDO              \n",
       "696  28/12/2018    DE 9:00 A 9:59    VIERNES  CHAMARTIN                        \n",
       "697  28/12/2018  DE 14:00 A 14:59    VIERNES  CENTRO                           \n",
       "698  29/12/2018  DE 10:00 A 10:59     SABADO  TETUAN                           \n",
       "699  29/12/2018  DE 19:00 A 19:59     SABADO  CHAMBERI                         \n",
       "\n",
       "                                       LUGAR ACCIDENTE   Nº    Nº PARTE  \\\n",
       "695  CALLE DE BRAOJOS NUM                          ...   10  2018/16468   \n",
       "696  PASEO DE LA CASTELLANA - PASEO DE LA HABANA   ...    0  2018/16651   \n",
       "697  CALLE DE GENOVA NUM                           ...    2  2018/16626   \n",
       "698  CALLE DE BRAVO MURILLO NUM                    ...  105     2019/57   \n",
       "699  CALLE DE SANTA ENGRACIA NUM                   ...  135  2018/16655   \n",
       "\n",
       "    CPFA Granizo CPFA Hielo CPFA Lluvia       ...        CPSV Grava Suelta  \\\n",
       "695           NO         NO          NO       ...                       NO   \n",
       "696           NO         NO          NO       ...                       NO   \n",
       "697           NO         NO          NO       ...                       NO   \n",
       "698           NO         NO          NO       ...                       NO   \n",
       "699           NO         NO          NO       ...                       NO   \n",
       "\n",
       "    CPSV Hielo CPSV Seca Y Limpia * Nº VICTIMAS  \\\n",
       "695         NO                 SI             1   \n",
       "696         NO                 SI             1   \n",
       "697         NO                 SI             2   \n",
       "698         NO                 SI             1   \n",
       "699         NO                 SI             1   \n",
       "\n",
       "                               TIPO ACCIDENTE  \\\n",
       "695  CAÍDA BICICLETA                            \n",
       "696  COLISIÓN DOBLE                             \n",
       "697  COLISIÓN DOBLE                             \n",
       "698  COLISIÓN DOBLE                             \n",
       "699  CAÍDA BICICLETA                            \n",
       "\n",
       "                                Tipo Vehiculo TIPO PERSONA    SEXO  \\\n",
       "695  BICICLETA                                   CONDUCTOR  HOMBRE   \n",
       "696  BICICLETA                                   CONDUCTOR  HOMBRE   \n",
       "697  BICICLETA                                   CONDUCTOR  HOMBRE   \n",
       "698  BICICLETA                                   CONDUCTOR  HOMBRE   \n",
       "699  BICICLETA                                   CONDUCTOR  HOMBRE   \n",
       "\n",
       "                                    LESIVIDAD       Tramo Edad  \n",
       "695  HL                                        DE 25 A 29 AÑOS  \n",
       "696  HL                                        DE 25 A 29 AÑOS  \n",
       "697  HL                                        DE 18 A 20 AÑOS  \n",
       "698  HL                                        DE 55 A 59 AÑOS  \n",
       "699  HL                                        DE 40 A 44 AÑOS  \n",
       "\n",
       "[5 rows x 26 columns]"
      ]
     },
     "execution_count": 7,
     "metadata": {},
     "output_type": "execute_result"
    }
   ],
   "source": [
    "acc.tail()"
   ]
  },
  {
   "cell_type": "markdown",
   "metadata": {},
   "source": [
    "\n",
    "\n",
    "Observamos la **descripción** de los datos numericos, donde podemos ver la media, desviación estandar, valor minimo, valor maximo, entre otros.\n"
   ]
  },
  {
   "cell_type": "code",
   "execution_count": 8,
   "metadata": {},
   "outputs": [
    {
     "data": {
      "text/html": [
       "<div>\n",
       "<style scoped>\n",
       "    .dataframe tbody tr th:only-of-type {\n",
       "        vertical-align: middle;\n",
       "    }\n",
       "\n",
       "    .dataframe tbody tr th {\n",
       "        vertical-align: top;\n",
       "    }\n",
       "\n",
       "    .dataframe thead th {\n",
       "        text-align: right;\n",
       "    }\n",
       "</style>\n",
       "<table border=\"1\" class=\"dataframe\">\n",
       "  <thead>\n",
       "    <tr style=\"text-align: right;\">\n",
       "      <th></th>\n",
       "      <th>* Nº VICTIMAS</th>\n",
       "    </tr>\n",
       "  </thead>\n",
       "  <tbody>\n",
       "    <tr>\n",
       "      <th>count</th>\n",
       "      <td>700.000000</td>\n",
       "    </tr>\n",
       "    <tr>\n",
       "      <th>mean</th>\n",
       "      <td>1.127143</td>\n",
       "    </tr>\n",
       "    <tr>\n",
       "      <th>std</th>\n",
       "      <td>0.618832</td>\n",
       "    </tr>\n",
       "    <tr>\n",
       "      <th>min</th>\n",
       "      <td>1.000000</td>\n",
       "    </tr>\n",
       "    <tr>\n",
       "      <th>25%</th>\n",
       "      <td>1.000000</td>\n",
       "    </tr>\n",
       "    <tr>\n",
       "      <th>50%</th>\n",
       "      <td>1.000000</td>\n",
       "    </tr>\n",
       "    <tr>\n",
       "      <th>75%</th>\n",
       "      <td>1.000000</td>\n",
       "    </tr>\n",
       "    <tr>\n",
       "      <th>max</th>\n",
       "      <td>15.000000</td>\n",
       "    </tr>\n",
       "  </tbody>\n",
       "</table>\n",
       "</div>"
      ],
      "text/plain": [
       "       * Nº VICTIMAS\n",
       "count     700.000000\n",
       "mean        1.127143\n",
       "std         0.618832\n",
       "min         1.000000\n",
       "25%         1.000000\n",
       "50%         1.000000\n",
       "75%         1.000000\n",
       "max        15.000000"
      ]
     },
     "execution_count": 8,
     "metadata": {},
     "output_type": "execute_result"
    }
   ],
   "source": [
    "acc.describe()"
   ]
  },
  {
   "cell_type": "markdown",
   "metadata": {},
   "source": [
    "### Limpieza de Datos\n",
    "\n",
    "Teniendo ya información mas detallada del archivo podemos proceder con su limpieza, eliminando las columnas que no son utiles para el analisis objetivo y convirtiendo los datos a el formato deseado. Por ejemplo, podemos observar que la mayoria de columnas estan en formato de texto. Columnas como la fecha debemos pasar a un formato Datetime y columnas como la edad deben estar en formato numerico. "
   ]
  },
  {
   "cell_type": "markdown",
   "metadata": {},
   "source": [
    "En primer lugar, eliminamos las columnas de numero de parte, que no nos agrega información relevante para nuestro analisis y las de condiciones climaticas y del estado del suelo, excepto la de lluvia y mojado, pues muy pocos accidentes ocurren bajo esas condiciones por lo cual no agregaran valor. Además, elimnamos el tipo de vehiculo, pues todas las observaciónes son igual a bicicleta y tipo de persona porque la mayoria de los resultados son **CONDUCTOR**, unos pocos son **VIAJEROS** y solo una observación es **TESTIGO**. "
   ]
  },
  {
   "cell_type": "code",
   "execution_count": 3,
   "metadata": {},
   "outputs": [],
   "source": [
    "acc2 = acc.drop(['Nº PARTE', 'CPFA Granizo', 'CPFA Hielo',\n",
    "       'CPFA Niebla', 'CPFA Seco', 'CPFA Nieve', 'CPSV Aceite',\n",
    "       'CPSV Barro', 'CPSV Grava Suelta', 'CPSV Hielo', 'CPSV Seca Y Limpia', 'Tipo Vehiculo', 'TIPO PERSONA'], 1)"
   ]
  },
  {
   "cell_type": "markdown",
   "metadata": {},
   "source": [
    "Ahora, renombramos las columnas para tener nombres simples, faciles de manipular."
   ]
  },
  {
   "cell_type": "code",
   "execution_count": 4,
   "metadata": {},
   "outputs": [],
   "source": [
    "etiquetas = ['fecha', 'rango_hora', 'dia_semana', 'distrito', 'lugar', 'numero', 'lluvia', 'mojado', 'victimas', \n",
    "             'tipo_accidente', 'sexo', 'lesividad', 'rango_edad']\n",
    "acc2.columns = etiquetas"
   ]
  },
  {
   "cell_type": "markdown",
   "metadata": {},
   "source": [
    "Extraemos de la columna `rango hora`, la hora de inicio del rango y creamos una nueva columna con esos datos"
   ]
  },
  {
   "cell_type": "code",
   "execution_count": 5,
   "metadata": {},
   "outputs": [],
   "source": [
    "def extrae_hora(t):\n",
    "    _, horain, _, _, = t.rango_hora.split(' ')\n",
    "    return horain\n",
    "\n",
    "acc2['horain'] = acc2.apply(extrae_hora, axis = 1)"
   ]
  },
  {
   "cell_type": "markdown",
   "metadata": {},
   "source": [
    "Juntamos la hora con la fecha y utilizamos una formula para convertir los datos de la columna `fecha`, de texto a **datetime**."
   ]
  },
  {
   "cell_type": "code",
   "execution_count": 6,
   "metadata": {},
   "outputs": [],
   "source": [
    "acc2['fecha'] = acc2.fecha + ' ' + acc2.horain"
   ]
  },
  {
   "cell_type": "code",
   "execution_count": 7,
   "metadata": {},
   "outputs": [],
   "source": [
    "formato2 = '%d/%m/%Y %H:%M'\n",
    "fecha = '01/01/1949 20:30'\n",
    "\n",
    "def parse_fecha(fecha):\n",
    "        a = datetime.strptime(fecha, formato2)\n",
    "        return a\n",
    "\n",
    "acc2.fecha = acc2.fecha.apply(parse_fecha)"
   ]
  },
  {
   "cell_type": "markdown",
   "metadata": {},
   "source": [
    "Tambien utilizamos una función para extraer de la columna `rango edad`, la edad minima del rango. Teniendo en cuenta a la vez que hay filas donde el valor es desconocido y sera remplazado por `missing value`."
   ]
  },
  {
   "cell_type": "code",
   "execution_count": 8,
   "metadata": {},
   "outputs": [
    {
     "name": "stdout",
     "output_type": "stream",
     "text": [
      "desconocido\n",
      "desconocido\n",
      "desconocido\n",
      "desconocido\n",
      "desconocido\n",
      "desconocido\n",
      "desconocido\n",
      "desconocido\n",
      "desconocido\n",
      "desconocido\n",
      "desconocido\n",
      "desconocido\n",
      "desconocido\n",
      "desconocido\n",
      "desconocido\n",
      "desconocido\n",
      "desconocido\n",
      "desconocido\n",
      "desconocido\n",
      "desconocido\n",
      "desconocido\n"
     ]
    }
   ],
   "source": [
    "def extrae_edad(e):\n",
    "    try:\n",
    "        _, edadmin, _, _, _, = e.rango_edad.split(' ')\n",
    "        return edadmin\n",
    "    except:\n",
    "        print('desconocido')\n",
    "        return None\n",
    "\n",
    "acc2['edadmin'] = acc2.apply(extrae_edad, axis = 1)"
   ]
  },
  {
   "cell_type": "markdown",
   "metadata": {},
   "source": [
    "Al haber hecho la conversión de las columnas `rango hora` y `rango edad`, a formatos mas utiles, los podemos eliminar de la tabla."
   ]
  },
  {
   "cell_type": "code",
   "execution_count": 9,
   "metadata": {},
   "outputs": [],
   "source": [
    "acc2 = acc2.drop(['rango_hora', 'rango_edad'], 1)"
   ]
  },
  {
   "cell_type": "markdown",
   "metadata": {},
   "source": [
    "Para tener un desempeño optimo de la memoria ocupada por cada dataset convertimos algunas variables de formato texto a formato `categorico`. "
   ]
  },
  {
   "cell_type": "code",
   "execution_count": 10,
   "metadata": {},
   "outputs": [],
   "source": [
    "acc2.lluvia = acc2.lluvia.astype('category')\n",
    "acc2.mojado = acc2.mojado.astype('category')"
   ]
  },
  {
   "cell_type": "markdown",
   "metadata": {},
   "source": [
    "Adicionalmente, convertimos la columna de edad, extraida previamente, de texto a `entero`. Utilizamos el parametro errors con el valor de `coerce` para que convierta los valores no numericos en `missing values`."
   ]
  },
  {
   "cell_type": "code",
   "execution_count": 11,
   "metadata": {},
   "outputs": [],
   "source": [
    "acc2['edadmin'] = pd.to_numeric(acc2['edadmin'], errors='coerce')"
   ]
  },
  {
   "cell_type": "markdown",
   "metadata": {},
   "source": [
    "Eliminamos los espacios vacios de nuestros resultados para no tener conflictos al realizar filtros."
   ]
  },
  {
   "cell_type": "code",
   "execution_count": 12,
   "metadata": {},
   "outputs": [],
   "source": [
    "acc3 = acc2.apply(lambda fila: fila.str.strip() if fila.dtype == 'object' else fila)"
   ]
  },
  {
   "cell_type": "markdown",
   "metadata": {},
   "source": [
    "Por ultimo, construimos una columna con el valor del mes de cuando ocurrio el accidente. "
   ]
  },
  {
   "cell_type": "code",
   "execution_count": 13,
   "metadata": {},
   "outputs": [],
   "source": [
    "acc3['mes'] = acc3.apply(lambda fila: fila.fecha.month, axis=1)"
   ]
  },
  {
   "cell_type": "markdown",
   "metadata": {},
   "source": [
    "### Analisis Exploratorio Estadistico y Visual\n",
    "\n",
    "Una vez que contamos con los datos que deseamos evaluar y los tenemos disponibles en el formato deseado podemos empezar a explorar los resultados para tener una idea de la distribución de las variables y como estan relacionadas. \n",
    "\n",
    "Para realizar esta tarea podemos utilizar herramientas estadisticas como la desviación estandar, media, mediana, maximos y minimos. Tambien podemos utiliar histogramas y graficos de dispersión."
   ]
  },
  {
   "cell_type": "markdown",
   "metadata": {},
   "source": [
    "_Empezamos_, analizando con mayor profundidad las columnas de interes. Detallamos los resultados y su **distribucción**, de las siguientes columnas:\n",
    "\n",
    "* Numero de victimas"
   ]
  },
  {
   "cell_type": "code",
   "execution_count": 14,
   "metadata": {},
   "outputs": [
    {
     "data": {
      "text/plain": [
       "1     628\n",
       "2      67\n",
       "3       4\n",
       "15      1\n",
       "Name: victimas, dtype: int64"
      ]
     },
     "execution_count": 14,
     "metadata": {},
     "output_type": "execute_result"
    }
   ],
   "source": [
    "acc3['victimas'].value_counts(dropna=False)"
   ]
  },
  {
   "cell_type": "markdown",
   "metadata": {},
   "source": [
    "En la columna de victimas vemos que hay un outlier que puede contaminar la muestra y dificultar el analisis grafico de las variables. Por lo cual, haremos una copia de la tabla que no incluya este valor."
   ]
  },
  {
   "cell_type": "code",
   "execution_count": 15,
   "metadata": {},
   "outputs": [],
   "source": [
    "acc4 = acc3[acc3['victimas'] < 14]"
   ]
  },
  {
   "cell_type": "markdown",
   "metadata": {},
   "source": [
    "* Tipo de Accidente"
   ]
  },
  {
   "cell_type": "code",
   "execution_count": 17,
   "metadata": {},
   "outputs": [
    {
     "data": {
      "text/plain": [
       "COLISIÓN DOBLE            315\n",
       "CAÍDA BICICLETA           295\n",
       "ATROPELLO                  61\n",
       "CHOQUE CON OBJETO FIJO     16\n",
       "CAÍDA MOTOCICLETA           7\n",
       "COLISIÓN MÚLTIPLE           5\n",
       "Name: tipo_accidente, dtype: int64"
      ]
     },
     "execution_count": 17,
     "metadata": {},
     "output_type": "execute_result"
    }
   ],
   "source": [
    "acc4['tipo_accidente'].value_counts(dropna=False)"
   ]
  },
  {
   "cell_type": "markdown",
   "metadata": {},
   "source": [
    "* Lesividad"
   ]
  },
  {
   "cell_type": "code",
   "execution_count": 16,
   "metadata": {},
   "outputs": [
    {
     "data": {
      "text/plain": [
       "HL             569\n",
       "IL              61\n",
       "HG              60\n",
       "NO ASIGNADA      9\n",
       "Name: lesividad, dtype: int64"
      ]
     },
     "execution_count": 16,
     "metadata": {},
     "output_type": "execute_result"
    }
   ],
   "source": [
    "acc4['lesividad'].value_counts(dropna=False)"
   ]
  },
  {
   "cell_type": "markdown",
   "metadata": {},
   "source": [
    "* Lluvia"
   ]
  },
  {
   "cell_type": "code",
   "execution_count": 33,
   "metadata": {},
   "outputs": [
    {
     "data": {
      "text/plain": [
       "NO    632\n",
       "SI     67\n",
       "Name: lluvia, dtype: int64"
      ]
     },
     "execution_count": 33,
     "metadata": {},
     "output_type": "execute_result"
    }
   ],
   "source": [
    "acc4['lluvia'].value_counts(dropna=False)"
   ]
  },
  {
   "cell_type": "markdown",
   "metadata": {},
   "source": [
    "* Distrito"
   ]
  },
  {
   "cell_type": "code",
   "execution_count": 34,
   "metadata": {},
   "outputs": [
    {
     "data": {
      "text/plain": [
       "CENTRO                 123\n",
       "RETIRO                  52\n",
       "CHAMBERI                51\n",
       "MONCLOA-ARAVACA         51\n",
       "SALAMANCA               48\n",
       "CARABANCHEL             36\n",
       "LATINA                  35\n",
       "TETUAN                  34\n",
       "FUENCARRAL-EL PARDO     33\n",
       "ARGANZUELA              33\n",
       "PUENTE DE VALLECAS      29\n",
       "CHAMARTIN               26\n",
       "CIUDAD LINEAL           26\n",
       "SAN BLAS                24\n",
       "HORTALEZA               22\n",
       "USERA                   18\n",
       "VILLA DE VALLECAS       15\n",
       "MORATALAZ               13\n",
       "VILLAVERDE              12\n",
       "VICALVARO               10\n",
       "BARAJAS                  8\n",
       "Name: distrito, dtype: int64"
      ]
     },
     "execution_count": 34,
     "metadata": {},
     "output_type": "execute_result"
    }
   ],
   "source": [
    "acc4['distrito'].value_counts(dropna=False)"
   ]
  },
  {
   "cell_type": "markdown",
   "metadata": {
    "scrolled": true
   },
   "source": [
    "* Dia de la Semana"
   ]
  },
  {
   "cell_type": "code",
   "execution_count": 53,
   "metadata": {},
   "outputs": [
    {
     "data": {
      "text/plain": [
       "JUEVES       117\n",
       "MARTES       106\n",
       "VIERNES      101\n",
       "MIERCOLES    100\n",
       "SABADO        99\n",
       "LUNES         91\n",
       "DOMINGO       86\n",
       "Name: dia_semana, dtype: int64"
      ]
     },
     "execution_count": 53,
     "metadata": {},
     "output_type": "execute_result"
    }
   ],
   "source": [
    "acc4['dia_semana'].value_counts(dropna=False)"
   ]
  },
  {
   "cell_type": "markdown",
   "metadata": {},
   "source": [
    "* Hora Inicial"
   ]
  },
  {
   "cell_type": "code",
   "execution_count": 18,
   "metadata": {
    "scrolled": true
   },
   "outputs": [
    {
     "data": {
      "text/plain": [
       "19:00    60\n",
       "13:00    53\n",
       "18:00    50\n",
       "15:00    47\n",
       "9:00     46\n",
       "16:00    45\n",
       "21:00    44\n",
       "12:00    41\n",
       "20:00    40\n",
       "14:00    39\n",
       "11:00    38\n",
       "10:00    34\n",
       "22:00    30\n",
       "17:00    27\n",
       "8:00     26\n",
       "00:00    16\n",
       "7:00     16\n",
       "23:00    13\n",
       "1:00      9\n",
       "2:00      7\n",
       "4:00      5\n",
       "5:00      5\n",
       "3:00      5\n",
       "6:00      3\n",
       "Name: horain, dtype: int64"
      ]
     },
     "execution_count": 18,
     "metadata": {},
     "output_type": "execute_result"
    }
   ],
   "source": [
    "acc4['horain'].value_counts(dropna=False)"
   ]
  },
  {
   "cell_type": "markdown",
   "metadata": {},
   "source": [
    "* Sexo"
   ]
  },
  {
   "cell_type": "code",
   "execution_count": 55,
   "metadata": {},
   "outputs": [
    {
     "data": {
      "text/plain": [
       "HOMBRE         546\n",
       "MUJER          142\n",
       "NO ASIGNADO     11\n",
       "Name: sexo, dtype: int64"
      ]
     },
     "execution_count": 55,
     "metadata": {},
     "output_type": "execute_result"
    }
   ],
   "source": [
    "acc4['sexo'].value_counts(dropna=False)"
   ]
  },
  {
   "cell_type": "markdown",
   "metadata": {},
   "source": [
    "* Edad"
   ]
  },
  {
   "cell_type": "code",
   "execution_count": 19,
   "metadata": {},
   "outputs": [
    {
     "data": {
      "text/plain": [
       " 25.0    111\n",
       " 30.0    102\n",
       " 35.0     83\n",
       " 40.0     79\n",
       " 45.0     56\n",
       " 50.0     48\n",
       " 18.0     47\n",
       " 21.0     40\n",
       " 55.0     36\n",
       " 15.0     25\n",
       "NaN       21\n",
       " 10.0     18\n",
       " 60.0     14\n",
       " 65.0     11\n",
       " 70.0      8\n",
       "Name: edadmin, dtype: int64"
      ]
     },
     "execution_count": 19,
     "metadata": {},
     "output_type": "execute_result"
    }
   ],
   "source": [
    "acc4['edadmin'].value_counts(dropna=False)"
   ]
  },
  {
   "cell_type": "code",
   "execution_count": 20,
   "metadata": {},
   "outputs": [
    {
     "data": {
      "text/plain": [
       "9     80\n",
       "6     79\n",
       "7     70\n",
       "10    69\n",
       "11    62\n",
       "8     61\n",
       "5     60\n",
       "4     54\n",
       "1     53\n",
       "2     44\n",
       "3     34\n",
       "12    33\n",
       "Name: mes, dtype: int64"
      ]
     },
     "execution_count": 20,
     "metadata": {},
     "output_type": "execute_result"
    }
   ],
   "source": [
    "acc4['mes'].value_counts(dropna=False)"
   ]
  },
  {
   "cell_type": "markdown",
   "metadata": {},
   "source": [
    "De este analisis podemos concluir que a grandes rasgos no hay problemas masivos con la calidad de los datos. En la columna de edad tenemos 21 `missing values`, en la columna de sexo hay 11 resultados no asingados, en la columna de lesividad hay 9 resultados no asignados y las demas columnas tienen valores completos en la totalidad de sus observaciones."
   ]
  },
  {
   "cell_type": "markdown",
   "metadata": {},
   "source": [
    "Volvemos a realizar las funciones de info y describe para ver como los cambios han afectado las columnas, los tipo de datos, el peso del archivo y, de las variables numericas, observar la media, error estandar, maximo, minimo y percentiles. Podemos ver que el archvo paso de 142.3+ KB a 78.0+ KB. Previamente habian int64(1), object(25) y pasamos a category(2), datetime64ns(1), float64(1), int64(2), object(9)."
   ]
  },
  {
   "cell_type": "code",
   "execution_count": 21,
   "metadata": {
    "scrolled": true
   },
   "outputs": [
    {
     "name": "stdout",
     "output_type": "stream",
     "text": [
      "<class 'pandas.core.frame.DataFrame'>\n",
      "Int64Index: 699 entries, 0 to 699\n",
      "Data columns (total 15 columns):\n",
      "fecha             699 non-null datetime64[ns]\n",
      "dia_semana        699 non-null object\n",
      "distrito          699 non-null object\n",
      "lugar             699 non-null object\n",
      "numero            699 non-null object\n",
      "lluvia            699 non-null category\n",
      "mojado            699 non-null category\n",
      "victimas          699 non-null int64\n",
      "tipo_accidente    699 non-null object\n",
      "tipo_persona      699 non-null object\n",
      "sexo              699 non-null object\n",
      "lesividad         699 non-null object\n",
      "horain            699 non-null object\n",
      "edadmin           678 non-null float64\n",
      "mes               699 non-null int64\n",
      "dtypes: category(2), datetime64[ns](1), float64(1), int64(2), object(9)\n",
      "memory usage: 78.0+ KB\n"
     ]
    }
   ],
   "source": [
    "acc4.info()"
   ]
  },
  {
   "cell_type": "markdown",
   "metadata": {},
   "source": [
    "De las variables numericas podemos concluir que la mayoria de los accidentes tienen solo una victima y que la edad promedio es de 34 años."
   ]
  },
  {
   "cell_type": "code",
   "execution_count": 117,
   "metadata": {},
   "outputs": [
    {
     "data": {
      "text/html": [
       "<div>\n",
       "<style scoped>\n",
       "    .dataframe tbody tr th:only-of-type {\n",
       "        vertical-align: middle;\n",
       "    }\n",
       "\n",
       "    .dataframe tbody tr th {\n",
       "        vertical-align: top;\n",
       "    }\n",
       "\n",
       "    .dataframe thead th {\n",
       "        text-align: right;\n",
       "    }\n",
       "</style>\n",
       "<table border=\"1\" class=\"dataframe\">\n",
       "  <thead>\n",
       "    <tr style=\"text-align: right;\">\n",
       "      <th></th>\n",
       "      <th>victimas</th>\n",
       "      <th>edadmin</th>\n",
       "      <th>mes</th>\n",
       "    </tr>\n",
       "  </thead>\n",
       "  <tbody>\n",
       "    <tr>\n",
       "      <th>count</th>\n",
       "      <td>699.000000</td>\n",
       "      <td>678.000000</td>\n",
       "      <td>699.000000</td>\n",
       "    </tr>\n",
       "    <tr>\n",
       "      <th>mean</th>\n",
       "      <td>1.107296</td>\n",
       "      <td>34.153392</td>\n",
       "      <td>6.722461</td>\n",
       "    </tr>\n",
       "    <tr>\n",
       "      <th>std</th>\n",
       "      <td>0.327692</td>\n",
       "      <td>13.149636</td>\n",
       "      <td>3.194317</td>\n",
       "    </tr>\n",
       "    <tr>\n",
       "      <th>min</th>\n",
       "      <td>1.000000</td>\n",
       "      <td>10.000000</td>\n",
       "      <td>1.000000</td>\n",
       "    </tr>\n",
       "    <tr>\n",
       "      <th>25%</th>\n",
       "      <td>1.000000</td>\n",
       "      <td>25.000000</td>\n",
       "      <td>4.000000</td>\n",
       "    </tr>\n",
       "    <tr>\n",
       "      <th>50%</th>\n",
       "      <td>1.000000</td>\n",
       "      <td>30.000000</td>\n",
       "      <td>7.000000</td>\n",
       "    </tr>\n",
       "    <tr>\n",
       "      <th>75%</th>\n",
       "      <td>1.000000</td>\n",
       "      <td>45.000000</td>\n",
       "      <td>9.000000</td>\n",
       "    </tr>\n",
       "    <tr>\n",
       "      <th>max</th>\n",
       "      <td>3.000000</td>\n",
       "      <td>70.000000</td>\n",
       "      <td>12.000000</td>\n",
       "    </tr>\n",
       "  </tbody>\n",
       "</table>\n",
       "</div>"
      ],
      "text/plain": [
       "         victimas     edadmin         mes\n",
       "count  699.000000  678.000000  699.000000\n",
       "mean     1.107296   34.153392    6.722461\n",
       "std      0.327692   13.149636    3.194317\n",
       "min      1.000000   10.000000    1.000000\n",
       "25%      1.000000   25.000000    4.000000\n",
       "50%      1.000000   30.000000    7.000000\n",
       "75%      1.000000   45.000000    9.000000\n",
       "max      3.000000   70.000000   12.000000"
      ]
     },
     "execution_count": 117,
     "metadata": {},
     "output_type": "execute_result"
    }
   ],
   "source": [
    "acc4.describe()"
   ]
  },
  {
   "cell_type": "markdown",
   "metadata": {},
   "source": [
    "**Despues**, hacemos una serie de agrupaciones para ver como se comportan los datos entre las variables."
   ]
  },
  {
   "cell_type": "markdown",
   "metadata": {},
   "source": [
    "En primer lugar, evaluamos el distrito con el dia de semana, agrupado por la sumatoria de las victimas. Con esto podemos ver que dias de la semana hay mas accidentes por distrito."
   ]
  },
  {
   "cell_type": "code",
   "execution_count": 23,
   "metadata": {},
   "outputs": [
    {
     "data": {
      "text/html": [
       "<div>\n",
       "<style scoped>\n",
       "    .dataframe tbody tr th:only-of-type {\n",
       "        vertical-align: middle;\n",
       "    }\n",
       "\n",
       "    .dataframe tbody tr th {\n",
       "        vertical-align: top;\n",
       "    }\n",
       "\n",
       "    .dataframe thead th {\n",
       "        text-align: right;\n",
       "    }\n",
       "</style>\n",
       "<table border=\"1\" class=\"dataframe\">\n",
       "  <thead>\n",
       "    <tr style=\"text-align: right;\">\n",
       "      <th></th>\n",
       "      <th></th>\n",
       "      <th>victimas</th>\n",
       "    </tr>\n",
       "    <tr>\n",
       "      <th>distrito</th>\n",
       "      <th>dia_semana</th>\n",
       "      <th></th>\n",
       "    </tr>\n",
       "  </thead>\n",
       "  <tbody>\n",
       "    <tr>\n",
       "      <th rowspan=\"7\" valign=\"top\">ARGANZUELA</th>\n",
       "      <th>DOMINGO</th>\n",
       "      <td>3</td>\n",
       "    </tr>\n",
       "    <tr>\n",
       "      <th>JUEVES</th>\n",
       "      <td>8</td>\n",
       "    </tr>\n",
       "    <tr>\n",
       "      <th>LUNES</th>\n",
       "      <td>8</td>\n",
       "    </tr>\n",
       "    <tr>\n",
       "      <th>MARTES</th>\n",
       "      <td>6</td>\n",
       "    </tr>\n",
       "    <tr>\n",
       "      <th>MIERCOLES</th>\n",
       "      <td>7</td>\n",
       "    </tr>\n",
       "    <tr>\n",
       "      <th>SABADO</th>\n",
       "      <td>4</td>\n",
       "    </tr>\n",
       "    <tr>\n",
       "      <th>VIERNES</th>\n",
       "      <td>1</td>\n",
       "    </tr>\n",
       "    <tr>\n",
       "      <th rowspan=\"5\" valign=\"top\">BARAJAS</th>\n",
       "      <th>JUEVES</th>\n",
       "      <td>1</td>\n",
       "    </tr>\n",
       "    <tr>\n",
       "      <th>LUNES</th>\n",
       "      <td>2</td>\n",
       "    </tr>\n",
       "    <tr>\n",
       "      <th>MIERCOLES</th>\n",
       "      <td>1</td>\n",
       "    </tr>\n",
       "    <tr>\n",
       "      <th>SABADO</th>\n",
       "      <td>2</td>\n",
       "    </tr>\n",
       "    <tr>\n",
       "      <th>VIERNES</th>\n",
       "      <td>2</td>\n",
       "    </tr>\n",
       "    <tr>\n",
       "      <th rowspan=\"7\" valign=\"top\">CARABANCHEL</th>\n",
       "      <th>DOMINGO</th>\n",
       "      <td>8</td>\n",
       "    </tr>\n",
       "    <tr>\n",
       "      <th>JUEVES</th>\n",
       "      <td>4</td>\n",
       "    </tr>\n",
       "    <tr>\n",
       "      <th>LUNES</th>\n",
       "      <td>7</td>\n",
       "    </tr>\n",
       "    <tr>\n",
       "      <th>MARTES</th>\n",
       "      <td>7</td>\n",
       "    </tr>\n",
       "    <tr>\n",
       "      <th>MIERCOLES</th>\n",
       "      <td>4</td>\n",
       "    </tr>\n",
       "    <tr>\n",
       "      <th>SABADO</th>\n",
       "      <td>3</td>\n",
       "    </tr>\n",
       "    <tr>\n",
       "      <th>VIERNES</th>\n",
       "      <td>10</td>\n",
       "    </tr>\n",
       "    <tr>\n",
       "      <th rowspan=\"7\" valign=\"top\">CENTRO</th>\n",
       "      <th>DOMINGO</th>\n",
       "      <td>21</td>\n",
       "    </tr>\n",
       "    <tr>\n",
       "      <th>JUEVES</th>\n",
       "      <td>18</td>\n",
       "    </tr>\n",
       "    <tr>\n",
       "      <th>LUNES</th>\n",
       "      <td>14</td>\n",
       "    </tr>\n",
       "    <tr>\n",
       "      <th>MARTES</th>\n",
       "      <td>20</td>\n",
       "    </tr>\n",
       "    <tr>\n",
       "      <th>MIERCOLES</th>\n",
       "      <td>26</td>\n",
       "    </tr>\n",
       "    <tr>\n",
       "      <th>SABADO</th>\n",
       "      <td>18</td>\n",
       "    </tr>\n",
       "    <tr>\n",
       "      <th>VIERNES</th>\n",
       "      <td>17</td>\n",
       "    </tr>\n",
       "    <tr>\n",
       "      <th rowspan=\"4\" valign=\"top\">CHAMARTIN</th>\n",
       "      <th>DOMINGO</th>\n",
       "      <td>1</td>\n",
       "    </tr>\n",
       "    <tr>\n",
       "      <th>JUEVES</th>\n",
       "      <td>7</td>\n",
       "    </tr>\n",
       "    <tr>\n",
       "      <th>LUNES</th>\n",
       "      <td>2</td>\n",
       "    </tr>\n",
       "    <tr>\n",
       "      <th>MARTES</th>\n",
       "      <td>7</td>\n",
       "    </tr>\n",
       "    <tr>\n",
       "      <th>...</th>\n",
       "      <th>...</th>\n",
       "      <td>...</td>\n",
       "    </tr>\n",
       "    <tr>\n",
       "      <th rowspan=\"5\" valign=\"top\">TETUAN</th>\n",
       "      <th>LUNES</th>\n",
       "      <td>3</td>\n",
       "    </tr>\n",
       "    <tr>\n",
       "      <th>MARTES</th>\n",
       "      <td>8</td>\n",
       "    </tr>\n",
       "    <tr>\n",
       "      <th>MIERCOLES</th>\n",
       "      <td>7</td>\n",
       "    </tr>\n",
       "    <tr>\n",
       "      <th>SABADO</th>\n",
       "      <td>4</td>\n",
       "    </tr>\n",
       "    <tr>\n",
       "      <th>VIERNES</th>\n",
       "      <td>8</td>\n",
       "    </tr>\n",
       "    <tr>\n",
       "      <th rowspan=\"7\" valign=\"top\">USERA</th>\n",
       "      <th>DOMINGO</th>\n",
       "      <td>2</td>\n",
       "    </tr>\n",
       "    <tr>\n",
       "      <th>JUEVES</th>\n",
       "      <td>2</td>\n",
       "    </tr>\n",
       "    <tr>\n",
       "      <th>LUNES</th>\n",
       "      <td>2</td>\n",
       "    </tr>\n",
       "    <tr>\n",
       "      <th>MARTES</th>\n",
       "      <td>1</td>\n",
       "    </tr>\n",
       "    <tr>\n",
       "      <th>MIERCOLES</th>\n",
       "      <td>6</td>\n",
       "    </tr>\n",
       "    <tr>\n",
       "      <th>SABADO</th>\n",
       "      <td>2</td>\n",
       "    </tr>\n",
       "    <tr>\n",
       "      <th>VIERNES</th>\n",
       "      <td>6</td>\n",
       "    </tr>\n",
       "    <tr>\n",
       "      <th rowspan=\"5\" valign=\"top\">VICALVARO</th>\n",
       "      <th>DOMINGO</th>\n",
       "      <td>1</td>\n",
       "    </tr>\n",
       "    <tr>\n",
       "      <th>JUEVES</th>\n",
       "      <td>3</td>\n",
       "    </tr>\n",
       "    <tr>\n",
       "      <th>MARTES</th>\n",
       "      <td>1</td>\n",
       "    </tr>\n",
       "    <tr>\n",
       "      <th>MIERCOLES</th>\n",
       "      <td>2</td>\n",
       "    </tr>\n",
       "    <tr>\n",
       "      <th>SABADO</th>\n",
       "      <td>5</td>\n",
       "    </tr>\n",
       "    <tr>\n",
       "      <th rowspan=\"6\" valign=\"top\">VILLA DE VALLECAS</th>\n",
       "      <th>DOMINGO</th>\n",
       "      <td>3</td>\n",
       "    </tr>\n",
       "    <tr>\n",
       "      <th>JUEVES</th>\n",
       "      <td>3</td>\n",
       "    </tr>\n",
       "    <tr>\n",
       "      <th>LUNES</th>\n",
       "      <td>3</td>\n",
       "    </tr>\n",
       "    <tr>\n",
       "      <th>MARTES</th>\n",
       "      <td>2</td>\n",
       "    </tr>\n",
       "    <tr>\n",
       "      <th>SABADO</th>\n",
       "      <td>2</td>\n",
       "    </tr>\n",
       "    <tr>\n",
       "      <th>VIERNES</th>\n",
       "      <td>2</td>\n",
       "    </tr>\n",
       "    <tr>\n",
       "      <th rowspan=\"7\" valign=\"top\">VILLAVERDE</th>\n",
       "      <th>DOMINGO</th>\n",
       "      <td>2</td>\n",
       "    </tr>\n",
       "    <tr>\n",
       "      <th>JUEVES</th>\n",
       "      <td>2</td>\n",
       "    </tr>\n",
       "    <tr>\n",
       "      <th>LUNES</th>\n",
       "      <td>1</td>\n",
       "    </tr>\n",
       "    <tr>\n",
       "      <th>MARTES</th>\n",
       "      <td>3</td>\n",
       "    </tr>\n",
       "    <tr>\n",
       "      <th>MIERCOLES</th>\n",
       "      <td>1</td>\n",
       "    </tr>\n",
       "    <tr>\n",
       "      <th>SABADO</th>\n",
       "      <td>3</td>\n",
       "    </tr>\n",
       "    <tr>\n",
       "      <th>VIERNES</th>\n",
       "      <td>1</td>\n",
       "    </tr>\n",
       "  </tbody>\n",
       "</table>\n",
       "<p>141 rows × 1 columns</p>\n",
       "</div>"
      ],
      "text/plain": [
       "                              victimas\n",
       "distrito          dia_semana          \n",
       "ARGANZUELA        DOMINGO            3\n",
       "                  JUEVES             8\n",
       "                  LUNES              8\n",
       "                  MARTES             6\n",
       "                  MIERCOLES          7\n",
       "                  SABADO             4\n",
       "                  VIERNES            1\n",
       "BARAJAS           JUEVES             1\n",
       "                  LUNES              2\n",
       "                  MIERCOLES          1\n",
       "                  SABADO             2\n",
       "                  VIERNES            2\n",
       "CARABANCHEL       DOMINGO            8\n",
       "                  JUEVES             4\n",
       "                  LUNES              7\n",
       "                  MARTES             7\n",
       "                  MIERCOLES          4\n",
       "                  SABADO             3\n",
       "                  VIERNES           10\n",
       "CENTRO            DOMINGO           21\n",
       "                  JUEVES            18\n",
       "                  LUNES             14\n",
       "                  MARTES            20\n",
       "                  MIERCOLES         26\n",
       "                  SABADO            18\n",
       "                  VIERNES           17\n",
       "CHAMARTIN         DOMINGO            1\n",
       "                  JUEVES             7\n",
       "                  LUNES              2\n",
       "                  MARTES             7\n",
       "...                                ...\n",
       "TETUAN            LUNES              3\n",
       "                  MARTES             8\n",
       "                  MIERCOLES          7\n",
       "                  SABADO             4\n",
       "                  VIERNES            8\n",
       "USERA             DOMINGO            2\n",
       "                  JUEVES             2\n",
       "                  LUNES              2\n",
       "                  MARTES             1\n",
       "                  MIERCOLES          6\n",
       "                  SABADO             2\n",
       "                  VIERNES            6\n",
       "VICALVARO         DOMINGO            1\n",
       "                  JUEVES             3\n",
       "                  MARTES             1\n",
       "                  MIERCOLES          2\n",
       "                  SABADO             5\n",
       "VILLA DE VALLECAS DOMINGO            3\n",
       "                  JUEVES             3\n",
       "                  LUNES              3\n",
       "                  MARTES             2\n",
       "                  SABADO             2\n",
       "                  VIERNES            2\n",
       "VILLAVERDE        DOMINGO            2\n",
       "                  JUEVES             2\n",
       "                  LUNES              1\n",
       "                  MARTES             3\n",
       "                  MIERCOLES          1\n",
       "                  SABADO             3\n",
       "                  VIERNES            1\n",
       "\n",
       "[141 rows x 1 columns]"
      ]
     },
     "execution_count": 23,
     "metadata": {},
     "output_type": "execute_result"
    }
   ],
   "source": [
    "tmp = acc4.groupby(['distrito', 'dia_semana']).agg({'victimas': 'sum'})\n",
    "tmp"
   ]
  },
  {
   "cell_type": "markdown",
   "metadata": {},
   "source": [
    "Ahora, agrupamos por dia de semana y tipo de lesividad agregando por la suma de las victimas, para evaluar si varian la gravedad de las lesiones por dia de la semana. A gran escala vemos que las variables mantienen un comportamiento proporcional entre los diferentes dias de la semana. "
   ]
  },
  {
   "cell_type": "code",
   "execution_count": 24,
   "metadata": {},
   "outputs": [
    {
     "data": {
      "text/html": [
       "<div>\n",
       "<style scoped>\n",
       "    .dataframe tbody tr th:only-of-type {\n",
       "        vertical-align: middle;\n",
       "    }\n",
       "\n",
       "    .dataframe tbody tr th {\n",
       "        vertical-align: top;\n",
       "    }\n",
       "\n",
       "    .dataframe thead th {\n",
       "        text-align: right;\n",
       "    }\n",
       "</style>\n",
       "<table border=\"1\" class=\"dataframe\">\n",
       "  <thead>\n",
       "    <tr style=\"text-align: right;\">\n",
       "      <th></th>\n",
       "      <th></th>\n",
       "      <th>victimas</th>\n",
       "    </tr>\n",
       "    <tr>\n",
       "      <th>dia_semana</th>\n",
       "      <th>lesividad</th>\n",
       "      <th></th>\n",
       "    </tr>\n",
       "  </thead>\n",
       "  <tbody>\n",
       "    <tr>\n",
       "      <th rowspan=\"4\" valign=\"top\">DOMINGO</th>\n",
       "      <th>HG</th>\n",
       "      <td>10</td>\n",
       "    </tr>\n",
       "    <tr>\n",
       "      <th>HL</th>\n",
       "      <td>81</td>\n",
       "    </tr>\n",
       "    <tr>\n",
       "      <th>IL</th>\n",
       "      <td>5</td>\n",
       "    </tr>\n",
       "    <tr>\n",
       "      <th>NO ASIGNADA</th>\n",
       "      <td>1</td>\n",
       "    </tr>\n",
       "    <tr>\n",
       "      <th rowspan=\"4\" valign=\"top\">JUEVES</th>\n",
       "      <th>HG</th>\n",
       "      <td>8</td>\n",
       "    </tr>\n",
       "    <tr>\n",
       "      <th>HL</th>\n",
       "      <td>107</td>\n",
       "    </tr>\n",
       "    <tr>\n",
       "      <th>IL</th>\n",
       "      <td>7</td>\n",
       "    </tr>\n",
       "    <tr>\n",
       "      <th>NO ASIGNADA</th>\n",
       "      <td>3</td>\n",
       "    </tr>\n",
       "    <tr>\n",
       "      <th rowspan=\"3\" valign=\"top\">LUNES</th>\n",
       "      <th>HG</th>\n",
       "      <td>5</td>\n",
       "    </tr>\n",
       "    <tr>\n",
       "      <th>HL</th>\n",
       "      <td>77</td>\n",
       "    </tr>\n",
       "    <tr>\n",
       "      <th>IL</th>\n",
       "      <td>12</td>\n",
       "    </tr>\n",
       "    <tr>\n",
       "      <th rowspan=\"4\" valign=\"top\">MARTES</th>\n",
       "      <th>HG</th>\n",
       "      <td>8</td>\n",
       "    </tr>\n",
       "    <tr>\n",
       "      <th>HL</th>\n",
       "      <td>99</td>\n",
       "    </tr>\n",
       "    <tr>\n",
       "      <th>IL</th>\n",
       "      <td>13</td>\n",
       "    </tr>\n",
       "    <tr>\n",
       "      <th>NO ASIGNADA</th>\n",
       "      <td>1</td>\n",
       "    </tr>\n",
       "    <tr>\n",
       "      <th rowspan=\"3\" valign=\"top\">MIERCOLES</th>\n",
       "      <th>HG</th>\n",
       "      <td>8</td>\n",
       "    </tr>\n",
       "    <tr>\n",
       "      <th>HL</th>\n",
       "      <td>97</td>\n",
       "    </tr>\n",
       "    <tr>\n",
       "      <th>IL</th>\n",
       "      <td>9</td>\n",
       "    </tr>\n",
       "    <tr>\n",
       "      <th rowspan=\"4\" valign=\"top\">SABADO</th>\n",
       "      <th>HG</th>\n",
       "      <td>14</td>\n",
       "    </tr>\n",
       "    <tr>\n",
       "      <th>HL</th>\n",
       "      <td>85</td>\n",
       "    </tr>\n",
       "    <tr>\n",
       "      <th>IL</th>\n",
       "      <td>7</td>\n",
       "    </tr>\n",
       "    <tr>\n",
       "      <th>NO ASIGNADA</th>\n",
       "      <td>2</td>\n",
       "    </tr>\n",
       "    <tr>\n",
       "      <th rowspan=\"4\" valign=\"top\">VIERNES</th>\n",
       "      <th>HG</th>\n",
       "      <td>15</td>\n",
       "    </tr>\n",
       "    <tr>\n",
       "      <th>HL</th>\n",
       "      <td>86</td>\n",
       "    </tr>\n",
       "    <tr>\n",
       "      <th>IL</th>\n",
       "      <td>11</td>\n",
       "    </tr>\n",
       "    <tr>\n",
       "      <th>NO ASIGNADA</th>\n",
       "      <td>3</td>\n",
       "    </tr>\n",
       "  </tbody>\n",
       "</table>\n",
       "</div>"
      ],
      "text/plain": [
       "                        victimas\n",
       "dia_semana lesividad            \n",
       "DOMINGO    HG                 10\n",
       "           HL                 81\n",
       "           IL                  5\n",
       "           NO ASIGNADA         1\n",
       "JUEVES     HG                  8\n",
       "           HL                107\n",
       "           IL                  7\n",
       "           NO ASIGNADA         3\n",
       "LUNES      HG                  5\n",
       "           HL                 77\n",
       "           IL                 12\n",
       "MARTES     HG                  8\n",
       "           HL                 99\n",
       "           IL                 13\n",
       "           NO ASIGNADA         1\n",
       "MIERCOLES  HG                  8\n",
       "           HL                 97\n",
       "           IL                  9\n",
       "SABADO     HG                 14\n",
       "           HL                 85\n",
       "           IL                  7\n",
       "           NO ASIGNADA         2\n",
       "VIERNES    HG                 15\n",
       "           HL                 86\n",
       "           IL                 11\n",
       "           NO ASIGNADA         3"
      ]
     },
     "execution_count": 24,
     "metadata": {},
     "output_type": "execute_result"
    }
   ],
   "source": [
    "tmp = acc4.groupby(['dia_semana', 'lesividad']).agg({'victimas': 'sum'})\n",
    "tmp"
   ]
  },
  {
   "cell_type": "markdown",
   "metadata": {},
   "source": [
    "Realizamos una agrupación por distrito, evaluando la mediana de la edad. Vemos que la mayoria de los distritos tienen una mediana de 30 o mas años. Habiendo unicamente una excepcion de 21 años y 5 con al menos 40 años. "
   ]
  },
  {
   "cell_type": "code",
   "execution_count": 25,
   "metadata": {},
   "outputs": [
    {
     "data": {
      "text/html": [
       "<div>\n",
       "<style scoped>\n",
       "    .dataframe tbody tr th:only-of-type {\n",
       "        vertical-align: middle;\n",
       "    }\n",
       "\n",
       "    .dataframe tbody tr th {\n",
       "        vertical-align: top;\n",
       "    }\n",
       "\n",
       "    .dataframe thead th {\n",
       "        text-align: right;\n",
       "    }\n",
       "</style>\n",
       "<table border=\"1\" class=\"dataframe\">\n",
       "  <thead>\n",
       "    <tr style=\"text-align: right;\">\n",
       "      <th></th>\n",
       "      <th>edadmin</th>\n",
       "    </tr>\n",
       "    <tr>\n",
       "      <th>distrito</th>\n",
       "      <th></th>\n",
       "    </tr>\n",
       "  </thead>\n",
       "  <tbody>\n",
       "    <tr>\n",
       "      <th>ARGANZUELA</th>\n",
       "      <td>35.0</td>\n",
       "    </tr>\n",
       "    <tr>\n",
       "      <th>BARAJAS</th>\n",
       "      <td>30.0</td>\n",
       "    </tr>\n",
       "    <tr>\n",
       "      <th>CARABANCHEL</th>\n",
       "      <td>32.5</td>\n",
       "    </tr>\n",
       "    <tr>\n",
       "      <th>CENTRO</th>\n",
       "      <td>30.0</td>\n",
       "    </tr>\n",
       "    <tr>\n",
       "      <th>CHAMARTIN</th>\n",
       "      <td>32.5</td>\n",
       "    </tr>\n",
       "    <tr>\n",
       "      <th>CHAMBERI</th>\n",
       "      <td>30.0</td>\n",
       "    </tr>\n",
       "    <tr>\n",
       "      <th>CIUDAD LINEAL</th>\n",
       "      <td>30.0</td>\n",
       "    </tr>\n",
       "    <tr>\n",
       "      <th>FUENCARRAL-EL PARDO</th>\n",
       "      <td>40.0</td>\n",
       "    </tr>\n",
       "    <tr>\n",
       "      <th>HORTALEZA</th>\n",
       "      <td>42.5</td>\n",
       "    </tr>\n",
       "    <tr>\n",
       "      <th>LATINA</th>\n",
       "      <td>40.0</td>\n",
       "    </tr>\n",
       "    <tr>\n",
       "      <th>MONCLOA-ARAVACA</th>\n",
       "      <td>35.0</td>\n",
       "    </tr>\n",
       "    <tr>\n",
       "      <th>MORATALAZ</th>\n",
       "      <td>21.0</td>\n",
       "    </tr>\n",
       "    <tr>\n",
       "      <th>PUENTE DE VALLECAS</th>\n",
       "      <td>35.0</td>\n",
       "    </tr>\n",
       "    <tr>\n",
       "      <th>RETIRO</th>\n",
       "      <td>30.0</td>\n",
       "    </tr>\n",
       "    <tr>\n",
       "      <th>SALAMANCA</th>\n",
       "      <td>30.0</td>\n",
       "    </tr>\n",
       "    <tr>\n",
       "      <th>SAN BLAS</th>\n",
       "      <td>42.5</td>\n",
       "    </tr>\n",
       "    <tr>\n",
       "      <th>TETUAN</th>\n",
       "      <td>35.0</td>\n",
       "    </tr>\n",
       "    <tr>\n",
       "      <th>USERA</th>\n",
       "      <td>35.0</td>\n",
       "    </tr>\n",
       "    <tr>\n",
       "      <th>VICALVARO</th>\n",
       "      <td>45.0</td>\n",
       "    </tr>\n",
       "    <tr>\n",
       "      <th>VILLA DE VALLECAS</th>\n",
       "      <td>35.0</td>\n",
       "    </tr>\n",
       "    <tr>\n",
       "      <th>VILLAVERDE</th>\n",
       "      <td>35.0</td>\n",
       "    </tr>\n",
       "  </tbody>\n",
       "</table>\n",
       "</div>"
      ],
      "text/plain": [
       "                     edadmin\n",
       "distrito                    \n",
       "ARGANZUELA              35.0\n",
       "BARAJAS                 30.0\n",
       "CARABANCHEL             32.5\n",
       "CENTRO                  30.0\n",
       "CHAMARTIN               32.5\n",
       "CHAMBERI                30.0\n",
       "CIUDAD LINEAL           30.0\n",
       "FUENCARRAL-EL PARDO     40.0\n",
       "HORTALEZA               42.5\n",
       "LATINA                  40.0\n",
       "MONCLOA-ARAVACA         35.0\n",
       "MORATALAZ               21.0\n",
       "PUENTE DE VALLECAS      35.0\n",
       "RETIRO                  30.0\n",
       "SALAMANCA               30.0\n",
       "SAN BLAS                42.5\n",
       "TETUAN                  35.0\n",
       "USERA                   35.0\n",
       "VICALVARO               45.0\n",
       "VILLA DE VALLECAS       35.0\n",
       "VILLAVERDE              35.0"
      ]
     },
     "execution_count": 25,
     "metadata": {},
     "output_type": "execute_result"
    }
   ],
   "source": [
    "tmp = acc4.groupby(['distrito']).agg({'edadmin': 'median'})\n",
    "tmp"
   ]
  },
  {
   "cell_type": "markdown",
   "metadata": {},
   "source": [
    "Hacemos una agrupación para ver como se distribuyen los tipos de accidente entre los meses del año. De la tabla, podemos ver que la cantidad de accidentes tiene un comportamiento proporcional através del tiempo. Siendo las categorias de **CAÍDA BICICLETA** y **COLISIÓN DOBLE** las mas recurrentes todos los meses."
   ]
  },
  {
   "cell_type": "code",
   "execution_count": 92,
   "metadata": {},
   "outputs": [
    {
     "data": {
      "text/html": [
       "<div>\n",
       "<style scoped>\n",
       "    .dataframe tbody tr th:only-of-type {\n",
       "        vertical-align: middle;\n",
       "    }\n",
       "\n",
       "    .dataframe tbody tr th {\n",
       "        vertical-align: top;\n",
       "    }\n",
       "\n",
       "    .dataframe thead th {\n",
       "        text-align: right;\n",
       "    }\n",
       "</style>\n",
       "<table border=\"1\" class=\"dataframe\">\n",
       "  <thead>\n",
       "    <tr style=\"text-align: right;\">\n",
       "      <th></th>\n",
       "      <th></th>\n",
       "      <th>tipo_accidente</th>\n",
       "    </tr>\n",
       "    <tr>\n",
       "      <th>mes</th>\n",
       "      <th>tipo_accidente</th>\n",
       "      <th></th>\n",
       "    </tr>\n",
       "  </thead>\n",
       "  <tbody>\n",
       "    <tr>\n",
       "      <th rowspan=\"6\" valign=\"top\">1.0</th>\n",
       "      <th>ATROPELLO</th>\n",
       "      <td>3</td>\n",
       "    </tr>\n",
       "    <tr>\n",
       "      <th>CAÍDA BICICLETA</th>\n",
       "      <td>21</td>\n",
       "    </tr>\n",
       "    <tr>\n",
       "      <th>CAÍDA MOTOCICLETA</th>\n",
       "      <td>1</td>\n",
       "    </tr>\n",
       "    <tr>\n",
       "      <th>CHOQUE CON OBJETO FIJO</th>\n",
       "      <td>1</td>\n",
       "    </tr>\n",
       "    <tr>\n",
       "      <th>COLISIÓN DOBLE</th>\n",
       "      <td>26</td>\n",
       "    </tr>\n",
       "    <tr>\n",
       "      <th>COLISIÓN MÚLTIPLE</th>\n",
       "      <td>1</td>\n",
       "    </tr>\n",
       "    <tr>\n",
       "      <th rowspan=\"4\" valign=\"top\">2.0</th>\n",
       "      <th>ATROPELLO</th>\n",
       "      <td>3</td>\n",
       "    </tr>\n",
       "    <tr>\n",
       "      <th>CAÍDA BICICLETA</th>\n",
       "      <td>14</td>\n",
       "    </tr>\n",
       "    <tr>\n",
       "      <th>CHOQUE CON OBJETO FIJO</th>\n",
       "      <td>1</td>\n",
       "    </tr>\n",
       "    <tr>\n",
       "      <th>COLISIÓN DOBLE</th>\n",
       "      <td>26</td>\n",
       "    </tr>\n",
       "    <tr>\n",
       "      <th rowspan=\"3\" valign=\"top\">3.0</th>\n",
       "      <th>ATROPELLO</th>\n",
       "      <td>1</td>\n",
       "    </tr>\n",
       "    <tr>\n",
       "      <th>CAÍDA BICICLETA</th>\n",
       "      <td>15</td>\n",
       "    </tr>\n",
       "    <tr>\n",
       "      <th>COLISIÓN DOBLE</th>\n",
       "      <td>18</td>\n",
       "    </tr>\n",
       "    <tr>\n",
       "      <th rowspan=\"4\" valign=\"top\">4.0</th>\n",
       "      <th>ATROPELLO</th>\n",
       "      <td>6</td>\n",
       "    </tr>\n",
       "    <tr>\n",
       "      <th>CAÍDA BICICLETA</th>\n",
       "      <td>28</td>\n",
       "    </tr>\n",
       "    <tr>\n",
       "      <th>CHOQUE CON OBJETO FIJO</th>\n",
       "      <td>3</td>\n",
       "    </tr>\n",
       "    <tr>\n",
       "      <th>COLISIÓN DOBLE</th>\n",
       "      <td>17</td>\n",
       "    </tr>\n",
       "    <tr>\n",
       "      <th rowspan=\"5\" valign=\"top\">5.0</th>\n",
       "      <th>ATROPELLO</th>\n",
       "      <td>7</td>\n",
       "    </tr>\n",
       "    <tr>\n",
       "      <th>CAÍDA BICICLETA</th>\n",
       "      <td>24</td>\n",
       "    </tr>\n",
       "    <tr>\n",
       "      <th>CAÍDA MOTOCICLETA</th>\n",
       "      <td>1</td>\n",
       "    </tr>\n",
       "    <tr>\n",
       "      <th>CHOQUE CON OBJETO FIJO</th>\n",
       "      <td>1</td>\n",
       "    </tr>\n",
       "    <tr>\n",
       "      <th>COLISIÓN DOBLE</th>\n",
       "      <td>27</td>\n",
       "    </tr>\n",
       "    <tr>\n",
       "      <th rowspan=\"5\" valign=\"top\">6.0</th>\n",
       "      <th>ATROPELLO</th>\n",
       "      <td>5</td>\n",
       "    </tr>\n",
       "    <tr>\n",
       "      <th>CAÍDA BICICLETA</th>\n",
       "      <td>27</td>\n",
       "    </tr>\n",
       "    <tr>\n",
       "      <th>CHOQUE CON OBJETO FIJO</th>\n",
       "      <td>4</td>\n",
       "    </tr>\n",
       "    <tr>\n",
       "      <th>COLISIÓN DOBLE</th>\n",
       "      <td>41</td>\n",
       "    </tr>\n",
       "    <tr>\n",
       "      <th>COLISIÓN MÚLTIPLE</th>\n",
       "      <td>2</td>\n",
       "    </tr>\n",
       "    <tr>\n",
       "      <th rowspan=\"5\" valign=\"top\">7.0</th>\n",
       "      <th>ATROPELLO</th>\n",
       "      <td>8</td>\n",
       "    </tr>\n",
       "    <tr>\n",
       "      <th>CAÍDA BICICLETA</th>\n",
       "      <td>27</td>\n",
       "    </tr>\n",
       "    <tr>\n",
       "      <th>CAÍDA MOTOCICLETA</th>\n",
       "      <td>3</td>\n",
       "    </tr>\n",
       "    <tr>\n",
       "      <th>CHOQUE CON OBJETO FIJO</th>\n",
       "      <td>1</td>\n",
       "    </tr>\n",
       "    <tr>\n",
       "      <th>COLISIÓN DOBLE</th>\n",
       "      <td>31</td>\n",
       "    </tr>\n",
       "    <tr>\n",
       "      <th rowspan=\"5\" valign=\"top\">8.0</th>\n",
       "      <th>ATROPELLO</th>\n",
       "      <td>3</td>\n",
       "    </tr>\n",
       "    <tr>\n",
       "      <th>CAÍDA BICICLETA</th>\n",
       "      <td>32</td>\n",
       "    </tr>\n",
       "    <tr>\n",
       "      <th>CHOQUE CON OBJETO FIJO</th>\n",
       "      <td>1</td>\n",
       "    </tr>\n",
       "    <tr>\n",
       "      <th>COLISIÓN DOBLE</th>\n",
       "      <td>24</td>\n",
       "    </tr>\n",
       "    <tr>\n",
       "      <th>COLISIÓN MÚLTIPLE</th>\n",
       "      <td>1</td>\n",
       "    </tr>\n",
       "    <tr>\n",
       "      <th rowspan=\"3\" valign=\"top\">9.0</th>\n",
       "      <th>ATROPELLO</th>\n",
       "      <td>9</td>\n",
       "    </tr>\n",
       "    <tr>\n",
       "      <th>CAÍDA BICICLETA</th>\n",
       "      <td>35</td>\n",
       "    </tr>\n",
       "    <tr>\n",
       "      <th>COLISIÓN DOBLE</th>\n",
       "      <td>36</td>\n",
       "    </tr>\n",
       "    <tr>\n",
       "      <th rowspan=\"5\" valign=\"top\">10.0</th>\n",
       "      <th>ATROPELLO</th>\n",
       "      <td>9</td>\n",
       "    </tr>\n",
       "    <tr>\n",
       "      <th>CAÍDA BICICLETA</th>\n",
       "      <td>31</td>\n",
       "    </tr>\n",
       "    <tr>\n",
       "      <th>CAÍDA MOTOCICLETA</th>\n",
       "      <td>1</td>\n",
       "    </tr>\n",
       "    <tr>\n",
       "      <th>CHOQUE CON OBJETO FIJO</th>\n",
       "      <td>3</td>\n",
       "    </tr>\n",
       "    <tr>\n",
       "      <th>COLISIÓN DOBLE</th>\n",
       "      <td>25</td>\n",
       "    </tr>\n",
       "    <tr>\n",
       "      <th rowspan=\"6\" valign=\"top\">11.0</th>\n",
       "      <th>ATROPELLO</th>\n",
       "      <td>4</td>\n",
       "    </tr>\n",
       "    <tr>\n",
       "      <th>CAÍDA BICICLETA</th>\n",
       "      <td>24</td>\n",
       "    </tr>\n",
       "    <tr>\n",
       "      <th>CAÍDA MOTOCICLETA</th>\n",
       "      <td>1</td>\n",
       "    </tr>\n",
       "    <tr>\n",
       "      <th>CHOQUE CON OBJETO FIJO</th>\n",
       "      <td>1</td>\n",
       "    </tr>\n",
       "    <tr>\n",
       "      <th>COLISIÓN DOBLE</th>\n",
       "      <td>31</td>\n",
       "    </tr>\n",
       "    <tr>\n",
       "      <th>COLISIÓN MÚLTIPLE</th>\n",
       "      <td>1</td>\n",
       "    </tr>\n",
       "    <tr>\n",
       "      <th rowspan=\"3\" valign=\"top\">12.0</th>\n",
       "      <th>ATROPELLO</th>\n",
       "      <td>3</td>\n",
       "    </tr>\n",
       "    <tr>\n",
       "      <th>CAÍDA BICICLETA</th>\n",
       "      <td>17</td>\n",
       "    </tr>\n",
       "    <tr>\n",
       "      <th>COLISIÓN DOBLE</th>\n",
       "      <td>13</td>\n",
       "    </tr>\n",
       "  </tbody>\n",
       "</table>\n",
       "</div>"
      ],
      "text/plain": [
       "                             tipo_accidente\n",
       "mes  tipo_accidente                        \n",
       "1.0  ATROPELLO                            3\n",
       "     CAÍDA BICICLETA                     21\n",
       "     CAÍDA MOTOCICLETA                    1\n",
       "     CHOQUE CON OBJETO FIJO               1\n",
       "     COLISIÓN DOBLE                      26\n",
       "     COLISIÓN MÚLTIPLE                    1\n",
       "2.0  ATROPELLO                            3\n",
       "     CAÍDA BICICLETA                     14\n",
       "     CHOQUE CON OBJETO FIJO               1\n",
       "     COLISIÓN DOBLE                      26\n",
       "3.0  ATROPELLO                            1\n",
       "     CAÍDA BICICLETA                     15\n",
       "     COLISIÓN DOBLE                      18\n",
       "4.0  ATROPELLO                            6\n",
       "     CAÍDA BICICLETA                     28\n",
       "     CHOQUE CON OBJETO FIJO               3\n",
       "     COLISIÓN DOBLE                      17\n",
       "5.0  ATROPELLO                            7\n",
       "     CAÍDA BICICLETA                     24\n",
       "     CAÍDA MOTOCICLETA                    1\n",
       "     CHOQUE CON OBJETO FIJO               1\n",
       "     COLISIÓN DOBLE                      27\n",
       "6.0  ATROPELLO                            5\n",
       "     CAÍDA BICICLETA                     27\n",
       "     CHOQUE CON OBJETO FIJO               4\n",
       "     COLISIÓN DOBLE                      41\n",
       "     COLISIÓN MÚLTIPLE                    2\n",
       "7.0  ATROPELLO                            8\n",
       "     CAÍDA BICICLETA                     27\n",
       "     CAÍDA MOTOCICLETA                    3\n",
       "     CHOQUE CON OBJETO FIJO               1\n",
       "     COLISIÓN DOBLE                      31\n",
       "8.0  ATROPELLO                            3\n",
       "     CAÍDA BICICLETA                     32\n",
       "     CHOQUE CON OBJETO FIJO               1\n",
       "     COLISIÓN DOBLE                      24\n",
       "     COLISIÓN MÚLTIPLE                    1\n",
       "9.0  ATROPELLO                            9\n",
       "     CAÍDA BICICLETA                     35\n",
       "     COLISIÓN DOBLE                      36\n",
       "10.0 ATROPELLO                            9\n",
       "     CAÍDA BICICLETA                     31\n",
       "     CAÍDA MOTOCICLETA                    1\n",
       "     CHOQUE CON OBJETO FIJO               3\n",
       "     COLISIÓN DOBLE                      25\n",
       "11.0 ATROPELLO                            4\n",
       "     CAÍDA BICICLETA                     24\n",
       "     CAÍDA MOTOCICLETA                    1\n",
       "     CHOQUE CON OBJETO FIJO               1\n",
       "     COLISIÓN DOBLE                      31\n",
       "     COLISIÓN MÚLTIPLE                    1\n",
       "12.0 ATROPELLO                            3\n",
       "     CAÍDA BICICLETA                     17\n",
       "     COLISIÓN DOBLE                      13"
      ]
     },
     "execution_count": 92,
     "metadata": {},
     "output_type": "execute_result"
    }
   ],
   "source": [
    "tmp = acc4.groupby(['mes', 'tipo_accidente']).agg({'tipo_accidente': 'count'})\n",
    "tmp"
   ]
  },
  {
   "cell_type": "markdown",
   "metadata": {},
   "source": [
    "Adicional a las agrupaciones podemos realizar filtros deseados para encontrar resultados especificos dentro de la tabla."
   ]
  },
  {
   "cell_type": "markdown",
   "metadata": {},
   "source": [
    "Hacemos una busqueda de los accidentes ocurridos en lunes del tipo atropello. Vemos que hay 11 observaciones, que ninguno ocurrio con lluvia o estado mojado y todos de hombres. "
   ]
  },
  {
   "cell_type": "code",
   "execution_count": 20,
   "metadata": {},
   "outputs": [
    {
     "data": {
      "text/html": [
       "<div>\n",
       "<style scoped>\n",
       "    .dataframe tbody tr th:only-of-type {\n",
       "        vertical-align: middle;\n",
       "    }\n",
       "\n",
       "    .dataframe tbody tr th {\n",
       "        vertical-align: top;\n",
       "    }\n",
       "\n",
       "    .dataframe thead th {\n",
       "        text-align: right;\n",
       "    }\n",
       "</style>\n",
       "<table border=\"1\" class=\"dataframe\">\n",
       "  <thead>\n",
       "    <tr style=\"text-align: right;\">\n",
       "      <th></th>\n",
       "      <th>fecha</th>\n",
       "      <th>dia_semana</th>\n",
       "      <th>distrito</th>\n",
       "      <th>lugar</th>\n",
       "      <th>numero</th>\n",
       "      <th>lluvia</th>\n",
       "      <th>mojado</th>\n",
       "      <th>victimas</th>\n",
       "      <th>tipo_accidente</th>\n",
       "      <th>tipo_persona</th>\n",
       "      <th>sexo</th>\n",
       "      <th>lesividad</th>\n",
       "      <th>horain</th>\n",
       "      <th>edadmin</th>\n",
       "      <th>mes</th>\n",
       "    </tr>\n",
       "  </thead>\n",
       "  <tbody>\n",
       "    <tr>\n",
       "      <th>1</th>\n",
       "      <td>2018-01-01 15:00:00</td>\n",
       "      <td>LUNES</td>\n",
       "      <td>CENTRO</td>\n",
       "      <td>CALLE DE ALCALA NUM</td>\n",
       "      <td>44</td>\n",
       "      <td>NO</td>\n",
       "      <td>NO</td>\n",
       "      <td>2</td>\n",
       "      <td>ATROPELLO</td>\n",
       "      <td>CONDUCTOR</td>\n",
       "      <td>HOMBRE</td>\n",
       "      <td>HL</td>\n",
       "      <td>15:00</td>\n",
       "      <td>25.0</td>\n",
       "      <td>1</td>\n",
       "    </tr>\n",
       "    <tr>\n",
       "      <th>133</th>\n",
       "      <td>2018-04-02 15:00:00</td>\n",
       "      <td>LUNES</td>\n",
       "      <td>RETIRO</td>\n",
       "      <td>AVENIDA DE LA CIUDAD DE BARCELONA NUM</td>\n",
       "      <td>144</td>\n",
       "      <td>NO</td>\n",
       "      <td>NO</td>\n",
       "      <td>1</td>\n",
       "      <td>ATROPELLO</td>\n",
       "      <td>CONDUCTOR</td>\n",
       "      <td>HOMBRE</td>\n",
       "      <td>IL</td>\n",
       "      <td>15:00</td>\n",
       "      <td>25.0</td>\n",
       "      <td>4</td>\n",
       "    </tr>\n",
       "    <tr>\n",
       "      <th>134</th>\n",
       "      <td>2018-04-02 18:00:00</td>\n",
       "      <td>LUNES</td>\n",
       "      <td>RETIRO</td>\n",
       "      <td>PASEO DE LA INFANTA ISABEL - PLAZA DEL EMPERAD...</td>\n",
       "      <td>0</td>\n",
       "      <td>NO</td>\n",
       "      <td>NO</td>\n",
       "      <td>1</td>\n",
       "      <td>ATROPELLO</td>\n",
       "      <td>CONDUCTOR</td>\n",
       "      <td>HOMBRE</td>\n",
       "      <td>IL</td>\n",
       "      <td>18:00</td>\n",
       "      <td>40.0</td>\n",
       "      <td>4</td>\n",
       "    </tr>\n",
       "    <tr>\n",
       "      <th>184</th>\n",
       "      <td>2018-04-30 12:00:00</td>\n",
       "      <td>LUNES</td>\n",
       "      <td>SAN BLAS</td>\n",
       "      <td>CALLE DE DEYANIRA NUM</td>\n",
       "      <td>23</td>\n",
       "      <td>NO</td>\n",
       "      <td>NO</td>\n",
       "      <td>1</td>\n",
       "      <td>ATROPELLO</td>\n",
       "      <td>CONDUCTOR</td>\n",
       "      <td>HOMBRE</td>\n",
       "      <td>HL</td>\n",
       "      <td>12:00</td>\n",
       "      <td>50.0</td>\n",
       "      <td>4</td>\n",
       "    </tr>\n",
       "    <tr>\n",
       "      <th>360</th>\n",
       "      <td>2018-07-16 17:00:00</td>\n",
       "      <td>LUNES</td>\n",
       "      <td>MORATALAZ</td>\n",
       "      <td>CALLE DEL ARROYO FONTARRON NUM</td>\n",
       "      <td>79</td>\n",
       "      <td>NO</td>\n",
       "      <td>NO</td>\n",
       "      <td>1</td>\n",
       "      <td>ATROPELLO</td>\n",
       "      <td>CONDUCTOR</td>\n",
       "      <td>HOMBRE</td>\n",
       "      <td>IL</td>\n",
       "      <td>17:00</td>\n",
       "      <td>25.0</td>\n",
       "      <td>7</td>\n",
       "    </tr>\n",
       "    <tr>\n",
       "      <th>477</th>\n",
       "      <td>2018-09-10 09:00:00</td>\n",
       "      <td>LUNES</td>\n",
       "      <td>ARGANZUELA</td>\n",
       "      <td>PASEO DE SANTA MARIA DE LA CABEZA NUM</td>\n",
       "      <td>76</td>\n",
       "      <td>NO</td>\n",
       "      <td>NO</td>\n",
       "      <td>2</td>\n",
       "      <td>ATROPELLO</td>\n",
       "      <td>CONDUCTOR</td>\n",
       "      <td>HOMBRE</td>\n",
       "      <td>HL</td>\n",
       "      <td>9:00</td>\n",
       "      <td>45.0</td>\n",
       "      <td>9</td>\n",
       "    </tr>\n",
       "    <tr>\n",
       "      <th>512</th>\n",
       "      <td>2018-09-24 11:00:00</td>\n",
       "      <td>LUNES</td>\n",
       "      <td>VILLA DE VALLECAS</td>\n",
       "      <td>CALLE  REAL DE ARGANDA NUM</td>\n",
       "      <td>10</td>\n",
       "      <td>NO</td>\n",
       "      <td>NO</td>\n",
       "      <td>1</td>\n",
       "      <td>ATROPELLO</td>\n",
       "      <td>CONDUCTOR</td>\n",
       "      <td>HOMBRE</td>\n",
       "      <td>IL</td>\n",
       "      <td>11:00</td>\n",
       "      <td>18.0</td>\n",
       "      <td>9</td>\n",
       "    </tr>\n",
       "    <tr>\n",
       "      <th>536</th>\n",
       "      <td>2018-10-01 11:00:00</td>\n",
       "      <td>LUNES</td>\n",
       "      <td>CARABANCHEL</td>\n",
       "      <td>GLORIETA DEL VALLE DE ORO NUM</td>\n",
       "      <td>2</td>\n",
       "      <td>NO</td>\n",
       "      <td>NO</td>\n",
       "      <td>1</td>\n",
       "      <td>ATROPELLO</td>\n",
       "      <td>CONDUCTOR</td>\n",
       "      <td>HOMBRE</td>\n",
       "      <td>IL</td>\n",
       "      <td>11:00</td>\n",
       "      <td>60.0</td>\n",
       "      <td>10</td>\n",
       "    </tr>\n",
       "    <tr>\n",
       "      <th>572</th>\n",
       "      <td>2018-10-15 14:00:00</td>\n",
       "      <td>LUNES</td>\n",
       "      <td>CIUDAD LINEAL</td>\n",
       "      <td>AVENIDA DE DAROCA NUM</td>\n",
       "      <td>90</td>\n",
       "      <td>NO</td>\n",
       "      <td>NO</td>\n",
       "      <td>1</td>\n",
       "      <td>ATROPELLO</td>\n",
       "      <td>CONDUCTOR</td>\n",
       "      <td>HOMBRE</td>\n",
       "      <td>IL</td>\n",
       "      <td>14:00</td>\n",
       "      <td>50.0</td>\n",
       "      <td>10</td>\n",
       "    </tr>\n",
       "    <tr>\n",
       "      <th>588</th>\n",
       "      <td>2018-10-22 16:00:00</td>\n",
       "      <td>LUNES</td>\n",
       "      <td>SALAMANCA</td>\n",
       "      <td>CALLE DE ALCALA - PLAZA DE LA INDEPENDENCIA</td>\n",
       "      <td>0</td>\n",
       "      <td>NO</td>\n",
       "      <td>NO</td>\n",
       "      <td>1</td>\n",
       "      <td>ATROPELLO</td>\n",
       "      <td>CONDUCTOR</td>\n",
       "      <td>HOMBRE</td>\n",
       "      <td>IL</td>\n",
       "      <td>16:00</td>\n",
       "      <td>35.0</td>\n",
       "      <td>10</td>\n",
       "    </tr>\n",
       "    <tr>\n",
       "      <th>668</th>\n",
       "      <td>2018-12-03 07:00:00</td>\n",
       "      <td>LUNES</td>\n",
       "      <td>CENTRO</td>\n",
       "      <td>CALLE DEL RELOJ NUM</td>\n",
       "      <td>12</td>\n",
       "      <td>NO</td>\n",
       "      <td>NO</td>\n",
       "      <td>1</td>\n",
       "      <td>ATROPELLO</td>\n",
       "      <td>CONDUCTOR</td>\n",
       "      <td>HOMBRE</td>\n",
       "      <td>IL</td>\n",
       "      <td>7:00</td>\n",
       "      <td>45.0</td>\n",
       "      <td>12</td>\n",
       "    </tr>\n",
       "  </tbody>\n",
       "</table>\n",
       "</div>"
      ],
      "text/plain": [
       "                  fecha dia_semana           distrito  \\\n",
       "1   2018-01-01 15:00:00      LUNES             CENTRO   \n",
       "133 2018-04-02 15:00:00      LUNES             RETIRO   \n",
       "134 2018-04-02 18:00:00      LUNES             RETIRO   \n",
       "184 2018-04-30 12:00:00      LUNES           SAN BLAS   \n",
       "360 2018-07-16 17:00:00      LUNES          MORATALAZ   \n",
       "477 2018-09-10 09:00:00      LUNES         ARGANZUELA   \n",
       "512 2018-09-24 11:00:00      LUNES  VILLA DE VALLECAS   \n",
       "536 2018-10-01 11:00:00      LUNES        CARABANCHEL   \n",
       "572 2018-10-15 14:00:00      LUNES      CIUDAD LINEAL   \n",
       "588 2018-10-22 16:00:00      LUNES          SALAMANCA   \n",
       "668 2018-12-03 07:00:00      LUNES             CENTRO   \n",
       "\n",
       "                                                 lugar numero lluvia mojado  \\\n",
       "1                                  CALLE DE ALCALA NUM     44     NO     NO   \n",
       "133              AVENIDA DE LA CIUDAD DE BARCELONA NUM    144     NO     NO   \n",
       "134  PASEO DE LA INFANTA ISABEL - PLAZA DEL EMPERAD...      0     NO     NO   \n",
       "184                              CALLE DE DEYANIRA NUM     23     NO     NO   \n",
       "360                     CALLE DEL ARROYO FONTARRON NUM     79     NO     NO   \n",
       "477              PASEO DE SANTA MARIA DE LA CABEZA NUM     76     NO     NO   \n",
       "512                         CALLE  REAL DE ARGANDA NUM     10     NO     NO   \n",
       "536                      GLORIETA DEL VALLE DE ORO NUM      2     NO     NO   \n",
       "572                              AVENIDA DE DAROCA NUM     90     NO     NO   \n",
       "588        CALLE DE ALCALA - PLAZA DE LA INDEPENDENCIA      0     NO     NO   \n",
       "668                                CALLE DEL RELOJ NUM     12     NO     NO   \n",
       "\n",
       "     victimas tipo_accidente tipo_persona    sexo  \\\n",
       "1           2      ATROPELLO    CONDUCTOR  HOMBRE   \n",
       "133         1      ATROPELLO    CONDUCTOR  HOMBRE   \n",
       "134         1      ATROPELLO    CONDUCTOR  HOMBRE   \n",
       "184         1      ATROPELLO    CONDUCTOR  HOMBRE   \n",
       "360         1      ATROPELLO    CONDUCTOR  HOMBRE   \n",
       "477         2      ATROPELLO    CONDUCTOR  HOMBRE   \n",
       "512         1      ATROPELLO    CONDUCTOR  HOMBRE   \n",
       "536         1      ATROPELLO    CONDUCTOR  HOMBRE   \n",
       "572         1      ATROPELLO    CONDUCTOR  HOMBRE   \n",
       "588         1      ATROPELLO    CONDUCTOR  HOMBRE   \n",
       "668         1      ATROPELLO    CONDUCTOR  HOMBRE   \n",
       "\n",
       "                                    lesividad horain  edadmin  mes  \n",
       "1    HL                                        15:00     25.0    1  \n",
       "133  IL                                        15:00     25.0    4  \n",
       "134  IL                                        18:00     40.0    4  \n",
       "184  HL                                        12:00     50.0    4  \n",
       "360  IL                                        17:00     25.0    7  \n",
       "477  HL                                         9:00     45.0    9  \n",
       "512  IL                                        11:00     18.0    9  \n",
       "536  IL                                        11:00     60.0   10  \n",
       "572  IL                                        14:00     50.0   10  \n",
       "588  IL                                        16:00     35.0   10  \n",
       "668  IL                                         7:00     45.0   12  "
      ]
     },
     "execution_count": 20,
     "metadata": {},
     "output_type": "execute_result"
    }
   ],
   "source": [
    "acc4[(acc4['dia_semana'] == 'LUNES') & (acc4['tipo_accidente'] == 'ATROPELLO')]"
   ]
  },
  {
   "cell_type": "markdown",
   "metadata": {},
   "source": [
    "Ademas de los filtros, podemos organizar los resultados por campo. En este caso, buscamos los accidentes de lesividad de herida grave, de hombres en el mes de septiembre. Todo ordenado por orden alfabetico del distrito."
   ]
  },
  {
   "cell_type": "code",
   "execution_count": 28,
   "metadata": {},
   "outputs": [
    {
     "data": {
      "text/html": [
       "<div>\n",
       "<style scoped>\n",
       "    .dataframe tbody tr th:only-of-type {\n",
       "        vertical-align: middle;\n",
       "    }\n",
       "\n",
       "    .dataframe tbody tr th {\n",
       "        vertical-align: top;\n",
       "    }\n",
       "\n",
       "    .dataframe thead th {\n",
       "        text-align: right;\n",
       "    }\n",
       "</style>\n",
       "<table border=\"1\" class=\"dataframe\">\n",
       "  <thead>\n",
       "    <tr style=\"text-align: right;\">\n",
       "      <th></th>\n",
       "      <th>fecha</th>\n",
       "      <th>dia_semana</th>\n",
       "      <th>distrito</th>\n",
       "      <th>lugar</th>\n",
       "      <th>numero</th>\n",
       "      <th>lluvia</th>\n",
       "      <th>mojado</th>\n",
       "      <th>victimas</th>\n",
       "      <th>tipo_accidente</th>\n",
       "      <th>tipo_persona</th>\n",
       "      <th>sexo</th>\n",
       "      <th>lesividad</th>\n",
       "      <th>horain</th>\n",
       "      <th>edadmin</th>\n",
       "      <th>mes</th>\n",
       "    </tr>\n",
       "  </thead>\n",
       "  <tbody>\n",
       "    <tr>\n",
       "      <th>497</th>\n",
       "      <td>2018-09-19 09:00:00</td>\n",
       "      <td>MIERCOLES</td>\n",
       "      <td>CARABANCHEL</td>\n",
       "      <td>GLORIETA DEL MARQUES DE VADILLO NUM</td>\n",
       "      <td>1</td>\n",
       "      <td>NO</td>\n",
       "      <td>NO</td>\n",
       "      <td>1</td>\n",
       "      <td>COLISIÓN DOBLE</td>\n",
       "      <td>CONDUCTOR</td>\n",
       "      <td>HOMBRE</td>\n",
       "      <td>HG</td>\n",
       "      <td>9:00</td>\n",
       "      <td>30.0</td>\n",
       "      <td>9</td>\n",
       "    </tr>\n",
       "    <tr>\n",
       "      <th>499</th>\n",
       "      <td>2018-09-19 21:00:00</td>\n",
       "      <td>MIERCOLES</td>\n",
       "      <td>CARABANCHEL</td>\n",
       "      <td>PARQUE DE MADRID RIO (RIBERA OESTE) KM.</td>\n",
       "      <td>5600</td>\n",
       "      <td>NO</td>\n",
       "      <td>NO</td>\n",
       "      <td>1</td>\n",
       "      <td>CAÍDA BICICLETA</td>\n",
       "      <td>CONDUCTOR</td>\n",
       "      <td>HOMBRE</td>\n",
       "      <td>HG</td>\n",
       "      <td>21:00</td>\n",
       "      <td>40.0</td>\n",
       "      <td>9</td>\n",
       "    </tr>\n",
       "    <tr>\n",
       "      <th>524</th>\n",
       "      <td>2018-09-28 08:00:00</td>\n",
       "      <td>VIERNES</td>\n",
       "      <td>MONCLOA-ARAVACA</td>\n",
       "      <td>CARRETERA DE RODAJOS</td>\n",
       "      <td>0</td>\n",
       "      <td>NO</td>\n",
       "      <td>NO</td>\n",
       "      <td>2</td>\n",
       "      <td>ATROPELLO</td>\n",
       "      <td>CONDUCTOR</td>\n",
       "      <td>HOMBRE</td>\n",
       "      <td>HG</td>\n",
       "      <td>8:00</td>\n",
       "      <td>30.0</td>\n",
       "      <td>9</td>\n",
       "    </tr>\n",
       "    <tr>\n",
       "      <th>535</th>\n",
       "      <td>2018-09-30 12:00:00</td>\n",
       "      <td>DOMINGO</td>\n",
       "      <td>MONCLOA-ARAVACA</td>\n",
       "      <td>CAMINO DEL PRINCIPE NUM</td>\n",
       "      <td>2</td>\n",
       "      <td>NO</td>\n",
       "      <td>NO</td>\n",
       "      <td>1</td>\n",
       "      <td>CAÍDA BICICLETA</td>\n",
       "      <td>CONDUCTOR</td>\n",
       "      <td>HOMBRE</td>\n",
       "      <td>HG</td>\n",
       "      <td>12:00</td>\n",
       "      <td>55.0</td>\n",
       "      <td>9</td>\n",
       "    </tr>\n",
       "    <tr>\n",
       "      <th>474</th>\n",
       "      <td>2018-09-08 18:00:00</td>\n",
       "      <td>SABADO</td>\n",
       "      <td>RETIRO</td>\n",
       "      <td>CALLE DE CLAUDIO MOYANO NUM</td>\n",
       "      <td>2</td>\n",
       "      <td>NO</td>\n",
       "      <td>NO</td>\n",
       "      <td>1</td>\n",
       "      <td>CAÍDA BICICLETA</td>\n",
       "      <td>CONDUCTOR</td>\n",
       "      <td>HOMBRE</td>\n",
       "      <td>HG</td>\n",
       "      <td>18:00</td>\n",
       "      <td>25.0</td>\n",
       "      <td>9</td>\n",
       "    </tr>\n",
       "  </tbody>\n",
       "</table>\n",
       "</div>"
      ],
      "text/plain": [
       "                  fecha dia_semana         distrito  \\\n",
       "497 2018-09-19 09:00:00  MIERCOLES      CARABANCHEL   \n",
       "499 2018-09-19 21:00:00  MIERCOLES      CARABANCHEL   \n",
       "524 2018-09-28 08:00:00    VIERNES  MONCLOA-ARAVACA   \n",
       "535 2018-09-30 12:00:00    DOMINGO  MONCLOA-ARAVACA   \n",
       "474 2018-09-08 18:00:00     SABADO           RETIRO   \n",
       "\n",
       "                                       lugar numero lluvia mojado  victimas  \\\n",
       "497      GLORIETA DEL MARQUES DE VADILLO NUM      1     NO     NO         1   \n",
       "499  PARQUE DE MADRID RIO (RIBERA OESTE) KM.   5600     NO     NO         1   \n",
       "524                     CARRETERA DE RODAJOS      0     NO     NO         2   \n",
       "535                  CAMINO DEL PRINCIPE NUM      2     NO     NO         1   \n",
       "474              CALLE DE CLAUDIO MOYANO NUM      2     NO     NO         1   \n",
       "\n",
       "      tipo_accidente tipo_persona    sexo lesividad horain  edadmin  mes  \n",
       "497   COLISIÓN DOBLE    CONDUCTOR  HOMBRE        HG   9:00     30.0    9  \n",
       "499  CAÍDA BICICLETA    CONDUCTOR  HOMBRE        HG  21:00     40.0    9  \n",
       "524        ATROPELLO    CONDUCTOR  HOMBRE        HG   8:00     30.0    9  \n",
       "535  CAÍDA BICICLETA    CONDUCTOR  HOMBRE        HG  12:00     55.0    9  \n",
       "474  CAÍDA BICICLETA    CONDUCTOR  HOMBRE        HG  18:00     25.0    9  "
      ]
     },
     "execution_count": 28,
     "metadata": {},
     "output_type": "execute_result"
    }
   ],
   "source": [
    "acc4[(acc4['lesividad'] == 'HG') & (acc4['sexo'] == 'HOMBRE') & (acc4['mes'] == 9.0)].sort_values('distrito')"
   ]
  },
  {
   "cell_type": "markdown",
   "metadata": {},
   "source": [
    "Empezamos realizando el **analisis exploratorio visual**. Iniciamos con la distribución de las variables de mes y edad."
   ]
  },
  {
   "cell_type": "markdown",
   "metadata": {},
   "source": [
    "Utilizamos el proximo comando para que se vean más grandes los gráficos en el notebook."
   ]
  },
  {
   "cell_type": "code",
   "execution_count": 30,
   "metadata": {},
   "outputs": [],
   "source": [
    "from matplotlib import rcParams\n",
    "\n",
    "rcParams['figure.figsize'] = 18, 10\n",
    "sns.set_context('talk')\n",
    "sns.set_style(\"darkgrid\")"
   ]
  },
  {
   "cell_type": "markdown",
   "metadata": {},
   "source": [
    "La edad vemos que tiene una distribucción muy parecida a la normal. Tiene el pico en el medio, aunque un poco inclinado a la izquierda, siendo las personas de 25 a 35 años las que mas accidentes tienen, lo cual es consistente con el hecho que son las personas que mas utilizan la bicicleta, mientras que las personas menores a los 15 años y mayores a los 40 tienden a utilizar en menor proporcion este medio."
   ]
  },
  {
   "cell_type": "code",
   "execution_count": 27,
   "metadata": {},
   "outputs": [
    {
     "data": {
      "image/png": "[encoded data removed]",
      "text/plain": [
       "<Figure size 1296x720 with 1 Axes>"
      ]
     },
     "metadata": {
      "needs_background": "light"
     },
     "output_type": "display_data"
    }
   ],
   "source": [
    "tmp = acc4[acc4.edadmin > 0]\n",
    "out = sns.distplot(tmp.edadmin, bins=13)\n"
   ]
  },
  {
   "cell_type": "markdown",
   "metadata": {},
   "source": [
    "Los meses tienen una distribucción menos regular, vemos que en la temporada de verano es cuando mas accidentes se presentan siendo por el contrario el invierno donde menos accidentes hay con un leve incremento en enero en comparación a diciembre, febrero y marzo."
   ]
  },
  {
   "cell_type": "code",
   "execution_count": 140,
   "metadata": {},
   "outputs": [
    {
     "data": {
      "image/png": "[encoded data removed]",
      "text/plain": [
       "<Figure size 1296x720 with 1 Axes>"
      ]
     },
     "metadata": {
      "needs_background": "light"
     },
     "output_type": "display_data"
    }
   ],
   "source": [
    "out = sns.distplot(acc4.mes, bins=12)"
   ]
  },
  {
   "cell_type": "markdown",
   "metadata": {},
   "source": [
    "En cuanto al comportamiento entre los dias de la semana, vemos que el jueves es cuando mas accidentes se presentan, con cerca de 120, el domingo es cuando menos accidentes hay con cerca de 90. Los demas dias tienen un comportamiento muy parejo oscilando entre 95 y 105."
   ]
  },
  {
   "cell_type": "code",
   "execution_count": 120,
   "metadata": {},
   "outputs": [
    {
     "data": {
      "image/png": "[encoded data removed]",
      "text/plain": [
       "<Figure size 1296x720 with 1 Axes>"
      ]
     },
     "metadata": {
      "needs_background": "light"
     },
     "output_type": "display_data"
    }
   ],
   "source": [
    "o1 = ['LUNES', 'MARTES', 'MIERCOLES', 'JUEVES', 'VIERNES', 'SABADO', 'DOMINGO']\n",
    "out = sns.countplot(x='dia_semana', order = o1, data=acc4)"
   ]
  },
  {
   "cell_type": "markdown",
   "metadata": {},
   "source": [
    "Para organizar las variables en los graficos definimos el orden."
   ]
  },
  {
   "cell_type": "code",
   "execution_count": 129,
   "metadata": {},
   "outputs": [],
   "source": [
    "o = ['CENTRO', 'RETIRO', 'CHAMBERI', 'MONCLOA-ARAVACA', 'SALAMANCA', \n",
    " 'CARABANCHEL', 'LATINA', 'TETUAN', 'ARGANZUELA', 'FUENCARRAL-EL PARDO', \n",
    " 'PUENTE DE VALLECAS', 'CHAMARTIN', 'CIUDAD LINEAL', 'SAN BLAS', 'HORTALEZA',\n",
    " 'USERA', 'VILLA DE VALLECAS', 'MORATALAZ', 'VILLAVERDE', 'VICALVARO', 'BARAJAS']\n",
    "\n",
    "o2 = ['1:00', '2:00', '3:00', '4:00', '5:00', '6:00', '7:00', '8:00', '9:00', '10:00',\n",
    "        '11:00', '12:00','13:00','14:00', '15:00', '16:00', '17:00', \n",
    "      '18:00', '19:00', '20:00', '21:00', '22:00', '23:00', '00:00']\n",
    "\n",
    "o4 = ['IL', 'HL', 'HG']\n",
    "\n",
    "o5 = ['IL', 'HL', 'HG', 'NO ASIGNADA']"
   ]
  },
  {
   "cell_type": "markdown",
   "metadata": {},
   "source": [
    "Hacemos un grafico de dispersión evaluando el tipo de lesividad y su relación con la edad. Unicamente vemos que las heridas leves son las que mayor observaciones tienen pero no parece haber un aumento en las heridas graves con un aumento en la edad, aunque si se presenta una ausencia de heridas graves en sujetos menores de 20 años."
   ]
  },
  {
   "cell_type": "code",
   "execution_count": 32,
   "metadata": {},
   "outputs": [
    {
     "data": {
      "image/png": "[encoded data removed]",
      "text/plain": [
       "<Figure size 1296x720 with 1 Axes>"
      ]
     },
     "metadata": {
      "needs_background": "light"
     },
     "output_type": "display_data"
    }
   ],
   "source": [
    "out = sns.swarmplot(x='lesividad', y='edadmin', order = o4, data=acc4[acc4['lesividad'] != 'NO ASIGNADA'])"
   ]
  },
  {
   "cell_type": "markdown",
   "metadata": {},
   "source": [
    "Hacemos tambien un grafico de dispersión evaluando el sexo y la edad. Vemos que los hombres tienen muchos mas accidentes y en especial con los usuarios menores de 40. "
   ]
  },
  {
   "cell_type": "code",
   "execution_count": 33,
   "metadata": {},
   "outputs": [
    {
     "data": {
      "image/png": "[encoded data removed]",
      "text/plain": [
       "<Figure size 1296x720 with 1 Axes>"
      ]
     },
     "metadata": {
      "needs_background": "light"
     },
     "output_type": "display_data"
    }
   ],
   "source": [
    "out = sns.swarmplot(x='sexo', y='edadmin', data=acc4[acc4.sexo != 'NO ASIGNADO'])"
   ]
  },
  {
   "cell_type": "markdown",
   "metadata": {},
   "source": [
    "Para saber cual es el distrito con mayores accidentes creamos una grafica de barras horizontal. Observamos que el centro es de lejos el distrito mas accidentado, lo cual es bastante util para determinar donde enfocar las estrategias de prevencción de accidentes. Retiro, Chamberi, Moncloa-Aravaca y Salamanca tambien tienen cifras altas. "
   ]
  },
  {
   "cell_type": "code",
   "execution_count": 35,
   "metadata": {},
   "outputs": [
    {
     "data": {
      "image/png": "[encoded data removed]",
      "text/plain": [
       "<Figure size 1296x720 with 1 Axes>"
      ]
     },
     "metadata": {
      "needs_background": "light"
     },
     "output_type": "display_data"
    }
   ],
   "source": [
    "out = sns.countplot(y='distrito', data=acc4, palette='Set1', order=o )"
   ]
  },
  {
   "cell_type": "markdown",
   "metadata": {},
   "source": [
    "Ahora bien, la distribucción de los accidentes en las horas del dia tienen una cola grande sobre la izquierda. Es decir, que en las horas de la madrugada es cuando menos accidentes hay, logicamente pues es tambien cuando menos se utilizan las bicicletas. Por otro lado, las 19:00 es cuando mas accidentes ocurren, siendo alto tambien a las 9:00, 13:00 y 18:00, horas donde la mayoria de la gente se desplaza a estudiar, almorzar y trabajar."
   ]
  },
  {
   "cell_type": "code",
   "execution_count": 42,
   "metadata": {},
   "outputs": [
    {
     "data": {
      "image/png": "[encoded data removed]",
      "text/plain": [
       "<Figure size 1296x720 with 1 Axes>"
      ]
     },
     "metadata": {
      "needs_background": "light"
     },
     "output_type": "display_data"
    }
   ],
   "source": [
    "out = sns.countplot(x='horain', data=acc4, order=o2, palette='Set1')"
   ]
  },
  {
   "cell_type": "markdown",
   "metadata": {},
   "source": [
    "Utilizando un catplot, podemos construir un grafico comparando los valores por el resultado de una variable. En este caso, vamos a utilizar la variable sexo, para observar como se relaciona la edad con el tipo de lesividad. En la grafica de dispersión que vimos previamente, del tipo de lesividad, no era claro que existiera una relación. Sin embargo, al utilizar un boxplot vemos un claro incremento en la mediana de la edad de los hombres, entre mas grave sea la lesión. En el caso de las mujeres no observamos ese comportamiento."
   ]
  },
  {
   "cell_type": "code",
   "execution_count": 248,
   "metadata": {},
   "outputs": [
    {
     "data": {
      "image/png": "[encoded data removed]",
      "text/plain": [
       "<Figure size 720x360 with 2 Axes>"
      ]
     },
     "metadata": {
      "needs_background": "light"
     },
     "output_type": "display_data"
    }
   ],
   "source": [
    "g = sns.catplot(x=\"lesividad\", y='edadmin', order = o4, col=\"sexo\",\n",
    "                 data=acc_2[acc_2.sexo != 'NO ASIGNADO'], kind=\"box\")"
   ]
  },
  {
   "cell_type": "markdown",
   "metadata": {},
   "source": [
    "Analizamos, en los 5 distritos con mas accidentes, la distribucción de los accidentes entre los meses del año, diferenciando los accidentes que se dieron con y sin lluvia. Podemos observar una diferencia marcada entre los distritos, cuando no hubo lluvia. Por ejemplo, el distrito del retiro tiene pocos accidentes en los ultimos meses, mientras que Moncloa tiene menor cantidad en los primeros meses. Centro tiene una distribución mas uniforme en todos los meses excepto en marzo que hubo una reducción en los todos los distritos analizados. Chamberi, por otro lado tiene menores accidentes en los meses que presentan los picos como lo son junio y septiembre, pero la mayoria de sus incidentes se producen en julio y octubre. De los casos con lluvia vemos que retiro es mas afectado en la primera mitad del año mientras que Chamberi y Moncloa al final del año. "
   ]
  },
  {
   "cell_type": "code",
   "execution_count": 141,
   "metadata": {},
   "outputs": [
    {
     "data": {
      "image/png": "[encoded data removed]",
      "text/plain": [
       "<Figure size 720x360 with 2 Axes>"
      ]
     },
     "metadata": {
      "needs_background": "light"
     },
     "output_type": "display_data"
    }
   ],
   "source": [
    "tmp = acc4[(acc4.distrito == 'CENTRO') | (acc4.distrito == 'RETIRO') | (acc4.distrito == 'CHAMBERI') \n",
    "           | (acc4.distrito == 'MONCLOA-ARAVACA') | (acc4.distrito == 'SALAMANCA')]\n",
    "\n",
    "g = sns.catplot(x=\"mes\", y='distrito', col=\"lluvia\",\n",
    "                 data=tmp, kind=\"swarm\")"
   ]
  },
  {
   "cell_type": "markdown",
   "metadata": {},
   "source": [
    "Para analizar como evoluciona el numero de victimas en el año, hacemos una grafica linear que mide el numero de victimas por mes. En el primer trimestre del año, la variable presenta una tendencia negativa. Las cifras van cayendo de enero a febrero y de febrero a marzo. Luego, en el segundo trimestre suben pasando de 40 victimas en marzo a alrededor de 95 en junio. En el tercer trimestre, las cifras caen levemente en julio y mas pronunciado en agosto, para luego subir a valores maximos en spetiembre. En el ultimo trimestre se presenta una caida constante y pronunciada llegando en diciembre a los valores minimos. "
   ]
  },
  {
   "cell_type": "code",
   "execution_count": 142,
   "metadata": {},
   "outputs": [
    {
     "data": {
      "image/png": "[encoded data removed]",
      "text/plain": [
       "<Figure size 1296x720 with 1 Axes>"
      ]
     },
     "metadata": {
      "needs_background": "light"
     },
     "output_type": "display_data"
    }
   ],
   "source": [
    "g = sns.lineplot(x=\"mes\", y='victimas', estimator ='sum',\n",
    "                 data=acc4)"
   ]
  },
  {
   "cell_type": "markdown",
   "metadata": {},
   "source": [
    "De la siguiente grafica podemos concluir que la gran mayoria de accidentes que se presentan son de lesividad `Herida Leve`. Los accidentes con implicaciones de `Herida Grave` no son frecuentes aunque se dan en mayor proporción en los hombres, al igual que todos los accidentes en general."
   ]
  },
  {
   "cell_type": "code",
   "execution_count": 87,
   "metadata": {},
   "outputs": [
    {
     "data": {
      "image/png": "[encoded data removed]",
      "text/plain": [
       "<Figure size 1296x720 with 1 Axes>"
      ]
     },
     "metadata": {
      "needs_background": "light"
     },
     "output_type": "display_data"
    }
   ],
   "source": [
    "ax = sns.countplot(x=\"lesividad\", data=acc4, hue='sexo', order = o5)"
   ]
  },
  {
   "cell_type": "markdown",
   "metadata": {},
   "source": [
    "Analizando la lesividad, con respecto a los dias de la semana vemos que los dias viernes y sabado ocurren una mayor proporción de accidentes de `Herida Grave`, mientras que lunes y martes ocurren una mayor proporción de `Ilesos`."
   ]
  },
  {
   "cell_type": "code",
   "execution_count": 90,
   "metadata": {},
   "outputs": [
    {
     "data": {
      "image/png": "[encoded data removed]",
      "text/plain": [
       "<Figure size 1296x720 with 1 Axes>"
      ]
     },
     "metadata": {
      "needs_background": "light"
     },
     "output_type": "display_data"
    }
   ],
   "source": [
    "ax = sns.countplot(x=\"dia_semana\", data=acc4 , hue='lesividad', order = o1)"
   ]
  },
  {
   "cell_type": "markdown",
   "metadata": {},
   "source": [
    "Como mencionamos previamente, la mayoria de los accidentes afectan solo a una victima. El grafico de violin comprueba que hay pocas observaciones con dos victimas y unicamente en martes, viernes y sabado hay observaciones de accidentes de 3 victimas. "
   ]
  },
  {
   "cell_type": "code",
   "execution_count": 146,
   "metadata": {},
   "outputs": [
    {
     "data": {
      "image/png": "[encoded data removed]",
      "text/plain": [
       "<Figure size 1296x720 with 1 Axes>"
      ]
     },
     "metadata": {
      "needs_background": "light"
     },
     "output_type": "display_data"
    }
   ],
   "source": [
    "out = sns.violinplot(x='dia_semana', y='victimas', data=acc4, order = o1)"
   ]
  },
  {
   "cell_type": "markdown",
   "metadata": {},
   "source": [
    "Otra opción en Pandas es convertir las tablas en series de tiempo. Esto se puede lograr asignandole al indice una columna de fecha."
   ]
  },
  {
   "cell_type": "code",
   "execution_count": 68,
   "metadata": {},
   "outputs": [],
   "source": [
    "accT = acc4.set_index(acc4.fecha)"
   ]
  },
  {
   "cell_type": "markdown",
   "metadata": {},
   "source": [
    "Esto nos permite relalizar filtros por fechas o rangos de fechas."
   ]
  },
  {
   "cell_type": "code",
   "execution_count": 108,
   "metadata": {},
   "outputs": [
    {
     "data": {
      "text/html": [
       "<div>\n",
       "<style scoped>\n",
       "    .dataframe tbody tr th:only-of-type {\n",
       "        vertical-align: middle;\n",
       "    }\n",
       "\n",
       "    .dataframe tbody tr th {\n",
       "        vertical-align: top;\n",
       "    }\n",
       "\n",
       "    .dataframe thead th {\n",
       "        text-align: right;\n",
       "    }\n",
       "</style>\n",
       "<table border=\"1\" class=\"dataframe\">\n",
       "  <thead>\n",
       "    <tr style=\"text-align: right;\">\n",
       "      <th></th>\n",
       "      <th>fecha</th>\n",
       "      <th>dia_semana</th>\n",
       "      <th>distrito</th>\n",
       "      <th>lugar</th>\n",
       "      <th>numero</th>\n",
       "      <th>lluvia</th>\n",
       "      <th>mojado</th>\n",
       "      <th>victimas</th>\n",
       "      <th>tipo_accidente</th>\n",
       "      <th>tipo_persona</th>\n",
       "      <th>sexo</th>\n",
       "      <th>lesividad</th>\n",
       "      <th>horain</th>\n",
       "      <th>edadmin</th>\n",
       "      <th>mes</th>\n",
       "    </tr>\n",
       "    <tr>\n",
       "      <th>fecha</th>\n",
       "      <th></th>\n",
       "      <th></th>\n",
       "      <th></th>\n",
       "      <th></th>\n",
       "      <th></th>\n",
       "      <th></th>\n",
       "      <th></th>\n",
       "      <th></th>\n",
       "      <th></th>\n",
       "      <th></th>\n",
       "      <th></th>\n",
       "      <th></th>\n",
       "      <th></th>\n",
       "      <th></th>\n",
       "      <th></th>\n",
       "    </tr>\n",
       "  </thead>\n",
       "  <tbody>\n",
       "    <tr>\n",
       "      <th>2018-01-01 13:00:00</th>\n",
       "      <td>2018-01-01 13:00:00</td>\n",
       "      <td>LUNES</td>\n",
       "      <td>ARGANZUELA</td>\n",
       "      <td>CALLE DE ANCORA - PASEO DE LAS DELICIAS</td>\n",
       "      <td>0</td>\n",
       "      <td>NO</td>\n",
       "      <td>NO</td>\n",
       "      <td>1</td>\n",
       "      <td>COLISIÓN DOBLE</td>\n",
       "      <td>CONDUCTOR</td>\n",
       "      <td>HOMBRE</td>\n",
       "      <td>HL</td>\n",
       "      <td>13:00</td>\n",
       "      <td>30.0</td>\n",
       "      <td>1</td>\n",
       "    </tr>\n",
       "    <tr>\n",
       "      <th>2018-01-01 15:00:00</th>\n",
       "      <td>2018-01-01 15:00:00</td>\n",
       "      <td>LUNES</td>\n",
       "      <td>CENTRO</td>\n",
       "      <td>CALLE DE ALCALA NUM</td>\n",
       "      <td>44</td>\n",
       "      <td>NO</td>\n",
       "      <td>NO</td>\n",
       "      <td>2</td>\n",
       "      <td>ATROPELLO</td>\n",
       "      <td>CONDUCTOR</td>\n",
       "      <td>HOMBRE</td>\n",
       "      <td>HL</td>\n",
       "      <td>15:00</td>\n",
       "      <td>25.0</td>\n",
       "      <td>1</td>\n",
       "    </tr>\n",
       "    <tr>\n",
       "      <th>2018-01-02 12:00:00</th>\n",
       "      <td>2018-01-02 12:00:00</td>\n",
       "      <td>MARTES</td>\n",
       "      <td>SALAMANCA</td>\n",
       "      <td>CALLE DE SERRANO - CALLE DEL CONDE DE ARANDA</td>\n",
       "      <td>0</td>\n",
       "      <td>NO</td>\n",
       "      <td>NO</td>\n",
       "      <td>2</td>\n",
       "      <td>ATROPELLO</td>\n",
       "      <td>CONDUCTOR</td>\n",
       "      <td>HOMBRE</td>\n",
       "      <td>HL</td>\n",
       "      <td>12:00</td>\n",
       "      <td>40.0</td>\n",
       "      <td>1</td>\n",
       "    </tr>\n",
       "    <tr>\n",
       "      <th>2018-01-03 13:00:00</th>\n",
       "      <td>2018-01-03 13:00:00</td>\n",
       "      <td>MIERCOLES</td>\n",
       "      <td>SALAMANCA</td>\n",
       "      <td>PLAZA DE LA INDEPENDENCIA NUM</td>\n",
       "      <td>5</td>\n",
       "      <td>NO</td>\n",
       "      <td>NO</td>\n",
       "      <td>1</td>\n",
       "      <td>COLISIÓN DOBLE</td>\n",
       "      <td>CONDUCTOR</td>\n",
       "      <td>HOMBRE</td>\n",
       "      <td>HL</td>\n",
       "      <td>13:00</td>\n",
       "      <td>50.0</td>\n",
       "      <td>1</td>\n",
       "    </tr>\n",
       "    <tr>\n",
       "      <th>2018-01-03 15:00:00</th>\n",
       "      <td>2018-01-03 15:00:00</td>\n",
       "      <td>MIERCOLES</td>\n",
       "      <td>CIUDAD LINEAL</td>\n",
       "      <td>CALLE DE RAMIREZ DE ARELLANO NUM</td>\n",
       "      <td>35</td>\n",
       "      <td>NO</td>\n",
       "      <td>NO</td>\n",
       "      <td>1</td>\n",
       "      <td>COLISIÓN DOBLE</td>\n",
       "      <td>CONDUCTOR</td>\n",
       "      <td>HOMBRE</td>\n",
       "      <td>HL</td>\n",
       "      <td>15:00</td>\n",
       "      <td>25.0</td>\n",
       "      <td>1</td>\n",
       "    </tr>\n",
       "  </tbody>\n",
       "</table>\n",
       "</div>"
      ],
      "text/plain": [
       "                                  fecha dia_semana       distrito  \\\n",
       "fecha                                                               \n",
       "2018-01-01 13:00:00 2018-01-01 13:00:00      LUNES     ARGANZUELA   \n",
       "2018-01-01 15:00:00 2018-01-01 15:00:00      LUNES         CENTRO   \n",
       "2018-01-02 12:00:00 2018-01-02 12:00:00     MARTES      SALAMANCA   \n",
       "2018-01-03 13:00:00 2018-01-03 13:00:00  MIERCOLES      SALAMANCA   \n",
       "2018-01-03 15:00:00 2018-01-03 15:00:00  MIERCOLES  CIUDAD LINEAL   \n",
       "\n",
       "                                                            lugar numero  \\\n",
       "fecha                                                                      \n",
       "2018-01-01 13:00:00       CALLE DE ANCORA - PASEO DE LAS DELICIAS      0   \n",
       "2018-01-01 15:00:00                           CALLE DE ALCALA NUM     44   \n",
       "2018-01-02 12:00:00  CALLE DE SERRANO - CALLE DEL CONDE DE ARANDA      0   \n",
       "2018-01-03 13:00:00                 PLAZA DE LA INDEPENDENCIA NUM      5   \n",
       "2018-01-03 15:00:00              CALLE DE RAMIREZ DE ARELLANO NUM     35   \n",
       "\n",
       "                    lluvia mojado  victimas  tipo_accidente tipo_persona  \\\n",
       "fecha                                                                      \n",
       "2018-01-01 13:00:00     NO     NO         1  COLISIÓN DOBLE    CONDUCTOR   \n",
       "2018-01-01 15:00:00     NO     NO         2       ATROPELLO    CONDUCTOR   \n",
       "2018-01-02 12:00:00     NO     NO         2       ATROPELLO    CONDUCTOR   \n",
       "2018-01-03 13:00:00     NO     NO         1  COLISIÓN DOBLE    CONDUCTOR   \n",
       "2018-01-03 15:00:00     NO     NO         1  COLISIÓN DOBLE    CONDUCTOR   \n",
       "\n",
       "                       sexo lesividad horain  edadmin  mes  \n",
       "fecha                                                       \n",
       "2018-01-01 13:00:00  HOMBRE        HL  13:00     30.0    1  \n",
       "2018-01-01 15:00:00  HOMBRE        HL  15:00     25.0    1  \n",
       "2018-01-02 12:00:00  HOMBRE        HL  12:00     40.0    1  \n",
       "2018-01-03 13:00:00  HOMBRE        HL  13:00     50.0    1  \n",
       "2018-01-03 15:00:00  HOMBRE        HL  15:00     25.0    1  "
      ]
     },
     "execution_count": 108,
     "metadata": {},
     "output_type": "execute_result"
    }
   ],
   "source": [
    "accT.loc['2018-01-01 10:00' : '2018-01-07 23:59'].head()"
   ]
  },
  {
   "cell_type": "markdown",
   "metadata": {},
   "source": [
    "Adicionalmente podemos crear nuevas tablas agregando por la periodicidad deseada y escogiendo una función de agregación como suma, promedio, mediana, maximo, minimo, etc."
   ]
  },
  {
   "cell_type": "markdown",
   "metadata": {},
   "source": [
    "En este caso, generamos una tabla con una periodicidad diaria, agregando contando los resultados."
   ]
  },
  {
   "cell_type": "code",
   "execution_count": 70,
   "metadata": {},
   "outputs": [],
   "source": [
    "acc_dia = accT.resample('D').count()"
   ]
  },
  {
   "cell_type": "markdown",
   "metadata": {},
   "source": [
    "Para poder construir graficas con la variabe de fecha, sobreescribimos la columna fecha con los valores del indice. "
   ]
  },
  {
   "cell_type": "code",
   "execution_count": 71,
   "metadata": {},
   "outputs": [
    {
     "data": {
      "text/html": [
       "<div>\n",
       "<style scoped>\n",
       "    .dataframe tbody tr th:only-of-type {\n",
       "        vertical-align: middle;\n",
       "    }\n",
       "\n",
       "    .dataframe tbody tr th {\n",
       "        vertical-align: top;\n",
       "    }\n",
       "\n",
       "    .dataframe thead th {\n",
       "        text-align: right;\n",
       "    }\n",
       "</style>\n",
       "<table border=\"1\" class=\"dataframe\">\n",
       "  <thead>\n",
       "    <tr style=\"text-align: right;\">\n",
       "      <th></th>\n",
       "      <th>fecha</th>\n",
       "      <th>dia_semana</th>\n",
       "      <th>distrito</th>\n",
       "      <th>lugar</th>\n",
       "      <th>numero</th>\n",
       "      <th>lluvia</th>\n",
       "      <th>mojado</th>\n",
       "      <th>victimas</th>\n",
       "      <th>tipo_accidente</th>\n",
       "      <th>tipo_persona</th>\n",
       "      <th>sexo</th>\n",
       "      <th>lesividad</th>\n",
       "      <th>horain</th>\n",
       "      <th>edadmin</th>\n",
       "      <th>mes</th>\n",
       "    </tr>\n",
       "    <tr>\n",
       "      <th>fecha</th>\n",
       "      <th></th>\n",
       "      <th></th>\n",
       "      <th></th>\n",
       "      <th></th>\n",
       "      <th></th>\n",
       "      <th></th>\n",
       "      <th></th>\n",
       "      <th></th>\n",
       "      <th></th>\n",
       "      <th></th>\n",
       "      <th></th>\n",
       "      <th></th>\n",
       "      <th></th>\n",
       "      <th></th>\n",
       "      <th></th>\n",
       "    </tr>\n",
       "  </thead>\n",
       "  <tbody>\n",
       "    <tr>\n",
       "      <th>2018-01-01</th>\n",
       "      <td>2018-01-01</td>\n",
       "      <td>2</td>\n",
       "      <td>2</td>\n",
       "      <td>2</td>\n",
       "      <td>2</td>\n",
       "      <td>2</td>\n",
       "      <td>2</td>\n",
       "      <td>2</td>\n",
       "      <td>2</td>\n",
       "      <td>2</td>\n",
       "      <td>2</td>\n",
       "      <td>2</td>\n",
       "      <td>2</td>\n",
       "      <td>2</td>\n",
       "      <td>2</td>\n",
       "    </tr>\n",
       "    <tr>\n",
       "      <th>2018-01-02</th>\n",
       "      <td>2018-01-02</td>\n",
       "      <td>1</td>\n",
       "      <td>1</td>\n",
       "      <td>1</td>\n",
       "      <td>1</td>\n",
       "      <td>1</td>\n",
       "      <td>1</td>\n",
       "      <td>1</td>\n",
       "      <td>1</td>\n",
       "      <td>1</td>\n",
       "      <td>1</td>\n",
       "      <td>1</td>\n",
       "      <td>1</td>\n",
       "      <td>1</td>\n",
       "      <td>1</td>\n",
       "    </tr>\n",
       "    <tr>\n",
       "      <th>2018-01-03</th>\n",
       "      <td>2018-01-03</td>\n",
       "      <td>3</td>\n",
       "      <td>3</td>\n",
       "      <td>3</td>\n",
       "      <td>3</td>\n",
       "      <td>3</td>\n",
       "      <td>3</td>\n",
       "      <td>3</td>\n",
       "      <td>3</td>\n",
       "      <td>3</td>\n",
       "      <td>3</td>\n",
       "      <td>3</td>\n",
       "      <td>3</td>\n",
       "      <td>3</td>\n",
       "      <td>3</td>\n",
       "    </tr>\n",
       "    <tr>\n",
       "      <th>2018-01-04</th>\n",
       "      <td>2018-01-04</td>\n",
       "      <td>4</td>\n",
       "      <td>4</td>\n",
       "      <td>4</td>\n",
       "      <td>4</td>\n",
       "      <td>4</td>\n",
       "      <td>4</td>\n",
       "      <td>4</td>\n",
       "      <td>4</td>\n",
       "      <td>4</td>\n",
       "      <td>4</td>\n",
       "      <td>4</td>\n",
       "      <td>4</td>\n",
       "      <td>4</td>\n",
       "      <td>4</td>\n",
       "    </tr>\n",
       "    <tr>\n",
       "      <th>2018-01-05</th>\n",
       "      <td>2018-01-05</td>\n",
       "      <td>1</td>\n",
       "      <td>1</td>\n",
       "      <td>1</td>\n",
       "      <td>1</td>\n",
       "      <td>1</td>\n",
       "      <td>1</td>\n",
       "      <td>1</td>\n",
       "      <td>1</td>\n",
       "      <td>1</td>\n",
       "      <td>1</td>\n",
       "      <td>1</td>\n",
       "      <td>1</td>\n",
       "      <td>1</td>\n",
       "      <td>1</td>\n",
       "    </tr>\n",
       "  </tbody>\n",
       "</table>\n",
       "</div>"
      ],
      "text/plain": [
       "                fecha  dia_semana  distrito  lugar  numero  lluvia  mojado  \\\n",
       "fecha                                                                        \n",
       "2018-01-01 2018-01-01           2         2      2       2       2       2   \n",
       "2018-01-02 2018-01-02           1         1      1       1       1       1   \n",
       "2018-01-03 2018-01-03           3         3      3       3       3       3   \n",
       "2018-01-04 2018-01-04           4         4      4       4       4       4   \n",
       "2018-01-05 2018-01-05           1         1      1       1       1       1   \n",
       "\n",
       "            victimas  tipo_accidente  tipo_persona  sexo  lesividad  horain  \\\n",
       "fecha                                                                         \n",
       "2018-01-01         2               2             2     2          2       2   \n",
       "2018-01-02         1               1             1     1          1       1   \n",
       "2018-01-03         3               3             3     3          3       3   \n",
       "2018-01-04         4               4             4     4          4       4   \n",
       "2018-01-05         1               1             1     1          1       1   \n",
       "\n",
       "            edadmin  mes  \n",
       "fecha                     \n",
       "2018-01-01        2    2  \n",
       "2018-01-02        1    1  \n",
       "2018-01-03        3    3  \n",
       "2018-01-04        4    4  \n",
       "2018-01-05        1    1  "
      ]
     },
     "execution_count": 71,
     "metadata": {},
     "output_type": "execute_result"
    }
   ],
   "source": [
    "acc_dia.fecha = acc_dia.index\n",
    "acc_dia.head()"
   ]
  },
  {
   "cell_type": "markdown",
   "metadata": {},
   "source": [
    "Otro escenario construido, fue agregando con una periodicidad mensual con base en la mediana. Esta formula conserva unicamente variables numericas. Nos permite ver la mediana de la edad en cada mes del año."
   ]
  },
  {
   "cell_type": "code",
   "execution_count": 72,
   "metadata": {},
   "outputs": [],
   "source": [
    "acc_mes = accT.resample('M').median()"
   ]
  },
  {
   "cell_type": "code",
   "execution_count": 73,
   "metadata": {},
   "outputs": [
    {
     "data": {
      "text/html": [
       "<div>\n",
       "<style scoped>\n",
       "    .dataframe tbody tr th:only-of-type {\n",
       "        vertical-align: middle;\n",
       "    }\n",
       "\n",
       "    .dataframe tbody tr th {\n",
       "        vertical-align: top;\n",
       "    }\n",
       "\n",
       "    .dataframe thead th {\n",
       "        text-align: right;\n",
       "    }\n",
       "</style>\n",
       "<table border=\"1\" class=\"dataframe\">\n",
       "  <thead>\n",
       "    <tr style=\"text-align: right;\">\n",
       "      <th></th>\n",
       "      <th>victimas</th>\n",
       "      <th>edadmin</th>\n",
       "      <th>mes</th>\n",
       "      <th>fecha1</th>\n",
       "    </tr>\n",
       "    <tr>\n",
       "      <th>fecha</th>\n",
       "      <th></th>\n",
       "      <th></th>\n",
       "      <th></th>\n",
       "      <th></th>\n",
       "    </tr>\n",
       "  </thead>\n",
       "  <tbody>\n",
       "    <tr>\n",
       "      <th>2018-01-31</th>\n",
       "      <td>1</td>\n",
       "      <td>35.0</td>\n",
       "      <td>1</td>\n",
       "      <td>2018-01-31</td>\n",
       "    </tr>\n",
       "    <tr>\n",
       "      <th>2018-02-28</th>\n",
       "      <td>1</td>\n",
       "      <td>30.0</td>\n",
       "      <td>2</td>\n",
       "      <td>2018-02-28</td>\n",
       "    </tr>\n",
       "    <tr>\n",
       "      <th>2018-03-31</th>\n",
       "      <td>1</td>\n",
       "      <td>25.0</td>\n",
       "      <td>3</td>\n",
       "      <td>2018-03-31</td>\n",
       "    </tr>\n",
       "    <tr>\n",
       "      <th>2018-04-30</th>\n",
       "      <td>1</td>\n",
       "      <td>35.0</td>\n",
       "      <td>4</td>\n",
       "      <td>2018-04-30</td>\n",
       "    </tr>\n",
       "    <tr>\n",
       "      <th>2018-05-31</th>\n",
       "      <td>1</td>\n",
       "      <td>35.0</td>\n",
       "      <td>5</td>\n",
       "      <td>2018-05-31</td>\n",
       "    </tr>\n",
       "  </tbody>\n",
       "</table>\n",
       "</div>"
      ],
      "text/plain": [
       "            victimas  edadmin  mes     fecha1\n",
       "fecha                                        \n",
       "2018-01-31         1     35.0    1 2018-01-31\n",
       "2018-02-28         1     30.0    2 2018-02-28\n",
       "2018-03-31         1     25.0    3 2018-03-31\n",
       "2018-04-30         1     35.0    4 2018-04-30\n",
       "2018-05-31         1     35.0    5 2018-05-31"
      ]
     },
     "execution_count": 73,
     "metadata": {},
     "output_type": "execute_result"
    }
   ],
   "source": [
    "acc_mes['fecha1'] = acc_mes.index\n",
    "acc_mes.head()"
   ]
  },
  {
   "cell_type": "markdown",
   "metadata": {},
   "source": [
    "Podemos visualizar esta información con una grafica de linea. De la cual, podemos concluir que en abril es excepcionalmente bajo, llegando a los 25 años. Mientras que, la mayoria de los meses oscila entre 30 y 35 años."
   ]
  },
  {
   "cell_type": "code",
   "execution_count": 99,
   "metadata": {},
   "outputs": [
    {
     "data": {
      "image/png": "[encoded data removed]",
      "text/plain": [
       "<Figure size 1296x720 with 1 Axes>"
      ]
     },
     "metadata": {},
     "output_type": "display_data"
    }
   ],
   "source": [
    "g = sns.lineplot(x='fecha1', y='edadmin', estimator ='sum',\n",
    "                 data=acc_mes)"
   ]
  },
  {
   "cell_type": "markdown",
   "metadata": {},
   "source": [
    "Por ultimo, hacemos una tabla de periodicidad mensual, sumando los valores."
   ]
  },
  {
   "cell_type": "code",
   "execution_count": 74,
   "metadata": {},
   "outputs": [],
   "source": [
    "acc_mes_sum = accT.resample('M').sum()"
   ]
  },
  {
   "cell_type": "markdown",
   "metadata": {},
   "source": [
    "Al estar el mes en un formato numerico, se han sumado las observaciones por mes, por lo cual redefinimos los valores de la columna."
   ]
  },
  {
   "cell_type": "code",
   "execution_count": 114,
   "metadata": {},
   "outputs": [
    {
     "data": {
      "text/html": [
       "<div>\n",
       "<style scoped>\n",
       "    .dataframe tbody tr th:only-of-type {\n",
       "        vertical-align: middle;\n",
       "    }\n",
       "\n",
       "    .dataframe tbody tr th {\n",
       "        vertical-align: top;\n",
       "    }\n",
       "\n",
       "    .dataframe thead th {\n",
       "        text-align: right;\n",
       "    }\n",
       "</style>\n",
       "<table border=\"1\" class=\"dataframe\">\n",
       "  <thead>\n",
       "    <tr style=\"text-align: right;\">\n",
       "      <th></th>\n",
       "      <th>victimas</th>\n",
       "      <th>edadmin</th>\n",
       "      <th>mes</th>\n",
       "      <th>fecha1</th>\n",
       "    </tr>\n",
       "    <tr>\n",
       "      <th>fecha</th>\n",
       "      <th></th>\n",
       "      <th></th>\n",
       "      <th></th>\n",
       "      <th></th>\n",
       "    </tr>\n",
       "  </thead>\n",
       "  <tbody>\n",
       "    <tr>\n",
       "      <th>2018-01-31</th>\n",
       "      <td>60</td>\n",
       "      <td>1860.0</td>\n",
       "      <td>Enero</td>\n",
       "      <td>2018-01-31</td>\n",
       "    </tr>\n",
       "    <tr>\n",
       "      <th>2018-02-28</th>\n",
       "      <td>46</td>\n",
       "      <td>1385.0</td>\n",
       "      <td>Febrero</td>\n",
       "      <td>2018-02-28</td>\n",
       "    </tr>\n",
       "    <tr>\n",
       "      <th>2018-03-31</th>\n",
       "      <td>39</td>\n",
       "      <td>978.0</td>\n",
       "      <td>Marzo</td>\n",
       "      <td>2018-03-31</td>\n",
       "    </tr>\n",
       "    <tr>\n",
       "      <th>2018-04-30</th>\n",
       "      <td>57</td>\n",
       "      <td>1830.0</td>\n",
       "      <td>Abril</td>\n",
       "      <td>2018-04-30</td>\n",
       "    </tr>\n",
       "    <tr>\n",
       "      <th>2018-05-31</th>\n",
       "      <td>66</td>\n",
       "      <td>2131.0</td>\n",
       "      <td>Mayo</td>\n",
       "      <td>2018-05-31</td>\n",
       "    </tr>\n",
       "  </tbody>\n",
       "</table>\n",
       "</div>"
      ],
      "text/plain": [
       "            victimas  edadmin      mes     fecha1\n",
       "fecha                                            \n",
       "2018-01-31        60   1860.0    Enero 2018-01-31\n",
       "2018-02-28        46   1385.0  Febrero 2018-02-28\n",
       "2018-03-31        39    978.0    Marzo 2018-03-31\n",
       "2018-04-30        57   1830.0    Abril 2018-04-30\n",
       "2018-05-31        66   2131.0     Mayo 2018-05-31"
      ]
     },
     "execution_count": 114,
     "metadata": {},
     "output_type": "execute_result"
    }
   ],
   "source": [
    "acc_mes_sum['fecha1'] = acc_mes_sum.index\n",
    "acc_mes_sum['mes'] = ['Enero', 'Febrero', 'Marzo', 'Abril', 'Mayo', 'Junio', 'Julio', 'Agosto', 'Septiembre', 'Octubre', 'Noviembre', 'Diciembre']\n",
    "acc_mes_sum.head()"
   ]
  },
  {
   "cell_type": "markdown",
   "metadata": {},
   "source": [
    "Para visualizar los resultados, utilizamos una grafica de barras para medir los meses donde hay mas victimas. Siendo la mediana del numero de victimas 1 y el promedio 1.10, vemos que el numero de victimas se comporta de forma similar a la cantidad de accidentes. Podemos concluir que junio y septiembre son los meses donde hay mas victimas. Diciembre y marzo, son los meses donde menos victimas hay. "
   ]
  },
  {
   "cell_type": "code",
   "execution_count": 115,
   "metadata": {},
   "outputs": [
    {
     "data": {
      "image/png": "[encoded data removed]",
      "text/plain": [
       "<Figure size 1296x720 with 1 Axes>"
      ]
     },
     "metadata": {
      "needs_background": "light"
     },
     "output_type": "display_data"
    }
   ],
   "source": [
    "g = sns.barplot(x='mes', y='victimas', palette = 'Set1', saturation=0.75,\n",
    "                data=acc_mes_sum)"
   ]
  }
 ],
 "metadata": {
  "kernelspec": {
   "display_name": "Python 3",
   "language": "python",
   "name": "python3"
  },
  "language_info": {
   "codemirror_mode": {
    "name": "ipython",
    "version": 3
   },
   "file_extension": ".py",
   "mimetype": "text/x-python",
   "name": "python",
   "nbconvert_exporter": "python",
   "pygments_lexer": "ipython3",
   "version": "3.6.7"
  }
 },
 "nbformat": 4,
 "nbformat_minor": 2
}
