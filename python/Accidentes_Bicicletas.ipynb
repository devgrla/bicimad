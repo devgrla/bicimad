{
 "cells": [
  {
   "cell_type": "markdown",
   "metadata": {},
   "source": [
    "# Analisis de los Accidentes con Implicaciones de Bicicletas\n",
    "\n",
    "\n",
    "![](https://static.thenounproject.com/png/11183-200.png)"
   ]
  },
  {
   "cell_type": "markdown",
   "metadata": {},
   "source": [
    "Primero importamos los paquetes de Python que vamos a requerir para la lectura, limpieza, analisis exploratorio y visualización. Para esto utilizamos:\n",
    "\n",
    "* **Pandas** - manipulación y analisis de datos para tablas y series de tiempo\n",
    "* **Datetime** - Conversión a formatos de fecha\n",
    "* **Re** - biblioteca para expresiones regulares\n",
    "* **Numpy** - soporte para vectores y matrices\n",
    "* **Matplotlib** - graficas basado en Matlab\n",
    "* **Seaborn** - herramientas de visualización mas avanzadas"
   ]
  },
  {
   "cell_type": "code",
   "execution_count": 1,
   "metadata": {},
   "outputs": [],
   "source": [
    "import pandas as pd\n",
    "from datetime import date, datetime\n",
    "import re\n",
    "import numpy as np\n",
    "import matplotlib.pyplot as plt\n",
    "import seaborn as sns"
   ]
  },
  {
   "cell_type": "markdown",
   "metadata": {},
   "source": [
    "Utilizaremos el archivo de los [accidentes con implicaciones de bicicletas en Madrid de 2018](https://datos.madrid.es/portal/site/egob/menuitem.c05c1f754a33a9fbe4b2e4b284f1a5a0/?vgnextoid=20f4a87ebb65b510VgnVCM1000001d4a900aRCRD&vgnextchannel=374512b9ace9f310VgnVCM100000171f5a0aRCRD&vgnextfmt=default), para lo cual debemos tener en cuenta las siguientes consideraciones:\n",
    "\n",
    "* Es un archivo **CSV**\n",
    "* El archivo no abre con el encoding UTF8, por lo cual hay que utilizar ISO-8859-1. \n",
    "* Los datos estan separados por `;` y no `,` "
   ]
  },
  {
   "cell_type": "code",
   "execution_count": 2,
   "metadata": {},
   "outputs": [],
   "source": [
    "acc = pd.read_csv(\"../dat/AccidentesBicicletas_2018.csv\", index_col=False, encoding = \"ISO-8859-1\", sep=';')"
   ]
  },
  {
   "cell_type": "markdown",
   "metadata": {},
   "source": [
    "### Revisión de la Estructura de la Tabla\n",
    "\n",
    "Luego de haber cargado el archivo a nuestro ambiente, exploramos la composición de los datos. Revisamos el numero de filas y columnas, la cantidad de valores vacios, las primeras y ultimas observaciones, el tipo de los datos y el nombre de las **columnas**."
   ]
  },
  {
   "cell_type": "code",
   "execution_count": null,
   "metadata": {
    "scrolled": true
   },
   "outputs": [],
   "source": [
    "acc.columns"
   ]
  },
  {
   "cell_type": "markdown",
   "metadata": {},
   "source": [
    "Revisamos la **forma** de la tabla, que nos devuelve la cantidad de filas y columnas."
   ]
  },
  {
   "cell_type": "code",
   "execution_count": null,
   "metadata": {},
   "outputs": [],
   "source": [
    "acc.shape"
   ]
  },
  {
   "cell_type": "markdown",
   "metadata": {},
   "source": [
    "Revisamos la **información** de la tabla, que nos devuelve el numero de datos en cada columna, el tipo de dato y la memoria que ocupa."
   ]
  },
  {
   "cell_type": "code",
   "execution_count": null,
   "metadata": {},
   "outputs": [],
   "source": [
    "acc.info()"
   ]
  },
  {
   "cell_type": "markdown",
   "metadata": {},
   "source": [
    "Vemos una **muestra** de la tabla, para revisar la composición de los datos. Tanto de las primeras como de las ultimas observaciones."
   ]
  },
  {
   "cell_type": "code",
   "execution_count": null,
   "metadata": {},
   "outputs": [],
   "source": [
    "acc.head()"
   ]
  },
  {
   "cell_type": "code",
   "execution_count": null,
   "metadata": {},
   "outputs": [],
   "source": [
    "acc.tail()"
   ]
  },
  {
   "cell_type": "markdown",
   "metadata": {},
   "source": [
    "\n",
    "\n",
    "Observamos la **descripción** de los datos numericos, donde podemos ver la media, desviación estandar, valor minimo, valor maximo, entre otros.\n"
   ]
  },
  {
   "cell_type": "code",
   "execution_count": null,
   "metadata": {},
   "outputs": [],
   "source": [
    "acc.describe()"
   ]
  },
  {
   "cell_type": "markdown",
   "metadata": {},
   "source": [
    "### Limpieza de Datos\n",
    "\n",
    "Teniendo ya información mas detallada del archivo podemos proceder con su limpieza, eliminando las columnas que no son utiles para el analisis objetivo y convirtiendo los datos a el formato deseado. Por ejemplo, podemos observar que la mayoria de columnas estan en formato de texto. Columnas como la fecha debemos pasar a un formato Datetime y columnas como la edad deben estar en formato numerico. "
   ]
  },
  {
   "cell_type": "markdown",
   "metadata": {},
   "source": [
    "En primer lugar, eliminamos las columnas de numero de parte, que no nos agrega información relevante para nuestro analisis y las de condiciones climaticas y del estado del suelo, excepto la de lluvia y mojado, pues muy pocos accidentes ocurren bajo esas condiciones por lo cual no agregaran valor. Además, elimnamos el tipo de vehiculo, pues todas las observaciónes son igual a bicicleta y tipo de persona porque la mayoria de los resultados son **CONDUCTOR**, unos pocos son **VIAJEROS** y solo una observación es **TESTIGO**. "
   ]
  },
  {
   "cell_type": "code",
   "execution_count": 3,
   "metadata": {},
   "outputs": [],
   "source": [
    "acc = acc.drop(['Nº PARTE', 'CPFA Granizo', 'CPFA Hielo',\n",
    "       'CPFA Niebla', 'CPFA Seco', 'CPFA Nieve', 'CPSV Aceite',\n",
    "       'CPSV Barro', 'CPSV Grava Suelta', 'CPSV Hielo', 'CPSV Seca Y Limpia', 'Tipo Vehiculo', 'TIPO PERSONA'], 1)"
   ]
  },
  {
   "cell_type": "markdown",
   "metadata": {},
   "source": [
    "Ahora, renombramos las columnas para tener nombres simples, faciles de manipular."
   ]
  },
  {
   "cell_type": "code",
   "execution_count": 4,
   "metadata": {},
   "outputs": [],
   "source": [
    "etiquetas = ['fecha', 'rango_hora', 'dia_semana', 'distrito', 'lugar', 'numero', 'lluvia', 'mojado', 'victimas', \n",
    "             'tipo_accidente', 'sexo', 'lesividad', 'rango_edad']\n",
    "acc.columns = etiquetas"
   ]
  },
  {
   "cell_type": "markdown",
   "metadata": {},
   "source": [
    "Extraemos de la columna `rango hora`, la hora de inicio del rango y creamos una nueva columna con esos datos"
   ]
  },
  {
   "cell_type": "code",
   "execution_count": 5,
   "metadata": {},
   "outputs": [],
   "source": [
    "def extrae_hora(t):\n",
    "    _, horain, _, _, = t.rango_hora.split(' ')\n",
    "    return horain\n",
    "\n",
    "acc['horain'] = acc.apply(extrae_hora, axis = 1)"
   ]
  },
  {
   "cell_type": "markdown",
   "metadata": {},
   "source": [
    "Juntamos la hora con la fecha y utilizamos una formula para convertir los datos de la columna `fecha`, de texto a **datetime**."
   ]
  },
  {
   "cell_type": "code",
   "execution_count": 6,
   "metadata": {},
   "outputs": [],
   "source": [
    "acc['fecha'] = acc.fecha + ' ' + acc.horain"
   ]
  },
  {
   "cell_type": "code",
   "execution_count": 7,
   "metadata": {},
   "outputs": [],
   "source": [
    "formato2 = '%d/%m/%Y %H:%M'\n",
    "fecha = '01/01/1949 20:30'\n",
    "\n",
    "def parse_fecha(fecha):\n",
    "        a = datetime.strptime(fecha, formato2)\n",
    "        return a\n",
    "\n",
    "acc.fecha = acc.fecha.apply(parse_fecha)"
   ]
  },
  {
   "cell_type": "markdown",
   "metadata": {},
   "source": [
    "Tambien utilizamos una función para extraer de la columna `rango edad`, la edad promedio entre el maximo y minimo. Teniendo en cuenta a la vez que hay filas donde el valor es desconocido y sera remplazado por `missing value`."
   ]
  },
  {
   "cell_type": "code",
   "execution_count": 8,
   "metadata": {},
   "outputs": [],
   "source": [
    "def extrae_edad(e):\n",
    "    try:\n",
    "        _, edadmin, _, _, _, = e.rango_edad.split(' ')\n",
    "        _, _, _, edadmax, _, = e.rango_edad.split(' ')\n",
    "        return (int(edadmin) + int(edadmax))/2\n",
    "    except:\n",
    "        return None\n",
    "\n",
    "acc['edad'] = acc.apply(extrae_edad, axis = 1)"
   ]
  },
  {
   "cell_type": "markdown",
   "metadata": {},
   "source": [
    "Adicionalmente, convertimos la columna de edad, extraida previamente, de texto a `float`. Utilizamos el parametro errors con el valor de `coerce` para que convierta los valores no numericos en `missing values`."
   ]
  },
  {
   "cell_type": "code",
   "execution_count": 9,
   "metadata": {},
   "outputs": [],
   "source": [
    "acc['edad'] = pd.to_numeric(acc['edad'], errors='coerce')"
   ]
  },
  {
   "cell_type": "markdown",
   "metadata": {},
   "source": [
    "Construimos una columna con el valor del mes de cuando ocurrio el accidente."
   ]
  },
  {
   "cell_type": "code",
   "execution_count": 10,
   "metadata": {},
   "outputs": [],
   "source": [
    "acc['mes'] = acc.apply(lambda fila: fila.fecha.month, axis=1)"
   ]
  },
  {
   "cell_type": "markdown",
   "metadata": {},
   "source": [
    "Examinando detalladamente el campo de lugar, que tiene informacion sobre la ubicacion donde se produjo el accidente, vemos que las observaciones tienen informacion de sobra. En algunos campos hay dos direcciones y al final de la observacion esta el texto `NUM`. Esto puede dificultar convertir la direccion a coordenadas de latitud, longitud por lo cual eliminaremos una direccion y el texto que sobra. "
   ]
  },
  {
   "cell_type": "code",
   "execution_count": 11,
   "metadata": {},
   "outputs": [],
   "source": [
    "def extrae_calle(e):\n",
    "    try:\n",
    "        direccion, _  = e.lugar.split('-')\n",
    "        return direccion\n",
    "    except:\n",
    "        return e.lugar.replace('NUM', '')\n",
    "\n",
    "acc['direccion'] = acc.apply(extrae_calle, axis = 1)"
   ]
  },
  {
   "cell_type": "markdown",
   "metadata": {},
   "source": [
    "Eliminamos los espacios vacios de nuestros resultados para no tener conflictos al realizar filtros."
   ]
  },
  {
   "cell_type": "code",
   "execution_count": 12,
   "metadata": {},
   "outputs": [],
   "source": [
    "acc = acc.apply(lambda fila: fila.str.strip() if fila.dtype == 'object' else fila)"
   ]
  },
  {
   "cell_type": "markdown",
   "metadata": {},
   "source": [
    "Ahora que tenemos un valor limpio de la direccion, vamos a convertir el tipo de dato del numero de la calle de texto a numerico, para luego unir al campo de direccion el numero de la calle pero unicamente en los casos que el numero sea superior a cero."
   ]
  },
  {
   "cell_type": "code",
   "execution_count": 13,
   "metadata": {},
   "outputs": [],
   "source": [
    "acc['numero'] = pd.to_numeric(acc['numero'], errors='coerce')"
   ]
  },
  {
   "cell_type": "code",
   "execution_count": 14,
   "metadata": {},
   "outputs": [],
   "source": [
    "def suma_num(e):\n",
    "    if e.numero > 0:\n",
    "        return e.direccion + ' ' + str(int(e.numero))\n",
    "    else:\n",
    "        return e.direccion\n",
    "    \n",
    "acc['direccion'] = acc.apply(suma_num, axis = 1)"
   ]
  },
  {
   "cell_type": "markdown",
   "metadata": {},
   "source": [
    "Una vez que tenemos la direccion del accidente de forma precisa, podemos utilizar funciones para convertir la direccion en coordenadas de latitud y longitud. Investigando encontramos [geopy 1.18.1](https://pypi.org/project/geopy/). Geopy es un cliente de web services de geocoding, que hace posible identificar las coordenadas de direcciones, ciudades y paises. \n",
    "\n",
    "Para poder utilizarlo hay que descargar el paquete en el prompt de Anaconda, o similares, utilizando el comando `pip install geopy` y despues importar el paquete."
   ]
  },
  {
   "cell_type": "code",
   "execution_count": 15,
   "metadata": {},
   "outputs": [],
   "source": [
    "from geopy.geocoders import Nominatim\n",
    "geolocator = Nominatim(user_agent=\"specify_your_app_name_here\")"
   ]
  },
  {
   "cell_type": "markdown",
   "metadata": {},
   "source": [
    "Ahora definimos las funciones que van a extraer la longitud y latitud."
   ]
  },
  {
   "cell_type": "code",
   "execution_count": 16,
   "metadata": {},
   "outputs": [],
   "source": [
    "def latitud(e):\n",
    "    try:\n",
    "        location = geolocator.geocode(e + ' MADRID')\n",
    "        return location.latitude\n",
    "    except:\n",
    "        return None\n",
    "\n",
    "def longitud(e):\n",
    "    try:\n",
    "        location = geolocator.geocode(e + ' MADRID')\n",
    "        return location.longitude\n",
    "    except:\n",
    "        return None"
   ]
  },
  {
   "cell_type": "markdown",
   "metadata": {},
   "source": [
    "Finalmente, utilizamos un bucle para extraer cada latitud y longitud para almacenarlos en la tabla. **Es importante tener en cuenta** que dado que son cientos de solicitudes al cliente, se deben realizar de manera espaciada para evitar ser bloqueados."
   ]
  },
  {
   "cell_type": "code",
   "execution_count": 17,
   "metadata": {},
   "outputs": [],
   "source": [
    "acc['latitud'] = [latitud(i) for i in acc.direccion]"
   ]
  },
  {
   "cell_type": "code",
   "execution_count": null,
   "metadata": {},
   "outputs": [],
   "source": [
    "acc['longitud'] = [longitud(i) for i in acc.direccion]"
   ]
  },
  {
   "cell_type": "markdown",
   "metadata": {},
   "source": [
    "Para tener un desempeño optimo de la memoria ocupada por cada dataset convertimos algunas variables de formato texto a formato `categorico`. "
   ]
  },
  {
   "cell_type": "code",
   "execution_count": null,
   "metadata": {},
   "outputs": [],
   "source": [
    "acc.lluvia = acc.lluvia.astype('category')\n",
    "acc.mojado = acc.mojado.astype('category')"
   ]
  },
  {
   "cell_type": "markdown",
   "metadata": {},
   "source": [
    "Al haber hecho la conversión de las columnas `rango hora` y `rango edad`, a formatos mas utiles, los podemos eliminar de la tabla. Adicionalmente, al haber unificado la informacion de lugar, incluyendo el numero y direccion, tambien podemos eliminar las columnas de `lugar` y `numero`."
   ]
  },
  {
   "cell_type": "code",
   "execution_count": null,
   "metadata": {},
   "outputs": [],
   "source": [
    "acc = acc.drop(['rango_hora', 'rango_edad', 'lugar', 'numero'], 1)"
   ]
  },
  {
   "cell_type": "markdown",
   "metadata": {},
   "source": [
    "### Analisis Exploratorio Estadistico y Visual\n",
    "\n",
    "Una vez que contamos con los datos que deseamos evaluar y los tenemos disponibles en el formato deseado podemos empezar a explorar los resultados para tener una idea de la distribución de las variables y como estan relacionadas. \n",
    "\n",
    "Para realizar esta tarea podemos utilizar herramientas estadisticas como la desviación estandar, media, mediana, maximos y minimos. Tambien podemos utiliar histogramas y graficos de dispersión."
   ]
  },
  {
   "cell_type": "markdown",
   "metadata": {},
   "source": [
    "_Empezamos_, analizando con mayor profundidad las columnas de interes. Detallamos los resultados y su **distribucción**, de las siguientes columnas:\n",
    "\n",
    "* Numero de victimas"
   ]
  },
  {
   "cell_type": "code",
   "execution_count": null,
   "metadata": {},
   "outputs": [],
   "source": [
    "acc['victimas'].value_counts(dropna=False)"
   ]
  },
  {
   "cell_type": "markdown",
   "metadata": {},
   "source": [
    "En la columna de victimas vemos que hay un outlier que puede contaminar la muestra y dificultar el analisis grafico de las variables. Por lo cual, haremos una copia de la tabla que no incluya este valor."
   ]
  },
  {
   "cell_type": "code",
   "execution_count": null,
   "metadata": {},
   "outputs": [],
   "source": [
    "acc = acc[acc['victimas'] < 14]"
   ]
  },
  {
   "cell_type": "markdown",
   "metadata": {},
   "source": [
    "* Tipo de Accidente"
   ]
  },
  {
   "cell_type": "code",
   "execution_count": null,
   "metadata": {},
   "outputs": [],
   "source": [
    "acc['tipo_accidente'].value_counts(dropna=False)"
   ]
  },
  {
   "cell_type": "markdown",
   "metadata": {},
   "source": [
    "* Lesividad"
   ]
  },
  {
   "cell_type": "code",
   "execution_count": null,
   "metadata": {},
   "outputs": [],
   "source": [
    "acc['lesividad'].value_counts(dropna=False)"
   ]
  },
  {
   "cell_type": "markdown",
   "metadata": {},
   "source": [
    "* Lluvia"
   ]
  },
  {
   "cell_type": "code",
   "execution_count": null,
   "metadata": {},
   "outputs": [],
   "source": [
    "acc['lluvia'].value_counts(dropna=False)"
   ]
  },
  {
   "cell_type": "markdown",
   "metadata": {},
   "source": [
    "* Distrito"
   ]
  },
  {
   "cell_type": "code",
   "execution_count": null,
   "metadata": {},
   "outputs": [],
   "source": [
    "acc['distrito'].value_counts(dropna=False)"
   ]
  },
  {
   "cell_type": "markdown",
   "metadata": {
    "scrolled": true
   },
   "source": [
    "* Dia de la Semana"
   ]
  },
  {
   "cell_type": "code",
   "execution_count": 26,
   "metadata": {},
   "outputs": [
    {
     "data": {
      "text/plain": [
       "JUEVES       117\n",
       "MARTES       106\n",
       "VIERNES      101\n",
       "MIERCOLES    100\n",
       "SABADO        99\n",
       "LUNES         91\n",
       "DOMINGO       86\n",
       "Name: dia_semana, dtype: int64"
      ]
     },
     "execution_count": 26,
     "metadata": {},
     "output_type": "execute_result"
    }
   ],
   "source": [
    "acc['dia_semana'].value_counts(dropna=False)"
   ]
  },
  {
   "cell_type": "markdown",
   "metadata": {},
   "source": [
    "* Hora Inicial"
   ]
  },
  {
   "cell_type": "code",
   "execution_count": null,
   "metadata": {
    "scrolled": true
   },
   "outputs": [],
   "source": [
    "acc['horain'].value_counts(dropna=False)"
   ]
  },
  {
   "cell_type": "markdown",
   "metadata": {},
   "source": [
    "* Sexo"
   ]
  },
  {
   "cell_type": "code",
   "execution_count": null,
   "metadata": {},
   "outputs": [],
   "source": [
    "acc['sexo'].value_counts(dropna=False)"
   ]
  },
  {
   "cell_type": "markdown",
   "metadata": {},
   "source": [
    "* Edad"
   ]
  },
  {
   "cell_type": "code",
   "execution_count": null,
   "metadata": {},
   "outputs": [],
   "source": [
    "acc['edad'].value_counts(dropna=False)"
   ]
  },
  {
   "cell_type": "code",
   "execution_count": null,
   "metadata": {},
   "outputs": [],
   "source": [
    "acc['mes'].value_counts(dropna=False)"
   ]
  },
  {
   "cell_type": "markdown",
   "metadata": {},
   "source": [
    "De este analisis podemos concluir que a grandes rasgos no hay problemas masivos con la calidad de los datos. En la columna de edad tenemos 21 `missing values`, en la columna de sexo hay 11 resultados no asignados, en la columna de lesividad hay 9 resultados no asignados, las columnas de latitud y longitud si cuentan con al rededor de 80 `missing values` pero las demas columnas tienen valores completos en la totalidad de sus observaciones."
   ]
  },
  {
   "cell_type": "markdown",
   "metadata": {},
   "source": [
    "Volvemos a realizar las funciones de info y describe para ver como los cambios han afectado las columnas, los tipo de datos, el peso del archivo y, de las variables numericas, observar la media, error estandar, maximo, minimo y percentiles. Podemos ver que el archvo paso de 142.3+ KB a 78.0+ KB. Previamente habian int64(1), object(25) y pasamos a category(2), datetime64ns(1), float64(3), int64(2), object(7)."
   ]
  },
  {
   "cell_type": "code",
   "execution_count": null,
   "metadata": {
    "scrolled": true
   },
   "outputs": [],
   "source": [
    "acc.info()"
   ]
  },
  {
   "cell_type": "markdown",
   "metadata": {},
   "source": [
    "De las variables numericas podemos concluir que la mayoria de los accidentes tienen solo una victima y que la edad promedio es de 36 años."
   ]
  },
  {
   "cell_type": "code",
   "execution_count": null,
   "metadata": {},
   "outputs": [],
   "source": [
    "acc.describe()"
   ]
  },
  {
   "cell_type": "markdown",
   "metadata": {},
   "source": [
    "**Despues**, hacemos una serie de agrupaciones para ver como se comportan los datos entre las variables."
   ]
  },
  {
   "cell_type": "markdown",
   "metadata": {},
   "source": [
    "En primer lugar, evaluamos el distrito con el dia de semana, agrupado por la sumatoria de las victimas. Con esto podemos ver que dias de la semana hay mas accidentes por distrito."
   ]
  },
  {
   "cell_type": "code",
   "execution_count": null,
   "metadata": {},
   "outputs": [],
   "source": [
    "tmp = acc.groupby(['distrito', 'dia_semana']).agg({'victimas': 'sum'})\n",
    "tmp"
   ]
  },
  {
   "cell_type": "markdown",
   "metadata": {},
   "source": [
    "Ahora, agrupamos por dia de semana y tipo de lesividad agregando por la suma de las victimas, para evaluar si varian la gravedad de las lesiones por dia de la semana. A gran escala vemos que las variables mantienen un comportamiento proporcional entre los diferentes dias de la semana. "
   ]
  },
  {
   "cell_type": "code",
   "execution_count": null,
   "metadata": {},
   "outputs": [],
   "source": [
    "tmp = acc.groupby(['dia_semana', 'lesividad']).agg({'victimas': 'sum'})\n",
    "tmp"
   ]
  },
  {
   "cell_type": "markdown",
   "metadata": {},
   "source": [
    "Realizamos una agrupación por distrito, evaluando la mediana de la edad. Vemos que la mayoria de los distritos tienen una mediana de 30 o mas años. Habiendo unicamente una excepcion de 22 años y 5 con al menos 40 años."
   ]
  },
  {
   "cell_type": "code",
   "execution_count": null,
   "metadata": {},
   "outputs": [],
   "source": [
    "tmp = acc.groupby(['distrito']).agg({'edad': 'median'})\n",
    "tmp"
   ]
  },
  {
   "cell_type": "markdown",
   "metadata": {},
   "source": [
    "Hacemos una agrupación para ver como se distribuyen los tipos de accidente entre los meses del año. De la tabla, podemos ver que la cantidad de accidentes tiene un comportamiento proporcional através del tiempo. Siendo las categorias de **CAÍDA BICICLETA** y **COLISIÓN DOBLE** las mas recurrentes todos los meses."
   ]
  },
  {
   "cell_type": "code",
   "execution_count": null,
   "metadata": {},
   "outputs": [],
   "source": [
    "tmp = acc.groupby(['mes', 'tipo_accidente']).agg({'tipo_accidente': 'count'})\n",
    "tmp"
   ]
  },
  {
   "cell_type": "markdown",
   "metadata": {},
   "source": [
    "Adicional a las agrupaciones podemos realizar filtros deseados para encontrar resultados especificos dentro de la tabla."
   ]
  },
  {
   "cell_type": "markdown",
   "metadata": {},
   "source": [
    "Hacemos una busqueda de los accidentes ocurridos en lunes del tipo atropello. Vemos que hay 11 observaciones, que ninguno ocurrio con lluvia o estado mojado y todos de hombres. "
   ]
  },
  {
   "cell_type": "code",
   "execution_count": null,
   "metadata": {},
   "outputs": [],
   "source": [
    "acc[(acc['dia_semana'] == 'LUNES') & (acc['tipo_accidente'] == 'ATROPELLO')]"
   ]
  },
  {
   "cell_type": "markdown",
   "metadata": {},
   "source": [
    "Ademas de los filtros, podemos organizar los resultados por campo. En este caso, buscamos los accidentes de lesividad de herida grave, de hombres en el mes de septiembre. Todo ordenado por orden alfabetico del distrito."
   ]
  },
  {
   "cell_type": "code",
   "execution_count": null,
   "metadata": {},
   "outputs": [],
   "source": [
    "acc[(acc['lesividad'] == 'HG') & (acc['sexo'] == 'HOMBRE') & (acc['mes'] == 9.0)].sort_values('distrito')"
   ]
  },
  {
   "cell_type": "markdown",
   "metadata": {},
   "source": [
    "Empezamos realizando el **analisis exploratorio visual**. Iniciamos con la distribución de las variables de mes y edad."
   ]
  },
  {
   "cell_type": "markdown",
   "metadata": {},
   "source": [
    "Utilizamos el proximo comando para que se vean más grandes los gráficos en el notebook."
   ]
  },
  {
   "cell_type": "code",
   "execution_count": null,
   "metadata": {},
   "outputs": [],
   "source": [
    "from matplotlib import rcParams\n",
    "import matplotlib\n",
    "%matplotlib inline\n",
    "rcParams['figure.figsize'] = 18, 10\n",
    "sns.set_context('talk')\n",
    "sns.set_style(\"darkgrid\")\n"
   ]
  },
  {
   "cell_type": "markdown",
   "metadata": {},
   "source": [
    "La edad vemos que tiene una distribucción muy parecida a la normal. Tiene el pico en el medio, aunque un poco inclinado a la izquierda, siendo las personas de 25 a 35 años las que mas accidentes tienen, lo cual es consistente con el hecho que son las personas que mas utilizan la bicicleta, mientras que las personas menores a los 15 años y mayores a los 40 tienden a utilizar en menor proporcion este medio."
   ]
  },
  {
   "cell_type": "code",
   "execution_count": null,
   "metadata": {},
   "outputs": [],
   "source": [
    "tmp = acc[acc.edad > 0]\n",
    "g = sns.distplot(tmp.edad, bins=13)\n",
    "\n",
    "plt.title('Histograma Edad')\n",
    "plt.xlabel('Edad')\n",
    "plt.show()\n"
   ]
  },
  {
   "cell_type": "markdown",
   "metadata": {},
   "source": [
    "Los meses tienen una distribucción menos regular, vemos que en la temporada de verano es cuando mas accidentes se presentan siendo por el contrario el invierno donde menos accidentes hay con un leve incremento en enero en comparación a diciembre, febrero y marzo."
   ]
  },
  {
   "cell_type": "code",
   "execution_count": null,
   "metadata": {},
   "outputs": [],
   "source": [
    "g = sns.distplot(acc.mes, bins=12)\n",
    "\n",
    "plt.title('Histograma Mes')\n",
    "plt.xlabel('Mes')\n",
    "plt.show()\n"
   ]
  },
  {
   "cell_type": "markdown",
   "metadata": {},
   "source": [
    "En cuanto al comportamiento entre los dias de la semana, vemos que el jueves es cuando mas accidentes se presentan, con cerca de 120, el domingo es cuando menos accidentes hay con cerca de 90. Los demas dias tienen un comportamiento muy parejo oscilando entre 95 y 105."
   ]
  },
  {
   "cell_type": "code",
   "execution_count": null,
   "metadata": {},
   "outputs": [],
   "source": [
    "o1 = ['LUNES', 'MARTES', 'MIERCOLES', 'JUEVES', 'VIERNES', 'SABADO', 'DOMINGO']\n",
    "\n",
    "g = sns.countplot(x='dia_semana', order = o1, data=acc, palette=\"Set1\")\n",
    "\n",
    "plt.title('Accidentes por día de la semana')\n",
    "plt.xlabel('Día de la semana')\n",
    "plt.ylabel(\"Cantidad de accidentes\")\n",
    "plt.show()"
   ]
  },
  {
   "cell_type": "markdown",
   "metadata": {},
   "source": [
    "Para organizar las variables en los graficos definimos el orden."
   ]
  },
  {
   "cell_type": "code",
   "execution_count": null,
   "metadata": {},
   "outputs": [],
   "source": [
    "o = ['CENTRO', 'RETIRO', 'CHAMBERI', 'MONCLOA-ARAVACA', 'SALAMANCA', \n",
    " 'CARABANCHEL', 'LATINA', 'TETUAN', 'ARGANZUELA', 'FUENCARRAL-EL PARDO', \n",
    " 'PUENTE DE VALLECAS', 'CHAMARTIN', 'CIUDAD LINEAL', 'SAN BLAS', 'HORTALEZA',\n",
    " 'USERA', 'VILLA DE VALLECAS', 'MORATALAZ', 'VILLAVERDE', 'VICALVARO', 'BARAJAS']\n",
    "\n",
    "o2 = ['1:00', '2:00', '3:00', '4:00', '5:00', '6:00', '7:00', '8:00', '9:00', '10:00',\n",
    "        '11:00', '12:00','13:00','14:00', '15:00', '16:00', '17:00', \n",
    "      '18:00', '19:00', '20:00', '21:00', '22:00', '23:00', '00:00']\n",
    "\n",
    "o4 = ['IL', 'HL', 'HG']\n",
    "\n",
    "o5 = ['IL', 'HL', 'HG', 'NO ASIGNADA']"
   ]
  },
  {
   "cell_type": "markdown",
   "metadata": {},
   "source": [
    "Hacemos un grafico de dispersión evaluando el tipo de lesividad y su relación con la edad. Unicamente vemos que las heridas leves son las que mayor observaciones tienen pero no parece haber un aumento en las heridas graves con un aumento en la edad, aunque si se presenta una ausencia de heridas graves en sujetos menores de 20 años."
   ]
  },
  {
   "cell_type": "code",
   "execution_count": null,
   "metadata": {},
   "outputs": [],
   "source": [
    "g = sns.swarmplot(x='lesividad', y='edad', order = o4, data=acc[acc['lesividad'] != 'NO ASIGNADA'])\n",
    "\n",
    "plt.title('Dispersion de accidentes por lesividad y edad')\n",
    "plt.xlabel('Lesividad')\n",
    "plt.ylabel(\"Edad\")\n",
    "plt.show()"
   ]
  },
  {
   "cell_type": "markdown",
   "metadata": {},
   "source": [
    "Hacemos tambien un grafico de dispersión evaluando el sexo y la edad. Vemos que los hombres tienen muchos mas accidentes y en especial con los usuarios menores de 40. "
   ]
  },
  {
   "cell_type": "code",
   "execution_count": null,
   "metadata": {},
   "outputs": [],
   "source": [
    "g = sns.swarmplot(x='sexo', y='edad', data=acc[acc.sexo != 'NO ASIGNADO'])\n",
    "\n",
    "plt.title('Dispersion de accidentes por edad y sexo')\n",
    "plt.xlabel('Sexo')\n",
    "plt.ylabel(\"Edad\")\n",
    "plt.show()"
   ]
  },
  {
   "cell_type": "markdown",
   "metadata": {},
   "source": [
    "Para saber cual es el distrito con mayores accidentes creamos una grafica de barras horizontal. Observamos que el centro es de lejos el distrito mas accidentado, lo cual es bastante util para determinar donde enfocar las estrategias de prevencción de accidentes. Retiro, Chamberi, Moncloa-Aravaca y Salamanca tambien tienen cifras altas. "
   ]
  },
  {
   "cell_type": "code",
   "execution_count": null,
   "metadata": {},
   "outputs": [],
   "source": [
    "g = sns.countplot(y='distrito', data=acc, palette='Set1', order=o )\n",
    "\n",
    "plt.title('Cantidad de accidentes por distrito')\n",
    "plt.xlabel('Cantidad de accidentes')\n",
    "plt.ylabel(\"Distrito\")\n",
    "plt.show()"
   ]
  },
  {
   "cell_type": "markdown",
   "metadata": {},
   "source": [
    "Ahora bien, la distribucción de los accidentes en las horas del dia tienen una cola grande sobre la izquierda. Es decir, que en las horas de la madrugada es cuando menos accidentes hay, logicamente pues es tambien cuando menos se utilizan las bicicletas. Por otro lado, las 19:00 es cuando mas accidentes ocurren, siendo alto tambien a las 9:00, 13:00 y 18:00, horas donde la mayoria de la gente se desplaza a estudiar, almorzar y trabajar."
   ]
  },
  {
   "cell_type": "code",
   "execution_count": null,
   "metadata": {},
   "outputs": [],
   "source": [
    "g = sns.countplot(x='horain', data=acc, order=o2, palette='Set1')\n",
    "\n",
    "plt.title('Cantidad de accidentes por hora')\n",
    "plt.xlabel('Hora')\n",
    "plt.ylabel(\"Cantidad de accidentes\")\n",
    "plt.show()"
   ]
  },
  {
   "cell_type": "markdown",
   "metadata": {},
   "source": [
    "Utilizando un catplot, podemos construir un grafico comparando los valores por el resultado de una variable. En este caso, vamos a utilizar la variable sexo, para observar como se relaciona la edad con el tipo de lesividad. En la grafica de dispersión que vimos previamente, del tipo de lesividad, no era claro que existiera una relación. Sin embargo, al utilizar un boxplot vemos un claro incremento en la mediana de la edad de los hombres, entre mas grave sea la lesión. En el caso de las mujeres no observamos ese comportamiento."
   ]
  },
  {
   "cell_type": "code",
   "execution_count": null,
   "metadata": {},
   "outputs": [],
   "source": [
    "g = sns.catplot(x=\"lesividad\", y='edad', order = o4, col=\"sexo\",\n",
    "                 data=acc[acc.sexo != 'NO ASIGNADO'], palette='BuPu', kind=\"box\", margin_titles=True)\n"
   ]
  },
  {
   "cell_type": "markdown",
   "metadata": {},
   "source": [
    "Analizamos, en los 5 distritos con mas accidentes, la distribucción de los accidentes entre los meses del año, diferenciando los accidentes que se dieron con y sin lluvia. Podemos observar una diferencia marcada entre los distritos, cuando no hubo lluvia. Por ejemplo, el distrito del retiro tiene pocos accidentes en los ultimos meses, mientras que Moncloa tiene menor cantidad en los primeros meses. Centro tiene una distribución mas uniforme en todos los meses excepto en marzo que hubo una reducción en los todos los distritos analizados. Chamberi, por otro lado tiene menores accidentes en los meses que presentan los picos como lo son junio y septiembre, pero la mayoria de sus incidentes se producen en julio y octubre. De los casos con lluvia vemos que retiro es mas afectado en la primera mitad del año mientras que Chamberi y Moncloa al final del año. "
   ]
  },
  {
   "cell_type": "code",
   "execution_count": null,
   "metadata": {},
   "outputs": [],
   "source": [
    "tmp = acc[(acc.distrito == 'CENTRO') | (acc.distrito == 'RETIRO') | (acc.distrito == 'CHAMBERI') \n",
    "           | (acc.distrito == 'MONCLOA-ARAVACA') | (acc.distrito == 'SALAMANCA')]\n",
    "\n",
    "g = sns.catplot(x=\"mes\", y='distrito', col=\"lluvia\",\n",
    "                 data=tmp, kind=\"swarm\")\n",
    "\n"
   ]
  },
  {
   "cell_type": "markdown",
   "metadata": {},
   "source": [
    "Para analizar como evoluciona el numero de victimas en el año, hacemos una grafica linear que mide el numero de victimas por mes. En el primer trimestre del año, la variable presenta una tendencia negativa. Las cifras van cayendo de enero a febrero y de febrero a marzo. Luego, en el segundo trimestre suben pasando de 40 victimas en marzo a alrededor de 95 en junio. En el tercer trimestre, las cifras caen levemente en julio y mas pronunciado en agosto, para luego subir a valores maximos en spetiembre. En el ultimo trimestre se presenta una caida constante y pronunciada llegando en diciembre a los valores minimos. "
   ]
  },
  {
   "cell_type": "code",
   "execution_count": null,
   "metadata": {},
   "outputs": [],
   "source": [
    "g = sns.lineplot(x=\"mes\", y='victimas', estimator ='sum', data=acc)\n",
    "\n",
    "plt.title('Numero de victimas por mes')\n",
    "plt.xlabel('Mes')\n",
    "plt.ylabel(\"Cantidad de victimas\")\n",
    "plt.show()"
   ]
  },
  {
   "cell_type": "markdown",
   "metadata": {},
   "source": [
    "De la siguiente grafica podemos concluir que la gran mayoria de accidentes que se presentan son de lesividad `Herida Leve`. Los accidentes con implicaciones de `Herida Grave` no son frecuentes aunque se dan en mayor proporción en los hombres, al igual que todos los accidentes en general."
   ]
  },
  {
   "cell_type": "code",
   "execution_count": null,
   "metadata": {},
   "outputs": [],
   "source": [
    "g = sns.countplot(x=\"lesividad\", data=acc[acc.sexo != 'NO ASIGNADO'], hue='sexo', order = o4)\n",
    "\n",
    "plt.title('Tipo de lesion por sexo')\n",
    "plt.xlabel('Lesividad')\n",
    "plt.ylabel(\"Cantidad\")\n",
    "plt.show()"
   ]
  },
  {
   "cell_type": "markdown",
   "metadata": {},
   "source": [
    "Analizando la lesividad, con respecto a los dias de la semana vemos que los dias viernes y sabado ocurren una mayor proporción de accidentes de `Herida Grave`, mientras que lunes y martes ocurren una mayor proporción de `Ilesos`."
   ]
  },
  {
   "cell_type": "code",
   "execution_count": null,
   "metadata": {},
   "outputs": [],
   "source": [
    "g = sns.countplot(x=\"dia_semana\", data=acc , hue='lesividad', order = o1)\n",
    "\n",
    "plt.title('Tipo de lesividad por dia de la semana')\n",
    "plt.xlabel('Dia de la semana')\n",
    "plt.ylabel(\"Cantidad\")\n",
    "plt.show()"
   ]
  },
  {
   "cell_type": "markdown",
   "metadata": {},
   "source": [
    "Como mencionamos previamente, la mayoria de los accidentes afectan solo a una victima. El grafico de violin comprueba que hay pocas observaciones con dos victimas y unicamente en martes, viernes y sabado hay observaciones de accidentes de 3 victimas. "
   ]
  },
  {
   "cell_type": "code",
   "execution_count": null,
   "metadata": {},
   "outputs": [],
   "source": [
    "g = sns.violinplot(x='dia_semana', y='victimas', data=acc, order = o1)\n",
    "\n",
    "plt.title('Numero de victimas por dia de la semana')\n",
    "plt.xlabel('Dia de la semana')\n",
    "plt.ylabel(\"Numero de victimas\")\n",
    "plt.show()"
   ]
  },
  {
   "cell_type": "markdown",
   "metadata": {},
   "source": [
    "Pintaremos en un mapa las ubicaciones de los accidentes de los que se pudieron recuperar las direcciones. Esto nos puede ayudar a determinar si hay zonas de mayor peligro que puedan requerir con mayor prioridad la construcción de ciclo carriles u otras estrategias. Utilizaremos en el mapa una indexación con colores que nos muestren el tipo de lesión del accidente."
   ]
  },
  {
   "cell_type": "code",
   "execution_count": null,
   "metadata": {},
   "outputs": [],
   "source": [
    "import folium\n",
    "from folium import plugins\n",
    "from folium.plugins import HeatMap"
   ]
  },
  {
   "cell_type": "code",
   "execution_count": null,
   "metadata": {},
   "outputs": [],
   "source": [
    "m = folium.Map(\n",
    "    location=[40.4253, -3.7042],\n",
    "    tiles='OpenStreetMap',\n",
    "    zoom_start=11\n",
    ")\n",
    "\n",
    "for x, i in acc.iterrows():\n",
    "    \n",
    "    if i.lesividad == 'HG':\n",
    "        color = 'red'\n",
    "    elif i.lesividad == 'HL':\n",
    "        color = 'orange'\n",
    "    else:\n",
    "        color = 'green'\n",
    "    \n",
    "    try: \n",
    "        folium.Marker([i.latitud, i.longitud], \n",
    "                      popup='Numero de victimas: ' + str(i.victimas), \n",
    "                      icon=folium.Icon(color=color)).add_to(m)\n",
    "    except:\n",
    "        None\n",
    "m"
   ]
  },
  {
   "cell_type": "markdown",
   "metadata": {},
   "source": [
    "Para poder interpretar la información de forma mas practica utilizamos mapas de calor, que toman como input una lista de listas por lo cual debemos transformar la estructura de la tabla. En la definición de la nueva estructura podemos aplicar filtros al data frame para realizar comparaciones o analisis detallado de las variables determinadas.\n"
   ]
  },
  {
   "cell_type": "code",
   "execution_count": null,
   "metadata": {},
   "outputs": [],
   "source": [
    "heat_df = acc[acc['mes']==9] \n",
    "heat_df = heat_df[['latitud', 'longitud']]\n",
    "heat_df = heat_df.dropna(axis=0, subset=['latitud','longitud'])\n",
    "heat_data = [[row['latitud'],row['longitud']] for index, row in heat_df.iterrows()]\n",
    "\n",
    "map_hooray = folium.Map(location=[40.4253, -3.7042],\n",
    "                    zoom_start = 11) \n",
    "\n",
    "HeatMap(heat_data).add_to(map_hooray)\n",
    "\n",
    "map_hooray"
   ]
  },
  {
   "cell_type": "code",
   "execution_count": null,
   "metadata": {},
   "outputs": [],
   "source": [
    "heat_df = acc[acc['horain']=='19:00'] \n",
    "heat_df = heat_df[['latitud', 'longitud']]\n",
    "heat_df = heat_df.dropna(axis=0, subset=['latitud','longitud'])\n",
    "heat_data = [[row['latitud'],row['longitud']] for index, row in heat_df.iterrows()]\n",
    "\n",
    "map_hooray = folium.Map(location=[40.4253, -3.7042],\n",
    "                    zoom_start = 11) \n",
    "\n",
    "HeatMap(heat_data).add_to(map_hooray)\n",
    "\n",
    "map_hooray"
   ]
  },
  {
   "cell_type": "markdown",
   "metadata": {},
   "source": [
    "### Series de Tiempo\n",
    "\n",
    "Con Pandas podemos convertir las tablas en series de tiempo. Esto se puede lograr asignandole al indice una columna de fecha. De esta forma, podemos agregar o desagregar la información segun la periodicidad deseada. "
   ]
  },
  {
   "cell_type": "code",
   "execution_count": null,
   "metadata": {},
   "outputs": [],
   "source": [
    "accT = acc.set_index(acc.fecha)"
   ]
  },
  {
   "cell_type": "markdown",
   "metadata": {},
   "source": [
    "Esto nos permite realizar filtros por fechas o rangos de fechas."
   ]
  },
  {
   "cell_type": "code",
   "execution_count": null,
   "metadata": {},
   "outputs": [],
   "source": [
    "accT.loc['2018-01-01 10:00' : '2018-01-07 23:59'].head()"
   ]
  },
  {
   "cell_type": "markdown",
   "metadata": {},
   "source": [
    "Adicionalmente podemos crear nuevas tablas agregando por la periodicidad deseada y escogiendo una función de agregación como suma, promedio, mediana, maximo, minimo, etc."
   ]
  },
  {
   "cell_type": "markdown",
   "metadata": {},
   "source": [
    "En este caso, generamos una tabla con una periodicidad diaria, agregando contando los resultados."
   ]
  },
  {
   "cell_type": "code",
   "execution_count": null,
   "metadata": {},
   "outputs": [],
   "source": [
    "acc_dia = accT.resample('D').count()"
   ]
  },
  {
   "cell_type": "markdown",
   "metadata": {},
   "source": [
    "Para poder construir graficas con la variabe de fecha, sobreescribimos la columna fecha con los valores del indice. "
   ]
  },
  {
   "cell_type": "code",
   "execution_count": null,
   "metadata": {},
   "outputs": [],
   "source": [
    "acc_dia.fecha = acc_dia.index\n",
    "acc_dia.head()"
   ]
  },
  {
   "cell_type": "markdown",
   "metadata": {},
   "source": [
    "Otro escenario construido, fue agregando con una periodicidad mensual con base en la mediana. Esta formula conserva unicamente variables numericas. Nos permite ver la mediana de la edad en cada mes del año."
   ]
  },
  {
   "cell_type": "code",
   "execution_count": null,
   "metadata": {},
   "outputs": [],
   "source": [
    "acc_mes = accT.resample('M').median()"
   ]
  },
  {
   "cell_type": "code",
   "execution_count": null,
   "metadata": {},
   "outputs": [],
   "source": [
    "acc_mes['fecha1'] = acc_mes.index\n",
    "acc_mes.head()"
   ]
  },
  {
   "cell_type": "markdown",
   "metadata": {},
   "source": [
    "Podemos visualizar esta información con una grafica de linea. De la cual, podemos concluir que en abril es excepcionalmente bajo, llegando a los 25 años. Mientras que, la mayoria de los meses oscila entre 30 y 35 años."
   ]
  },
  {
   "cell_type": "code",
   "execution_count": null,
   "metadata": {},
   "outputs": [],
   "source": [
    "g = sns.lineplot(x='fecha1', y='edad', estimator ='sum',\n",
    "                 data=acc_mes)\n",
    "\n",
    "plt.title('Mediana de la edad por fecha')\n",
    "plt.xlabel('Fecha')\n",
    "plt.ylabel(\"Edad\")\n",
    "plt.show()"
   ]
  },
  {
   "cell_type": "markdown",
   "metadata": {},
   "source": [
    "Por ultimo, hacemos una tabla de periodicidad mensual, sumando los valores."
   ]
  },
  {
   "cell_type": "code",
   "execution_count": null,
   "metadata": {},
   "outputs": [],
   "source": [
    "acc_mes_sum = accT.resample('M').sum()"
   ]
  },
  {
   "cell_type": "markdown",
   "metadata": {},
   "source": [
    "Al estar el mes en un formato numerico, se han sumado las observaciones por mes, por lo cual redefinimos los valores de la columna."
   ]
  },
  {
   "cell_type": "code",
   "execution_count": null,
   "metadata": {},
   "outputs": [],
   "source": [
    "acc_mes_sum['fecha1'] = acc_mes_sum.index\n",
    "acc_mes_sum['mes'] = ['Enero', 'Febrero', 'Marzo', 'Abril', 'Mayo', 'Junio', 'Julio', 'Agosto', 'Septiembre', 'Octubre', 'Noviembre', 'Diciembre']\n",
    "acc_mes_sum.head()"
   ]
  },
  {
   "cell_type": "markdown",
   "metadata": {},
   "source": [
    "Para visualizar los resultados, utilizamos una grafica de barras para medir los meses donde hay mas victimas. Siendo la mediana del numero de victimas 1 y el promedio 1.10, vemos que el numero de victimas se comporta de forma similar a la cantidad de accidentes. Podemos concluir que junio y septiembre son los meses donde hay mas victimas. Diciembre y marzo, son los meses donde menos victimas hay. "
   ]
  },
  {
   "cell_type": "code",
   "execution_count": null,
   "metadata": {},
   "outputs": [],
   "source": [
    "g = sns.barplot(x='mes', y='victimas', palette = 'Set1', saturation=0.75,\n",
    "                data=acc_mes_sum)\n",
    "\n",
    "plt.title('Numero de victimas por mes')\n",
    "plt.xlabel('Mes')\n",
    "plt.ylabel(\"Numero de victimas\")\n",
    "plt.show()"
   ]
  },
  {
   "cell_type": "markdown",
   "metadata": {},
   "source": [
    "### Exportamos los Archivos y Juntamos las Tablas\n",
    "\n",
    "Al haber finalizado la limpieza y el analisis del archivo podemos exportar la version final a un archivo de CSV. Adicionalmente, podemos aplicar el mismo tratamiento a los archivos de 2016 y 2017 y juntarlos en un solo archivo."
   ]
  },
  {
   "cell_type": "markdown",
   "metadata": {},
   "source": [
    "    Guardamos el archivo de 2018."
   ]
  },
  {
   "cell_type": "code",
   "execution_count": null,
   "metadata": {},
   "outputs": [],
   "source": [
    "acc.to_csv('../dat/accidentes2018')"
   ]
  },
  {
   "cell_type": "markdown",
   "metadata": {},
   "source": [
    "Aplicamos el tratamiento al archivo del 2017."
   ]
  },
  {
   "cell_type": "code",
   "execution_count": null,
   "metadata": {},
   "outputs": [],
   "source": [
    "acc2017 = pd.read_csv(\"../dat/AccidentesBicicletas_2017.csv\", index_col=False, encoding = \"ISO-8859-1\", sep=';')"
   ]
  },
  {
   "cell_type": "code",
   "execution_count": null,
   "metadata": {},
   "outputs": [],
   "source": [
    "acc2017 = acc2017.drop(['Nº PARTE', 'CPFA Granizo', 'CPFA Hielo',\n",
    "       'CPFA Niebla', 'CPFA Seco', 'CPFA Nieve', 'CPSV Aceite',\n",
    "       'CPSV Barro', 'CPSV Grava Suelta', 'CPSV Hielo', 'CPSV Seca Y Limpia', 'Tipo Vehiculo', 'TIPO PERSONA'], 1)\n",
    "\n",
    "acc2017.columns = etiquetas\n",
    "#Al tener la ultima fila solo valores inexistentes debemos eliminarla para poder aplicar la limpieza de datos\n",
    "acc2017 = acc2017.iloc[:756, :]\n",
    "acc2017['horain'] = acc2017.apply(extrae_hora, axis = 1)\n",
    "acc2017['fecha'] = acc2017.fecha + ' ' + acc2017.horain\n",
    "acc2017.fecha = acc2017.fecha.apply(parse_fecha)\n",
    "acc2017['edad'] = acc2017.apply(extrae_edad, axis = 1)\n",
    "acc2017['edad'] = pd.to_numeric(acc2017['edad'], errors='coerce')\n",
    "acc2017['mes'] = acc2017.apply(lambda fila: fila.fecha.month, axis=1)\n",
    "acc2017['direccion'] = acc2017.apply(extrae_calle, axis = 1)\n",
    "acc2017 = acc2017.apply(lambda fila: fila.str.strip() if fila.dtype == 'object' else fila)\n",
    "acc2017['numero'] = pd.to_numeric(acc2017['numero'], errors='coerce')\n",
    "acc2017['direccion'] = acc2017.apply(suma_num, axis = 1)"
   ]
  },
  {
   "cell_type": "code",
   "execution_count": null,
   "metadata": {},
   "outputs": [],
   "source": [
    "acc2017['latitud'] = [latitud(i) for i in acc2017.direccion]"
   ]
  },
  {
   "cell_type": "code",
   "execution_count": null,
   "metadata": {},
   "outputs": [],
   "source": [
    "acc2017['longitud'] = [longitud(i) for i in acc2017.direccion]"
   ]
  },
  {
   "cell_type": "code",
   "execution_count": null,
   "metadata": {},
   "outputs": [],
   "source": [
    "acc2017.lluvia = acc2017.lluvia.astype('category')\n",
    "acc2017.mojado = acc2017.mojado.astype('category')\n",
    "acc2017['victimas'] = pd.to_numeric(acc2017['victimas'], errors='coerce', downcast='integer')"
   ]
  },
  {
   "cell_type": "code",
   "execution_count": null,
   "metadata": {},
   "outputs": [],
   "source": [
    "acc2017 = acc2017.drop(['rango_hora', 'rango_edad', 'lugar', 'numero'], 1)"
   ]
  },
  {
   "cell_type": "markdown",
   "metadata": {},
   "source": [
    "    Guardamos el archivo de 2017."
   ]
  },
  {
   "cell_type": "code",
   "execution_count": null,
   "metadata": {},
   "outputs": [],
   "source": [
    "acc2017.to_csv('../dat/accidentes2017')"
   ]
  },
  {
   "cell_type": "markdown",
   "metadata": {},
   "source": [
    "Aplicamos el tratamiento al archivo del 2016."
   ]
  },
  {
   "cell_type": "code",
   "execution_count": null,
   "metadata": {},
   "outputs": [],
   "source": [
    "acc2016 = pd.read_csv(\"../dat/AccidentesBicicletas_2016.csv\", index_col=False, encoding = \"ISO-8859-1\", sep=';')"
   ]
  },
  {
   "cell_type": "code",
   "execution_count": null,
   "metadata": {},
   "outputs": [],
   "source": [
    "acc2016 = acc2016.drop(['Nº PARTE', 'CPFA Granizo', 'CPFA Hielo',\n",
    "       'CPFA Niebla', 'CPFA Seco', 'CPFA Nieve', 'CPSV Aceite',\n",
    "       'CPSV Barro', 'CPSV Grava Suelta', 'CPSV Hielo', 'CPSV Seca Y Limpia', 'Tipo Vehiculo', 'TIPO PERSONA'], 1)\n",
    "\n",
    "acc2016.columns = etiquetas\n",
    "#Al tener la ultima fila solo valores inexistentes debemos eliminarla para poder aplicar la limpieza de datos\n",
    "acc2016 = acc2016.iloc[:757, :]\n",
    "acc2016['horain'] = acc2016.apply(extrae_hora, axis = 1)\n",
    "acc2016['fecha'] = acc2016.fecha + ' ' + acc2016.horain\n",
    "acc2016.fecha = acc2016.fecha.apply(parse_fecha)\n",
    "acc2016['edad'] = acc2016.apply(extrae_edad, axis = 1)\n",
    "acc2016['edad'] = pd.to_numeric(acc2016['edad'], errors='coerce')\n",
    "acc2016['mes'] = acc2016.apply(lambda fila: fila.fecha.month, axis=1)\n",
    "acc2016['direccion'] = acc2016.apply(extrae_calle, axis = 1)\n",
    "acc2016 = acc2016.apply(lambda fila: fila.str.strip() if fila.dtype == 'object' else fila)\n",
    "acc2016['numero'] = pd.to_numeric(acc2016['numero'], errors='coerce')\n",
    "acc2016['direccion'] = acc2016.apply(suma_num, axis = 1)"
   ]
  },
  {
   "cell_type": "code",
   "execution_count": null,
   "metadata": {},
   "outputs": [],
   "source": [
    "acc2016['latitud'] = [latitud(i) for i in acc2016.direccion]"
   ]
  },
  {
   "cell_type": "code",
   "execution_count": null,
   "metadata": {},
   "outputs": [],
   "source": [
    "acc2016['longitud'] = [longitud(i) for i in acc2016.direccion]"
   ]
  },
  {
   "cell_type": "code",
   "execution_count": null,
   "metadata": {},
   "outputs": [],
   "source": [
    "acc2016.lluvia = acc2016.lluvia.astype('category')\n",
    "acc2016.mojado = acc2016.mojado.astype('category')\n",
    "acc2016['victimas'] = pd.to_numeric(acc2016['victimas'], errors='coerce', downcast='integer')"
   ]
  },
  {
   "cell_type": "code",
   "execution_count": null,
   "metadata": {},
   "outputs": [],
   "source": [
    "acc2016 = acc2016.drop(['rango_hora', 'rango_edad', 'lugar', 'numero'], 1)"
   ]
  },
  {
   "cell_type": "markdown",
   "metadata": {},
   "source": [
    "    Guardamos el archivo de 2016."
   ]
  },
  {
   "cell_type": "code",
   "execution_count": null,
   "metadata": {},
   "outputs": [],
   "source": [
    "acc2016.to_csv('../dat/accidentes2016')"
   ]
  },
  {
   "cell_type": "markdown",
   "metadata": {},
   "source": [
    "Realizamos varios `Append` para juntar los tres archivos."
   ]
  },
  {
   "cell_type": "code",
   "execution_count": null,
   "metadata": {},
   "outputs": [],
   "source": [
    "acctmp = acc2016.append(acc2017)\n",
    "accfinal = acctmp.append(acc)"
   ]
  },
  {
   "cell_type": "markdown",
   "metadata": {},
   "source": [
    "    Guardamos el archivo agrupado."
   ]
  },
  {
   "cell_type": "code",
   "execution_count": null,
   "metadata": {},
   "outputs": [],
   "source": [
    "accfinal.to_csv('../dat/all_accidents')"
   ]
  }
 ],
 "metadata": {
  "kernelspec": {
   "display_name": "Python 3",
   "language": "python",
   "name": "python3"
  },
  "language_info": {
   "codemirror_mode": {
    "name": "ipython",
    "version": 3
   },
   "file_extension": ".py",
   "mimetype": "text/x-python",
   "name": "python",
   "nbconvert_exporter": "python",
   "pygments_lexer": "ipython3",
   "version": "3.7.1"
  }
 },
 "nbformat": 4,
 "nbformat_minor": 2
}
