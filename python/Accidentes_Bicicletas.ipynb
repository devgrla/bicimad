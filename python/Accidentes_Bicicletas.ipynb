{
 "cells": [
  {
   "cell_type": "markdown",
   "metadata": {},
   "source": [
    "# Analisis de los Accidentes con Implicaciones de Bicicletas\n",
    "\n",
    "\n",
    "![](https://static.thenounproject.com/png/11183-200.png)"
   ]
  },
  {
   "cell_type": "markdown",
   "metadata": {},
   "source": [
    "Primero importamos los paquetes de Python que vamos a requerir para la lectura, limpieza, analisis exploratorio y visualización. Para esto utilizamos:\n",
    "\n",
    "* **Pandas** - manipulación y analisis de datos para tablas y series de tiempo\n",
    "* **Datetime** - Conversión a formatos de fecha\n",
    "* **Re** - biblioteca para expresiones regulares\n",
    "* **Numpy** - soporte para vectores y matrices\n",
    "* **Matplotlib** - graficas basado en Matlab\n",
    "* **Seaborn** - herramientas de visualización mas avanzadas"
   ]
  },
  {
   "cell_type": "code",
   "execution_count": null,
   "metadata": {},
   "outputs": [],
   "source": [
    "import pandas as pd\n",
    "from datetime import date, datetime\n",
    "import re\n",
    "import numpy as np\n",
    "import matplotlib.pyplot as plt\n",
    "import seaborn as sns"
   ]
  },
  {
   "cell_type": "markdown",
   "metadata": {},
   "source": [
    "Utilizaremos el archivo de los [accidentes con implicaciones de bicicletas en Madrid de 2018](https://datos.madrid.es/portal/site/egob/menuitem.c05c1f754a33a9fbe4b2e4b284f1a5a0/?vgnextoid=20f4a87ebb65b510VgnVCM1000001d4a900aRCRD&vgnextchannel=374512b9ace9f310VgnVCM100000171f5a0aRCRD&vgnextfmt=default), para lo cual debemos tener en cuenta las siguientes consideraciones:\n",
    "\n",
    "* Es un archivo **CSV**\n",
    "* El archivo no abre con el encoding UTF8, por lo cual hay que utilizar ISO-8859-1. \n",
    "* Los datos estan separados por `;` y no `,` "
   ]
  },
  {
   "cell_type": "code",
   "execution_count": null,
   "metadata": {},
   "outputs": [],
   "source": [
    "acc = pd.read_csv(\"../dat/AccidentesBicicletas_2018.csv\", index_col=False, encoding = \"ISO-8859-1\", sep=';')"
   ]
  },
  {
   "cell_type": "markdown",
   "metadata": {},
   "source": [
    "### Revisión de la Estructura de la Tabla\n",
    "\n",
    "Luego de haber cargado el archivo a nuestro ambiente, exploramos la composición de los datos. Revisamos el numero de filas y columnas, la cantidad de valores vacios, las primeras y ultimas observaciones, el tipo de los datos y el nombre de las **columnas**."
   ]
  },
  {
   "cell_type": "code",
   "execution_count": null,
   "metadata": {
    "scrolled": true
   },
   "outputs": [],
   "source": [
    "acc.columns"
   ]
  },
  {
   "cell_type": "markdown",
   "metadata": {},
   "source": [
    "Revisamos la **forma** de la tabla, que nos devuelve la cantidad de filas y columnas."
   ]
  },
  {
   "cell_type": "code",
   "execution_count": null,
   "metadata": {},
   "outputs": [],
   "source": [
    "acc.shape"
   ]
  },
  {
   "cell_type": "markdown",
   "metadata": {},
   "source": [
    "Revisamos la **información** de la tabla, que nos devuelve el numero de datos en cada columna, el tipo de dato y la memoria que ocupa."
   ]
  },
  {
   "cell_type": "code",
   "execution_count": null,
   "metadata": {},
   "outputs": [],
   "source": [
    "acc.info()"
   ]
  },
  {
   "cell_type": "markdown",
   "metadata": {},
   "source": [
    "Vemos una **muestra** de la tabla, para revisar la composición de los datos. Tanto de las primeras como de las ultimas observaciones."
   ]
  },
  {
   "cell_type": "code",
   "execution_count": null,
   "metadata": {},
   "outputs": [],
   "source": [
    "acc.head()"
   ]
  },
  {
   "cell_type": "code",
   "execution_count": null,
   "metadata": {},
   "outputs": [],
   "source": [
    "acc.tail()"
   ]
  },
  {
   "cell_type": "markdown",
   "metadata": {},
   "source": [
    "\n",
    "\n",
    "Observamos la **descripción** de los datos numericos, donde podemos ver la media, desviación estandar, valor minimo, valor maximo, entre otros.\n"
   ]
  },
  {
   "cell_type": "code",
   "execution_count": null,
   "metadata": {},
   "outputs": [],
   "source": [
    "acc.describe()"
   ]
  },
  {
   "cell_type": "markdown",
   "metadata": {},
   "source": [
    "### Limpieza de Datos\n",
    "\n",
    "Teniendo ya información mas detallada del archivo podemos proceder con su limpieza, eliminando las columnas que no son utiles para el analisis objetivo y convirtiendo los datos a el formato deseado. Por ejemplo, podemos observar que la mayoria de columnas estan en formato de texto. Columnas como la fecha debemos pasar a un formato Datetime y columnas como la edad deben estar en formato numerico. "
   ]
  },
  {
   "cell_type": "markdown",
   "metadata": {},
   "source": [
    "En primer lugar, eliminamos las columnas de numero de parte, que no nos agrega información relevante para nuestro analisis y las de condiciones climaticas y del estado del suelo, excepto la de lluvia y mojado, pues muy pocos accidentes ocurren bajo esas condiciones por lo cual no agregaran valor. Además, elimnamos el tipo de vehiculo, pues todas las observaciónes son igual a bicicleta y tipo de persona porque la mayoria de los resultados son **CONDUCTOR**, unos pocos son **VIAJEROS** y solo una observación es **TESTIGO**. "
   ]
  },
  {
   "cell_type": "code",
   "execution_count": null,
   "metadata": {},
   "outputs": [],
   "source": [
    "acc = acc.drop(['Nº PARTE', 'CPFA Granizo', 'CPFA Hielo',\n",
    "       'CPFA Niebla', 'CPFA Seco', 'CPFA Nieve', 'CPSV Aceite',\n",
    "       'CPSV Barro', 'CPSV Grava Suelta', 'CPSV Hielo', 'CPSV Seca Y Limpia', 'Tipo Vehiculo', 'TIPO PERSONA'], 1)"
   ]
  },
  {
   "cell_type": "markdown",
   "metadata": {},
   "source": [
    "Ahora, renombramos las columnas para tener nombres simples, faciles de manipular."
   ]
  },
  {
   "cell_type": "code",
   "execution_count": null,
   "metadata": {},
   "outputs": [],
   "source": [
    "etiquetas = ['fecha', 'rango_hora', 'dia_semana', 'distrito', 'lugar', 'numero', 'lluvia', 'mojado', 'victimas', \n",
    "             'tipo_accidente', 'sexo', 'lesividad', 'rango_edad']\n",
    "acc.columns = etiquetas"
   ]
  },
  {
   "cell_type": "markdown",
   "metadata": {},
   "source": [
    "Extraemos de la columna `rango hora`, la hora de inicio del rango y creamos una nueva columna con esos datos"
   ]
  },
  {
   "cell_type": "code",
   "execution_count": null,
   "metadata": {},
   "outputs": [],
   "source": [
    "def extrae_hora(t):\n",
    "    _, horain, _, _, = t.rango_hora.split(' ')\n",
    "    return horain\n",
    "\n",
    "acc['horain'] = acc.apply(extrae_hora, axis = 1)"
   ]
  },
  {
   "cell_type": "markdown",
   "metadata": {},
   "source": [
    "Juntamos la hora con la fecha y utilizamos una formula para convertir los datos de la columna `fecha`, de texto a **datetime**."
   ]
  },
  {
   "cell_type": "code",
   "execution_count": null,
   "metadata": {},
   "outputs": [],
   "source": [
    "acc['fecha'] = acc.fecha + ' ' + acc.horain"
   ]
  },
  {
   "cell_type": "code",
   "execution_count": null,
   "metadata": {},
   "outputs": [],
   "source": [
    "formato2 = '%d/%m/%Y %H:%M'\n",
    "fecha = '01/01/1949 20:30'\n",
    "\n",
    "def parse_fecha(fecha):\n",
    "        a = datetime.strptime(fecha, formato2)\n",
    "        return a\n",
    "\n",
    "acc.fecha = acc.fecha.apply(parse_fecha)"
   ]
  },
  {
   "cell_type": "markdown",
   "metadata": {},
   "source": [
    "Tambien utilizamos una función para extraer de la columna `rango edad`, la edad promedio entre el maximo y minimo. Teniendo en cuenta a la vez que hay filas donde el valor es desconocido y sera remplazado por `missing value`."
   ]
  },
  {
   "cell_type": "code",
   "execution_count": null,
   "metadata": {},
   "outputs": [],
   "source": [
    "def extrae_edad(e):\n",
    "    try:\n",
    "        _, edadmin, _, _, _, = e.rango_edad.split(' ')\n",
    "        _, _, _, edadmax, _, = e.rango_edad.split(' ')\n",
    "        return (int(edadmin) + int(edadmax))/2\n",
    "    except:\n",
    "        return None\n",
    "\n",
    "acc['edad'] = acc.apply(extrae_edad, axis = 1)"
   ]
  },
  {
   "cell_type": "markdown",
   "metadata": {},
   "source": [
    "Adicionalmente, convertimos la columna de edad, extraida previamente, de texto a `float`. Utilizamos el parametro errors con el valor de `coerce` para que convierta los valores no numericos en `missing values`."
   ]
  },
  {
   "cell_type": "code",
   "execution_count": null,
   "metadata": {},
   "outputs": [],
   "source": [
    "acc['edad'] = pd.to_numeric(acc['edad'], errors='coerce')"
   ]
  },
  {
   "cell_type": "markdown",
   "metadata": {},
   "source": [
    "Construimos una columna con el valor del mes de cuando ocurrio el accidente."
   ]
  },
  {
   "cell_type": "code",
   "execution_count": null,
   "metadata": {},
   "outputs": [],
   "source": [
    "acc['mes'] = acc.apply(lambda fila: fila.fecha.month, axis=1)"
   ]
  },
  {
   "cell_type": "markdown",
   "metadata": {},
   "source": [
    "Examinando detalladamente el campo de lugar, que tiene información sobre la ubicacion donde se produjo el accidente, vemos que las observaciones tienen información de sobra. En algunos campos hay dos direcciones y al final de la observación esta el texto `NUM`. Esto puede dificultar convertir la dirección a coordenadas de latitud, longitud por lo cual eliminaremos una dirección y el texto que sobra. "
   ]
  },
  {
   "cell_type": "code",
   "execution_count": null,
   "metadata": {},
   "outputs": [],
   "source": [
    "def extrae_calle(e):\n",
    "    try:\n",
    "        direccion, _  = e.lugar.split('-')\n",
    "        return direccion\n",
    "    except:\n",
    "        return e.lugar.replace('NUM', '')\n",
    "\n",
    "acc['direccion'] = acc.apply(extrae_calle, axis = 1)"
   ]
  },
  {
   "cell_type": "markdown",
   "metadata": {},
   "source": [
    "Eliminamos los espacios vacios de nuestros resultados para no tener conflictos al realizar filtros."
   ]
  },
  {
   "cell_type": "code",
   "execution_count": null,
   "metadata": {},
   "outputs": [],
   "source": [
    "acc = acc.apply(lambda fila: fila.str.strip() if fila.dtype == 'object' else fila)"
   ]
  },
  {
   "cell_type": "markdown",
   "metadata": {},
   "source": [
    "Ahora que tenemos un valor limpio de la dirección, vamos a convertir el tipo de dato del numero de la calle de texto a numerico, para luego unir al campo de dirección el numero de la calle pero unicamente en los casos que el numero sea superior a cero."
   ]
  },
  {
   "cell_type": "code",
   "execution_count": null,
   "metadata": {},
   "outputs": [],
   "source": [
    "acc['numero'] = pd.to_numeric(acc['numero'], errors='coerce')"
   ]
  },
  {
   "cell_type": "code",
   "execution_count": null,
   "metadata": {},
   "outputs": [],
   "source": [
    "def suma_num(e):\n",
    "    if e.numero > 0:\n",
    "        return e.direccion + ' ' + str(int(e.numero))\n",
    "    else:\n",
    "        return e.direccion\n",
    "    \n",
    "acc['direccion'] = acc.apply(suma_num, axis = 1)"
   ]
  },
  {
   "cell_type": "markdown",
   "metadata": {},
   "source": [
    "Una vez que tenemos la dirección del accidente de forma precisa, podemos utilizar funciones para convertir la dirección en coordenadas de latitud y longitud. Investigando encontramos [geopy 1.18.1](https://pypi.org/project/geopy/). Geopy es un cliente de web services de geocoding, que hace posible identificar las coordenadas de direcciones, ciudades y paises. \n",
    "\n",
    "Para poder utilizarlo hay que descargar el paquete en el prompt de Anaconda, o similares, utilizando el comando `pip install geopy` y despues importar el paquete."
   ]
  },
  {
   "cell_type": "code",
   "execution_count": null,
   "metadata": {},
   "outputs": [],
   "source": [
    "from geopy.geocoders import Nominatim\n",
    "geolocator = Nominatim(user_agent=\"specify_your_app_name_here\")"
   ]
  },
  {
   "cell_type": "markdown",
   "metadata": {},
   "source": [
    "Ahora definimos las funciones que van a extraer la longitud y latitud."
   ]
  },
  {
   "cell_type": "code",
   "execution_count": null,
   "metadata": {},
   "outputs": [],
   "source": [
    "def latitud(e):\n",
    "    try:\n",
    "        location = geolocator.geocode(e + ' MADRID')\n",
    "        return location.latitude\n",
    "    except:\n",
    "        return None\n",
    "\n",
    "def longitud(e):\n",
    "    try:\n",
    "        location = geolocator.geocode(e + ' MADRID')\n",
    "        return location.longitude\n",
    "    except:\n",
    "        return None"
   ]
  },
  {
   "cell_type": "markdown",
   "metadata": {},
   "source": [
    "Finalmente, utilizamos un bucle para extraer cada latitud y longitud para almacenarlos en la tabla. **Es importante tener en cuenta** que dado que son cientos de solicitudes al cliente, se deben realizar de manera espaciada para evitar ser bloqueados."
   ]
  },
  {
   "cell_type": "code",
   "execution_count": null,
   "metadata": {},
   "outputs": [],
   "source": [
    "acc['latitud'] = [latitud(i) for i in acc.direccion]"
   ]
  },
  {
   "cell_type": "code",
   "execution_count": null,
   "metadata": {},
   "outputs": [],
   "source": [
    "acc['longitud'] = [longitud(i) for i in acc.direccion]"
   ]
  },
  {
   "cell_type": "markdown",
   "metadata": {},
   "source": [
    "Para tener un desempeño optimo de la memoria ocupada por cada dataset convertimos algunas variables de formato texto a formato `categorico`. "
   ]
  },
  {
   "cell_type": "code",
   "execution_count": null,
   "metadata": {},
   "outputs": [],
   "source": [
    "acc.lluvia = acc.lluvia.astype('category')\n",
    "acc.mojado = acc.mojado.astype('category')"
   ]
  },
  {
   "cell_type": "markdown",
   "metadata": {},
   "source": [
    "Al haber hecho la conversión de las columnas `rango hora` y `rango edad`, a formatos mas utiles, los podemos eliminar de la tabla. Adicionalmente, al haber unificado la información de lugar, incluyendo el numero y dirección, tambien podemos eliminar las columnas de `lugar` y `numero`."
   ]
  },
  {
   "cell_type": "code",
   "execution_count": null,
   "metadata": {},
   "outputs": [],
   "source": [
    "acc = acc.drop(['rango_hora', 'rango_edad', 'lugar', 'numero'], 1)"
   ]
  },
  {
   "cell_type": "markdown",
   "metadata": {},
   "source": [
    "### Analisis Exploratorio Estadistico y Visual\n",
    "\n",
    "Una vez que contamos con los datos que deseamos evaluar y los tenemos disponibles en el formato deseado podemos empezar a explorar los resultados para tener una idea de la distribución de las variables y como estan relacionadas. \n",
    "\n",
    "Para realizar esta tarea podemos utilizar herramientas estadisticas como la desviación estandar, media, mediana, maximos y minimos. Tambien podemos utiliar histogramas y graficos de dispersión."
   ]
  },
  {
   "cell_type": "markdown",
   "metadata": {},
   "source": [
    "_Empezamos_, analizando con mayor profundidad las columnas de interes. Detallamos los resultados y su **distribucción**, de las siguientes columnas:\n",
    "\n",
    "* Numero de victimas"
   ]
  },
  {
   "cell_type": "code",
   "execution_count": null,
   "metadata": {},
   "outputs": [],
   "source": [
    "acc['victimas'].value_counts(dropna=False)"
   ]
  },
  {
   "cell_type": "markdown",
   "metadata": {},
   "source": [
    "En la columna de victimas vemos que hay un outlier que puede contaminar la muestra y dificultar el analisis grafico de las variables. Por lo cual, haremos una copia de la tabla que no incluya este valor."
   ]
  },
  {
   "cell_type": "code",
   "execution_count": null,
   "metadata": {},
   "outputs": [],
   "source": [
    "acc = acc[acc['victimas'] < 14]"
   ]
  },
  {
   "cell_type": "markdown",
   "metadata": {},
   "source": [
    "* Tipo de Accidente"
   ]
  },
  {
   "cell_type": "code",
   "execution_count": null,
   "metadata": {},
   "outputs": [],
   "source": [
    "acc['tipo_accidente'].value_counts(dropna=False)"
   ]
  },
  {
   "cell_type": "markdown",
   "metadata": {},
   "source": [
    "* Lesividad"
   ]
  },
  {
   "cell_type": "code",
   "execution_count": null,
   "metadata": {},
   "outputs": [],
   "source": [
    "acc['lesividad'].value_counts(dropna=False)"
   ]
  },
  {
   "cell_type": "markdown",
   "metadata": {},
   "source": [
    "* Lluvia"
   ]
  },
  {
   "cell_type": "code",
   "execution_count": null,
   "metadata": {},
   "outputs": [],
   "source": [
    "acc['lluvia'].value_counts(dropna=False)"
   ]
  },
  {
   "cell_type": "markdown",
   "metadata": {},
   "source": [
    "* Distrito"
   ]
  },
  {
   "cell_type": "code",
   "execution_count": null,
   "metadata": {},
   "outputs": [],
   "source": [
    "acc['distrito'].value_counts(dropna=False)"
   ]
  },
  {
   "cell_type": "markdown",
   "metadata": {
    "scrolled": true
   },
   "source": [
    "* Dia de la Semana"
   ]
  },
  {
   "cell_type": "code",
   "execution_count": null,
   "metadata": {},
   "outputs": [],
   "source": [
    "acc['dia_semana'].value_counts(dropna=False)"
   ]
  },
  {
   "cell_type": "markdown",
   "metadata": {},
   "source": [
    "* Hora Inicial"
   ]
  },
  {
   "cell_type": "code",
   "execution_count": null,
   "metadata": {
    "scrolled": true
   },
   "outputs": [],
   "source": [
    "acc['horain'].value_counts(dropna=False)"
   ]
  },
  {
   "cell_type": "markdown",
   "metadata": {},
   "source": [
    "* Sexo"
   ]
  },
  {
   "cell_type": "code",
   "execution_count": null,
   "metadata": {},
   "outputs": [],
   "source": [
    "acc['sexo'].value_counts(dropna=False)"
   ]
  },
  {
   "cell_type": "markdown",
   "metadata": {},
   "source": [
    "* Edad"
   ]
  },
  {
   "cell_type": "code",
   "execution_count": null,
   "metadata": {},
   "outputs": [],
   "source": [
    "acc['edad'].value_counts(dropna=False)"
   ]
  },
  {
   "cell_type": "code",
   "execution_count": null,
   "metadata": {},
   "outputs": [],
   "source": [
    "acc['mes'].value_counts(dropna=False)"
   ]
  },
  {
   "cell_type": "markdown",
   "metadata": {},
   "source": [
    "De este analisis podemos concluir que a grandes rasgos no hay problemas masivos con la calidad de los datos. En la columna de edad tenemos 21 `missing values`, en la columna de sexo hay 11 resultados no asignados, en la columna de lesividad hay 9 resultados no asignados, las columnas de latitud y longitud si cuentan con al rededor de 80 `missing values` pero las demas columnas tienen valores completos en la totalidad de sus observaciones."
   ]
  },
  {
   "cell_type": "markdown",
   "metadata": {},
   "source": [
    "Volvemos a realizar las funciones de info y describe para ver como los cambios han afectado las columnas, los tipo de datos, el peso del archivo y, de las variables numericas, observar la media, error estandar, maximo, minimo y percentiles. Podemos ver que el archvo paso de 142.3+ KB a 78.0+ KB. Previamente habian int64(1), object(25) y pasamos a category(2), datetime64ns(1), float64(3), int64(2), object(7)."
   ]
  },
  {
   "cell_type": "code",
   "execution_count": null,
   "metadata": {
    "scrolled": true
   },
   "outputs": [],
   "source": [
    "acc.info()"
   ]
  },
  {
   "cell_type": "markdown",
   "metadata": {},
   "source": [
    "De las variables numericas podemos concluir que la mayoria de los accidentes tienen solo una victima y que la edad promedio es de 36 años."
   ]
  },
  {
   "cell_type": "code",
   "execution_count": null,
   "metadata": {},
   "outputs": [],
   "source": [
    "acc.describe()"
   ]
  },
  {
   "cell_type": "markdown",
   "metadata": {},
   "source": [
    "**Despues**, hacemos una serie de agrupaciones para ver como se comportan los datos entre las variables."
   ]
  },
  {
   "cell_type": "markdown",
   "metadata": {},
   "source": [
    "En primer lugar, evaluamos el distrito con el dia de semana, agrupado por la sumatoria de las victimas. Con esto podemos ver que dias de la semana hay mas accidentes por distrito."
   ]
  },
  {
   "cell_type": "code",
   "execution_count": null,
   "metadata": {},
   "outputs": [],
   "source": [
    "tmp = acc.groupby(['distrito', 'dia_semana']).agg({'victimas': 'sum'})\n",
    "tmp"
   ]
  },
  {
   "cell_type": "markdown",
   "metadata": {},
   "source": [
    "Ahora, agrupamos por dia de semana y tipo de lesividad agregando por la suma de las victimas, para evaluar si varian la gravedad de las lesiones por dia de la semana. A gran escala vemos que las variables mantienen un comportamiento proporcional entre los diferentes dias de la semana. "
   ]
  },
  {
   "cell_type": "code",
   "execution_count": null,
   "metadata": {},
   "outputs": [],
   "source": [
    "tmp = acc.groupby(['dia_semana', 'lesividad']).agg({'victimas': 'sum'})\n",
    "tmp"
   ]
  },
  {
   "cell_type": "markdown",
   "metadata": {},
   "source": [
    "Realizamos una agrupación por distrito, evaluando la mediana de la edad. Vemos que la mayoria de los distritos tienen una mediana de 30 o mas años. Habiendo unicamente una excepción de 22 años y 5 con al menos 40 años."
   ]
  },
  {
   "cell_type": "code",
   "execution_count": null,
   "metadata": {},
   "outputs": [],
   "source": [
    "tmp = acc.groupby(['distrito']).agg({'edad': 'median'})\n",
    "tmp"
   ]
  },
  {
   "cell_type": "markdown",
   "metadata": {},
   "source": [
    "Hacemos una agrupación para ver como se distribuyen los tipos de accidente entre los meses del año. De la tabla, podemos ver que la cantidad de accidentes tiene un comportamiento proporcional através del tiempo. Siendo las categorias de **CAÍDA BICICLETA** y **COLISIÓN DOBLE** las mas recurrentes todos los meses."
   ]
  },
  {
   "cell_type": "code",
   "execution_count": null,
   "metadata": {},
   "outputs": [],
   "source": [
    "tmp = acc.groupby(['mes', 'tipo_accidente']).agg({'tipo_accidente': 'count'})\n",
    "tmp"
   ]
  },
  {
   "cell_type": "markdown",
   "metadata": {},
   "source": [
    "Adicional a las agrupaciones podemos realizar filtros deseados para encontrar resultados especificos dentro de la tabla."
   ]
  },
  {
   "cell_type": "markdown",
   "metadata": {},
   "source": [
    "Hacemos una busqueda de los accidentes ocurridos en lunes del tipo atropello. Vemos que hay 11 observaciones, que ninguno ocurrio con lluvia o estado mojado y todos de hombres. "
   ]
  },
  {
   "cell_type": "code",
   "execution_count": null,
   "metadata": {},
   "outputs": [],
   "source": [
    "acc[(acc['dia_semana'] == 'LUNES') & (acc['tipo_accidente'] == 'ATROPELLO')]"
   ]
  },
  {
   "cell_type": "markdown",
   "metadata": {},
   "source": [
    "Ademas de los filtros, podemos organizar los resultados por campo. En este caso, buscamos los accidentes de lesividad de herida grave, de hombres en el mes de septiembre. Todo ordenado por orden alfabetico del distrito."
   ]
  },
  {
   "cell_type": "code",
   "execution_count": null,
   "metadata": {},
   "outputs": [],
   "source": [
    "acc[(acc['lesividad'] == 'HG') & (acc['sexo'] == 'HOMBRE') & (acc['mes'] == 9.0)].sort_values('distrito')"
   ]
  },
  {
   "cell_type": "markdown",
   "metadata": {},
   "source": [
    "Empezamos realizando el **analisis exploratorio visual**. Iniciamos con la distribución de las variables de mes y edad."
   ]
  },
  {
   "cell_type": "markdown",
   "metadata": {},
   "source": [
    "Utilizamos el proximo comando para que se vean más grandes los gráficos en el notebook."
   ]
  },
  {
   "cell_type": "code",
   "execution_count": 2,
   "metadata": {},
   "outputs": [],
   "source": [
    "from matplotlib import rcParams\n",
    "import matplotlib\n",
    "%matplotlib inline\n",
    "rcParams['figure.figsize'] = 18, 10\n",
    "sns.set_context('talk')\n",
    "sns.set_style(\"darkgrid\")\n"
   ]
  },
  {
   "cell_type": "markdown",
   "metadata": {},
   "source": [
    "La edad vemos que tiene una distribucción muy parecida a la normal. Tiene el pico en el medio, aunque un poco inclinado a la izquierda, siendo las personas de 25 a 35 años las que mas accidentes tienen, lo cual es consistente con el hecho que son las personas que mas utilizan la bicicleta, mientras que las personas menores a los 15 años y mayores a los 40 tienden a utilizar en menor proporcion este medio."
   ]
  },
  {
   "cell_type": "code",
   "execution_count": null,
   "metadata": {},
   "outputs": [],
   "source": [
    "tmp = acc[acc.edad > 0]\n",
    "g = sns.distplot(tmp.edad, bins=13)\n",
    "\n",
    "plt.title('Histograma Edad')\n",
    "plt.xlabel('Edad')\n",
    "plt.show()\n"
   ]
  },
  {
   "cell_type": "markdown",
   "metadata": {},
   "source": [
    "Los meses tienen una distribucción menos regular, vemos que en la temporada de verano es cuando mas accidentes se presentan siendo por el contrario el invierno donde menos accidentes hay con un leve incremento en enero en comparación a diciembre, febrero y marzo."
   ]
  },
  {
   "cell_type": "code",
   "execution_count": null,
   "metadata": {},
   "outputs": [],
   "source": [
    "g = sns.distplot(acc.mes, bins=12)\n",
    "\n",
    "plt.title('Histograma Mes')\n",
    "plt.xlabel('Mes')\n",
    "plt.show()\n"
   ]
  },
  {
   "cell_type": "markdown",
   "metadata": {},
   "source": [
    "En cuanto al comportamiento entre los dias de la semana, vemos que el jueves es cuando mas accidentes se presentan, con cerca de 120, el domingo es cuando menos accidentes hay con cerca de 90. Los demas dias tienen un comportamiento muy parejo oscilando entre 95 y 105."
   ]
  },
  {
   "cell_type": "code",
   "execution_count": null,
   "metadata": {},
   "outputs": [],
   "source": [
    "o1 = ['LUNES', 'MARTES', 'MIERCOLES', 'JUEVES', 'VIERNES', 'SABADO', 'DOMINGO']\n",
    "\n",
    "g = sns.countplot(x='dia_semana', order = o1, data=acc, palette=\"Set1\")\n",
    "\n",
    "plt.title('Accidentes por día de la semana')\n",
    "plt.xlabel('Día de la semana')\n",
    "plt.ylabel(\"Cantidad de accidentes\")\n",
    "plt.show()"
   ]
  },
  {
   "cell_type": "markdown",
   "metadata": {},
   "source": [
    "Para organizar las variables en los graficos definimos el orden."
   ]
  },
  {
   "cell_type": "code",
   "execution_count": null,
   "metadata": {},
   "outputs": [],
   "source": [
    "o = ['CENTRO', 'RETIRO', 'CHAMBERI', 'MONCLOA-ARAVACA', 'SALAMANCA', \n",
    " 'CARABANCHEL', 'LATINA', 'TETUAN', 'ARGANZUELA', 'FUENCARRAL-EL PARDO', \n",
    " 'PUENTE DE VALLECAS', 'CHAMARTIN', 'CIUDAD LINEAL', 'SAN BLAS', 'HORTALEZA',\n",
    " 'USERA', 'VILLA DE VALLECAS', 'MORATALAZ', 'VILLAVERDE', 'VICALVARO', 'BARAJAS']\n",
    "\n",
    "o2 = ['1:00', '2:00', '3:00', '4:00', '5:00', '6:00', '7:00', '8:00', '9:00', '10:00',\n",
    "        '11:00', '12:00','13:00','14:00', '15:00', '16:00', '17:00', \n",
    "      '18:00', '19:00', '20:00', '21:00', '22:00', '23:00', '00:00']\n",
    "\n",
    "o4 = ['IL', 'HL', 'HG']\n",
    "\n",
    "o5 = ['IL', 'HL', 'HG', 'NO ASIGNADA']"
   ]
  },
  {
   "cell_type": "markdown",
   "metadata": {},
   "source": [
    "Hacemos un grafico de dispersión evaluando el tipo de lesividad y su relación con la edad. Unicamente vemos que las heridas leves son las que mayor observaciones tienen pero no parece haber un aumento en las heridas graves con un aumento en la edad, aunque si se presenta una ausencia de heridas graves en sujetos menores de 20 años."
   ]
  },
  {
   "cell_type": "code",
   "execution_count": null,
   "metadata": {},
   "outputs": [],
   "source": [
    "g = sns.swarmplot(x='lesividad', y='edad', order = o4, data=acc[acc['lesividad'] != 'NO ASIGNADA'])\n",
    "\n",
    "plt.title('Dispersión de accidentes por lesividad y edad')\n",
    "plt.xlabel('Lesividad')\n",
    "plt.ylabel(\"Edad\")\n",
    "plt.show()"
   ]
  },
  {
   "cell_type": "markdown",
   "metadata": {},
   "source": [
    "Hacemos tambien un grafico de dispersión evaluando el sexo y la edad. Vemos que los hombres tienen muchos mas accidentes y en especial con los usuarios menores de 40. "
   ]
  },
  {
   "cell_type": "code",
   "execution_count": 8,
   "metadata": {},
   "outputs": [
    {
     "data": {
      "image/png": "[encoded data removed]",
      "text/plain": [
       "<Figure size 1296x720 with 1 Axes>"
      ]
     },
     "metadata": {},
     "output_type": "display_data"
    }
   ],
   "source": [
    "g = sns.swarmplot(x='sexo', y='edad', data=acc[acc.sexo != 'NO ASIGNADO'])\n",
    "\n",
    "plt.title('Dispersión de accidentes por edad y sexo')\n",
    "plt.xlabel('Sexo')\n",
    "plt.ylabel(\"Edad\")\n",
    "plt.show()"
   ]
  },
  {
   "cell_type": "markdown",
   "metadata": {},
   "source": [
    "Para saber cual es el distrito con mayores accidentes creamos una grafica de barras horizontal. Observamos que el centro es de lejos el distrito mas accidentado, lo cual es bastante util para determinar donde enfocar las estrategias de prevencción de accidentes. Retiro, Chamberi, Moncloa-Aravaca y Salamanca tambien tienen cifras altas. "
   ]
  },
  {
   "cell_type": "code",
   "execution_count": null,
   "metadata": {},
   "outputs": [],
   "source": [
    "g = sns.countplot(y='distrito', data=acc, palette='Set1', order=o )\n",
    "\n",
    "plt.title('Cantidad de accidentes por distrito')\n",
    "plt.xlabel('Cantidad de accidentes')\n",
    "plt.ylabel(\"Distrito\")\n",
    "plt.show()"
   ]
  },
  {
   "cell_type": "markdown",
   "metadata": {},
   "source": [
    "Ahora bien, la distribucción de los accidentes en las horas del dia tienen una cola grande sobre la izquierda. Es decir, que en las horas de la madrugada es cuando menos accidentes hay, logicamente pues es tambien cuando menos se utilizan las bicicletas. Por otro lado, las 19:00 es cuando mas accidentes ocurren, siendo alto tambien a las 9:00, 13:00 y 18:00, horas donde la mayoria de la gente se desplaza a estudiar, almorzar y trabajar."
   ]
  },
  {
   "cell_type": "code",
   "execution_count": null,
   "metadata": {},
   "outputs": [],
   "source": [
    "g = sns.countplot(x='horain', data=acc, order=o2, palette='Set1')\n",
    "\n",
    "plt.title('Cantidad de accidentes por hora')\n",
    "plt.xlabel('Hora')\n",
    "plt.ylabel(\"Cantidad de accidentes\")\n",
    "plt.show()"
   ]
  },
  {
   "cell_type": "markdown",
   "metadata": {},
   "source": [
    "Utilizando un catplot, podemos construir un grafico comparando los valores por el resultado de una variable. En este caso, vamos a utilizar la variable sexo, para observar como se relaciona la edad con el tipo de lesividad. En la grafica de dispersión que vimos previamente, del tipo de lesividad, no era claro que existiera una relación. Sin embargo, al utilizar un boxplot vemos un claro incremento en la mediana de la edad de los hombres, entre mas grave sea la lesión. En el caso de las mujeres no observamos ese comportamiento."
   ]
  },
  {
   "cell_type": "code",
   "execution_count": null,
   "metadata": {},
   "outputs": [],
   "source": [
    "g = sns.catplot(x=\"lesividad\", y='edad', order = o4, col=\"sexo\",\n",
    "                 data=acc[acc.sexo != 'NO ASIGNADO'], palette='BuPu', kind=\"box\", margin_titles=True)\n"
   ]
  },
  {
   "cell_type": "markdown",
   "metadata": {},
   "source": [
    "Analizamos, en los 5 distritos con mas accidentes, la distribucción de los accidentes entre los meses del año, diferenciando los accidentes que se dieron con y sin lluvia. Podemos observar una diferencia marcada entre los distritos, cuando no hubo lluvia. Por ejemplo, el distrito del retiro tiene pocos accidentes en los ultimos meses, mientras que Moncloa tiene menor cantidad en los primeros meses. Centro tiene una distribución mas uniforme en todos los meses excepto en marzo que hubo una reducción en los todos los distritos analizados. Chamberi, por otro lado tiene menores accidentes en los meses que presentan los picos como lo son junio y septiembre, pero la mayoria de sus incidentes se producen en julio y octubre. De los casos con lluvia vemos que retiro es mas afectado en la primera mitad del año mientras que Chamberi y Moncloa al final del año. "
   ]
  },
  {
   "cell_type": "code",
   "execution_count": null,
   "metadata": {},
   "outputs": [],
   "source": [
    "tmp = acc[(acc.distrito == 'CENTRO') | (acc.distrito == 'RETIRO') | (acc.distrito == 'CHAMBERI') \n",
    "           | (acc.distrito == 'MONCLOA-ARAVACA') | (acc.distrito == 'SALAMANCA')]\n",
    "\n",
    "g = sns.catplot(x=\"mes\", y='distrito', col=\"lluvia\",\n",
    "                 data=tmp, kind=\"swarm\")\n",
    "\n"
   ]
  },
  {
   "cell_type": "markdown",
   "metadata": {},
   "source": [
    "Para analizar como evoluciona el numero de victimas en el año, hacemos una grafica linear que mide el numero de victimas por mes. En el primer trimestre del año, la variable presenta una tendencia negativa. Las cifras van cayendo de enero a febrero y de febrero a marzo. Luego, en el segundo trimestre suben pasando de 40 victimas en marzo a alrededor de 95 en junio. En el tercer trimestre, las cifras caen levemente en julio y mas pronunciado en agosto, para luego subir a valores maximos en spetiembre. En el ultimo trimestre se presenta una caida constante y pronunciada llegando en diciembre a los valores minimos. "
   ]
  },
  {
   "cell_type": "code",
   "execution_count": null,
   "metadata": {},
   "outputs": [],
   "source": [
    "g = sns.lineplot(x=\"mes\", y='victimas', estimator ='sum', data=acc)\n",
    "\n",
    "plt.title('Numero de victimas por mes')\n",
    "plt.xlabel('Mes')\n",
    "plt.ylabel(\"Cantidad de victimas\")\n",
    "plt.show()"
   ]
  },
  {
   "cell_type": "markdown",
   "metadata": {},
   "source": [
    "De la siguiente grafica podemos concluir que la gran mayoria de accidentes que se presentan son de lesividad `Herida Leve`. Los accidentes con implicaciones de `Herida Grave` no son frecuentes aunque se dan en mayor proporción en los hombres, al igual que todos los accidentes en general."
   ]
  },
  {
   "cell_type": "code",
   "execution_count": null,
   "metadata": {},
   "outputs": [],
   "source": [
    "g = sns.countplot(x=\"lesividad\", data=acc[acc.sexo != 'NO ASIGNADO'], hue='sexo', order = o4)\n",
    "\n",
    "plt.title('Tipo de lesion por sexo')\n",
    "plt.xlabel('Lesividad')\n",
    "plt.ylabel(\"Cantidad\")\n",
    "plt.show()"
   ]
  },
  {
   "cell_type": "markdown",
   "metadata": {},
   "source": [
    "Analizando la lesividad, con respecto a los dias de la semana vemos que los dias viernes y sabado ocurren una mayor proporción de accidentes de `Herida Grave`, mientras que lunes y martes ocurren una mayor proporción de `Ilesos`."
   ]
  },
  {
   "cell_type": "code",
   "execution_count": null,
   "metadata": {},
   "outputs": [],
   "source": [
    "g = sns.countplot(x=\"dia_semana\", data=acc , hue='lesividad', order = o1)\n",
    "\n",
    "plt.title('Tipo de lesividad por dia de la semana')\n",
    "plt.xlabel('Dia de la semana')\n",
    "plt.ylabel(\"Cantidad\")\n",
    "plt.show()"
   ]
  },
  {
   "cell_type": "markdown",
   "metadata": {},
   "source": [
    "Como mencionamos previamente, la mayoria de los accidentes afectan solo a una victima. El grafico de violin comprueba que hay pocas observaciones con dos victimas y unicamente en martes, viernes y sabado hay observaciones de accidentes de 3 victimas. "
   ]
  },
  {
   "cell_type": "code",
   "execution_count": null,
   "metadata": {},
   "outputs": [],
   "source": [
    "g = sns.violinplot(x='dia_semana', y='victimas', data=acc, order = o1)\n",
    "\n",
    "plt.title('Numero de victimas por dia de la semana')\n",
    "plt.xlabel('Dia de la semana')\n",
    "plt.ylabel(\"Numero de victimas\")\n",
    "plt.show()"
   ]
  },
  {
   "cell_type": "markdown",
   "metadata": {},
   "source": [
    "Pintaremos en un mapa las ubicaciones de los accidentes de los que se pudieron recuperar las direcciones. Esto nos puede ayudar a determinar si hay zonas de mayor peligro que puedan requerir con mayor prioridad la construcción de ciclo carriles u otras estrategias. Utilizaremos en el mapa una indexación con colores que nos muestren el tipo de lesión del accidente."
   ]
  },
  {
   "cell_type": "code",
   "execution_count": 3,
   "metadata": {},
   "outputs": [],
   "source": [
    "import folium\n",
    "from folium import plugins\n",
    "from folium.plugins import HeatMap"
   ]
  },
  {
   "cell_type": "code",
   "execution_count": null,
   "metadata": {},
   "outputs": [],
   "source": [
    "m = folium.Map(\n",
    "    location=[40.4253, -3.7042],\n",
    "    tiles='OpenStreetMap',\n",
    "    zoom_start=11\n",
    ")\n",
    "\n",
    "for x, i in acc.iterrows():\n",
    "    \n",
    "    if i.lesividad == 'HG':\n",
    "        color = 'red'\n",
    "    elif i.lesividad == 'HL':\n",
    "        color = 'orange'\n",
    "    else:\n",
    "        color = 'green'\n",
    "    \n",
    "    try: \n",
    "        folium.Marker([i.latitud, i.longitud], \n",
    "                      popup='Numero de victimas: ' + str(i.victimas), \n",
    "                      icon=folium.Icon(color=color)).add_to(m)\n",
    "    except:\n",
    "        None\n",
    "m"
   ]
  },
  {
   "cell_type": "markdown",
   "metadata": {},
   "source": [
    "Para poder interpretar la información de forma mas practica utilizamos mapas de calor, que toman como input una lista de listas por lo cual debemos transformar la estructura de la tabla. En la definición de la nueva estructura podemos aplicar filtros al data frame para realizar comparaciones o analisis detallado de las variables determinadas.\n"
   ]
  },
  {
   "cell_type": "code",
   "execution_count": null,
   "metadata": {},
   "outputs": [],
   "source": [
    "heat_df = acc[acc['mes']==9] \n",
    "heat_df = heat_df[['latitud', 'longitud']]\n",
    "heat_df = heat_df.dropna(axis=0, subset=['latitud','longitud'])\n",
    "heat_data = [[row['latitud'],row['longitud']] for index, row in heat_df.iterrows()]\n",
    "\n",
    "map_hooray = folium.Map(location=[40.4253, -3.7042],\n",
    "                    zoom_start = 11) \n",
    "\n",
    "HeatMap(heat_data).add_to(map_hooray)\n",
    "\n",
    "map_hooray"
   ]
  },
  {
   "cell_type": "code",
   "execution_count": null,
   "metadata": {},
   "outputs": [],
   "source": [
    "heat_df = acc[acc['horain']=='19:00'] \n",
    "heat_df = heat_df[['latitud', 'longitud']]\n",
    "heat_df = heat_df.dropna(axis=0, subset=['latitud','longitud'])\n",
    "heat_data = [[row['latitud'],row['longitud']] for index, row in heat_df.iterrows()]\n",
    "\n",
    "map_hooray = folium.Map(location=[40.4253, -3.7042],\n",
    "                    zoom_start = 11) \n",
    "\n",
    "HeatMap(heat_data).add_to(map_hooray)\n",
    "\n",
    "map_hooray"
   ]
  },
  {
   "cell_type": "markdown",
   "metadata": {},
   "source": [
    "Construimos un mapa de calor estructurando la información en una serie de tiempo para pintar los accidentes en el mapa de forma secuencial, basado en el mes en el que se dio el accidente. "
   ]
  },
  {
   "cell_type": "code",
   "execution_count": 7,
   "metadata": {},
   "outputs": [
    {
     "name": "stderr",
     "output_type": "stream",
     "text": [
      "C:\\Users\\alejo\\Anaconda3\\lib\\site-packages\\ipykernel_launcher.py:7: SettingWithCopyWarning: \n",
      "A value is trying to be set on a copy of a slice from a DataFrame.\n",
      "Try using .loc[row_indexer,col_indexer] = value instead\n",
      "\n",
      "See the caveats in the documentation: http://pandas.pydata.org/pandas-docs/stable/indexing.html#indexing-view-versus-copy\n",
      "  import sys\n",
      "C:\\Users\\alejo\\Anaconda3\\lib\\site-packages\\ipykernel_launcher.py:8: SettingWithCopyWarning: \n",
      "A value is trying to be set on a copy of a slice from a DataFrame.\n",
      "Try using .loc[row_indexer,col_indexer] = value instead\n",
      "\n",
      "See the caveats in the documentation: http://pandas.pydata.org/pandas-docs/stable/indexing.html#indexing-view-versus-copy\n",
      "  \n"
     ]
    },
    {
     "data": {
      "text/html": [
       "<div style=\"width:100%;\"><div style=\"position:relative;width:100%;height:0;padding-bottom:60%;\"><iframe src=\"data:text/html;charset=utf-8;base64,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\" style=\"position:absolute;width:100%;height:100%;left:0;top:0;border:none !important;\" allowfullscreen webkitallowfullscreen mozallowfullscreen></iframe></div></div>"
      ],
      "text/plain": [
       "<folium.folium.Map at 0x26038f92550>"
      ]
     },
     "execution_count": 7,
     "metadata": {},
     "output_type": "execute_result"
    }
   ],
   "source": [
    "map_hooray = folium.Map(location=[40.416, -3.7042],\n",
    "                    zoom_start = 12) \n",
    "\n",
    "heat_df = acc\n",
    "heat_df = heat_df[['latitud', 'longitud']]\n",
    "\n",
    "heat_df['peso'] = acc['fecha'].str[5:7]\n",
    "heat_df['peso'] = heat_df['peso'].astype(float)\n",
    "heat_df = heat_df.dropna(axis=0, subset=['latitud','longitud', 'peso'])\n",
    "\n",
    "\n",
    "heat_data = [[[row['latitud'],row['longitud']] for index, row in heat_df[heat_df['peso'] == i].iterrows()] for i in range(0,13)]\n",
    "\n",
    "hm = plugins.HeatMapWithTime(heat_data,auto_play=False,max_opacity=0.8)\n",
    "hm.add_to(map_hooray)\n",
    "\n",
    "map_hooray"
   ]
  },
  {
   "cell_type": "markdown",
   "metadata": {},
   "source": [
    "### Series de Tiempo\n",
    "\n",
    "Con Pandas podemos convertir las tablas en series de tiempo. Esto se puede lograr asignandole al indice una columna de fecha. De esta forma, podemos agregar o desagregar la información segun la periodicidad deseada. "
   ]
  },
  {
   "cell_type": "code",
   "execution_count": null,
   "metadata": {},
   "outputs": [],
   "source": [
    "accT = acc.set_index(acc.fecha)"
   ]
  },
  {
   "cell_type": "markdown",
   "metadata": {},
   "source": [
    "Esto nos permite realizar filtros por fechas o rangos de fechas."
   ]
  },
  {
   "cell_type": "code",
   "execution_count": null,
   "metadata": {},
   "outputs": [],
   "source": [
    "accT.loc['2018-01-01 10:00' : '2018-01-07 23:59'].head()"
   ]
  },
  {
   "cell_type": "markdown",
   "metadata": {},
   "source": [
    "Adicionalmente podemos crear nuevas tablas agregando por la periodicidad deseada y escogiendo una función de agregación como suma, promedio, mediana, maximo, minimo, etc."
   ]
  },
  {
   "cell_type": "markdown",
   "metadata": {},
   "source": [
    "En este caso, generamos una tabla con una periodicidad diaria, agregando contando los resultados."
   ]
  },
  {
   "cell_type": "code",
   "execution_count": null,
   "metadata": {},
   "outputs": [],
   "source": [
    "acc_dia = accT.resample('D').count()"
   ]
  },
  {
   "cell_type": "markdown",
   "metadata": {},
   "source": [
    "Para poder construir graficas con la variabe de fecha, sobreescribimos la columna fecha con los valores del indice. "
   ]
  },
  {
   "cell_type": "code",
   "execution_count": null,
   "metadata": {},
   "outputs": [],
   "source": [
    "acc_dia.fecha = acc_dia.index\n",
    "acc_dia.head()"
   ]
  },
  {
   "cell_type": "markdown",
   "metadata": {},
   "source": [
    "Otro escenario construido, fue agregando con una periodicidad mensual con base en la mediana. Esta formula conserva unicamente variables numericas. Nos permite ver la mediana de la edad en cada mes del año."
   ]
  },
  {
   "cell_type": "code",
   "execution_count": null,
   "metadata": {},
   "outputs": [],
   "source": [
    "acc_mes = accT.resample('M').median()"
   ]
  },
  {
   "cell_type": "code",
   "execution_count": null,
   "metadata": {},
   "outputs": [],
   "source": [
    "acc_mes['fecha1'] = acc_mes.index\n",
    "acc_mes.head()"
   ]
  },
  {
   "cell_type": "markdown",
   "metadata": {},
   "source": [
    "Podemos visualizar esta información con una grafica de linea. De la cual, podemos concluir que en abril es excepcionalmente bajo, llegando a los 25 años. Mientras que, la mayoria de los meses oscila entre 30 y 35 años."
   ]
  },
  {
   "cell_type": "code",
   "execution_count": null,
   "metadata": {},
   "outputs": [],
   "source": [
    "g = sns.lineplot(x='fecha1', y='edad', estimator ='sum',\n",
    "                 data=acc_mes)\n",
    "\n",
    "plt.title('Mediana de la edad por fecha')\n",
    "plt.xlabel('Fecha')\n",
    "plt.ylabel(\"Edad\")\n",
    "plt.show()"
   ]
  },
  {
   "cell_type": "markdown",
   "metadata": {},
   "source": [
    "Por ultimo, hacemos una tabla de periodicidad mensual, sumando los valores."
   ]
  },
  {
   "cell_type": "code",
   "execution_count": null,
   "metadata": {},
   "outputs": [],
   "source": [
    "acc_mes_sum = accT.resample('M').sum()"
   ]
  },
  {
   "cell_type": "markdown",
   "metadata": {},
   "source": [
    "Al estar el mes en un formato numerico, se han sumado las observaciones por mes, por lo cual redefinimos los valores de la columna."
   ]
  },
  {
   "cell_type": "code",
   "execution_count": null,
   "metadata": {},
   "outputs": [],
   "source": [
    "acc_mes_sum['fecha1'] = acc_mes_sum.index\n",
    "acc_mes_sum['mes'] = ['Enero', 'Febrero', 'Marzo', 'Abril', 'Mayo', 'Junio', 'Julio', 'Agosto', 'Septiembre', 'Octubre', 'Noviembre', 'Diciembre']\n",
    "acc_mes_sum.head()"
   ]
  },
  {
   "cell_type": "markdown",
   "metadata": {},
   "source": [
    "Para visualizar los resultados, utilizamos una grafica de barras para medir los meses donde hay mas victimas. Siendo la mediana del numero de victimas 1 y el promedio 1.10, vemos que el numero de victimas se comporta de forma similar a la cantidad de accidentes. Podemos concluir que junio y septiembre son los meses donde hay mas victimas. Diciembre y marzo, son los meses donde menos victimas hay. "
   ]
  },
  {
   "cell_type": "code",
   "execution_count": null,
   "metadata": {},
   "outputs": [],
   "source": [
    "g = sns.barplot(x='mes', y='victimas', palette = 'Set1', saturation=0.75,\n",
    "                data=acc_mes_sum)\n",
    "\n",
    "plt.title('Numero de victimas por mes')\n",
    "plt.xlabel('Mes')\n",
    "plt.ylabel(\"Numero de victimas\")\n",
    "plt.show()"
   ]
  },
  {
   "cell_type": "markdown",
   "metadata": {},
   "source": [
    "### Exportamos los Archivos y Juntamos las Tablas\n",
    "\n",
    "Al haber finalizado la limpieza y el analisis del archivo podemos exportar la version final a un archivo de CSV. Adicionalmente, podemos aplicar el mismo tratamiento a los archivos de 2016 y 2017 y juntarlos en un solo archivo."
   ]
  },
  {
   "cell_type": "markdown",
   "metadata": {},
   "source": [
    "    Guardamos el archivo de 2018."
   ]
  },
  {
   "cell_type": "code",
   "execution_count": null,
   "metadata": {},
   "outputs": [],
   "source": [
    "acc.to_csv('../dat/accidentes2018')"
   ]
  },
  {
   "cell_type": "markdown",
   "metadata": {},
   "source": [
    "Aplicamos el tratamiento al archivo del 2017."
   ]
  },
  {
   "cell_type": "code",
   "execution_count": null,
   "metadata": {},
   "outputs": [],
   "source": [
    "acc2017 = pd.read_csv(\"../dat/AccidentesBicicletas_2017.csv\", index_col=False, encoding = \"ISO-8859-1\", sep=';')"
   ]
  },
  {
   "cell_type": "code",
   "execution_count": null,
   "metadata": {},
   "outputs": [],
   "source": [
    "acc2017 = acc2017.drop(['Nº PARTE', 'CPFA Granizo', 'CPFA Hielo',\n",
    "       'CPFA Niebla', 'CPFA Seco', 'CPFA Nieve', 'CPSV Aceite',\n",
    "       'CPSV Barro', 'CPSV Grava Suelta', 'CPSV Hielo', 'CPSV Seca Y Limpia', 'Tipo Vehiculo', 'TIPO PERSONA'], 1)\n",
    "\n",
    "acc2017.columns = etiquetas\n",
    "#Al tener la ultima fila solo valores inexistentes debemos eliminarla para poder aplicar la limpieza de datos\n",
    "acc2017 = acc2017.iloc[:756, :]\n",
    "acc2017['horain'] = acc2017.apply(extrae_hora, axis = 1)\n",
    "acc2017['fecha'] = acc2017.fecha + ' ' + acc2017.horain\n",
    "acc2017.fecha = acc2017.fecha.apply(parse_fecha)\n",
    "acc2017['edad'] = acc2017.apply(extrae_edad, axis = 1)\n",
    "acc2017['edad'] = pd.to_numeric(acc2017['edad'], errors='coerce')\n",
    "acc2017['mes'] = acc2017.apply(lambda fila: fila.fecha.month, axis=1)\n",
    "acc2017['direccion'] = acc2017.apply(extrae_calle, axis = 1)\n",
    "acc2017 = acc2017.apply(lambda fila: fila.str.strip() if fila.dtype == 'object' else fila)\n",
    "acc2017['numero'] = pd.to_numeric(acc2017['numero'], errors='coerce')\n",
    "acc2017['direccion'] = acc2017.apply(suma_num, axis = 1)"
   ]
  },
  {
   "cell_type": "code",
   "execution_count": null,
   "metadata": {},
   "outputs": [],
   "source": [
    "acc2017['latitud'] = [latitud(i) for i in acc2017.direccion]"
   ]
  },
  {
   "cell_type": "code",
   "execution_count": null,
   "metadata": {},
   "outputs": [],
   "source": [
    "acc2017['longitud'] = [longitud(i) for i in acc2017.direccion]"
   ]
  },
  {
   "cell_type": "code",
   "execution_count": null,
   "metadata": {},
   "outputs": [],
   "source": [
    "acc2017.lluvia = acc2017.lluvia.astype('category')\n",
    "acc2017.mojado = acc2017.mojado.astype('category')\n",
    "acc2017['victimas'] = pd.to_numeric(acc2017['victimas'], errors='coerce', downcast='integer')"
   ]
  },
  {
   "cell_type": "code",
   "execution_count": null,
   "metadata": {},
   "outputs": [],
   "source": [
    "acc2017 = acc2017.drop(['rango_hora', 'rango_edad', 'lugar', 'numero'], 1)"
   ]
  },
  {
   "cell_type": "markdown",
   "metadata": {},
   "source": [
    "    Guardamos el archivo de 2017."
   ]
  },
  {
   "cell_type": "code",
   "execution_count": null,
   "metadata": {},
   "outputs": [],
   "source": [
    "acc2017.to_csv('../dat/accidentes2017')"
   ]
  },
  {
   "cell_type": "markdown",
   "metadata": {},
   "source": [
    "Aplicamos el tratamiento al archivo del 2016."
   ]
  },
  {
   "cell_type": "code",
   "execution_count": null,
   "metadata": {},
   "outputs": [],
   "source": [
    "acc2016 = pd.read_csv(\"../dat/AccidentesBicicletas_2016.csv\", index_col=False, encoding = \"ISO-8859-1\", sep=';')"
   ]
  },
  {
   "cell_type": "code",
   "execution_count": null,
   "metadata": {},
   "outputs": [],
   "source": [
    "acc2016 = acc2016.drop(['Nº PARTE', 'CPFA Granizo', 'CPFA Hielo',\n",
    "       'CPFA Niebla', 'CPFA Seco', 'CPFA Nieve', 'CPSV Aceite',\n",
    "       'CPSV Barro', 'CPSV Grava Suelta', 'CPSV Hielo', 'CPSV Seca Y Limpia', 'Tipo Vehiculo', 'TIPO PERSONA'], 1)\n",
    "\n",
    "acc2016.columns = etiquetas\n",
    "#Al tener la ultima fila solo valores inexistentes debemos eliminarla para poder aplicar la limpieza de datos\n",
    "acc2016 = acc2016.iloc[:757, :]\n",
    "acc2016['horain'] = acc2016.apply(extrae_hora, axis = 1)\n",
    "acc2016['fecha'] = acc2016.fecha + ' ' + acc2016.horain\n",
    "acc2016.fecha = acc2016.fecha.apply(parse_fecha)\n",
    "acc2016['edad'] = acc2016.apply(extrae_edad, axis = 1)\n",
    "acc2016['edad'] = pd.to_numeric(acc2016['edad'], errors='coerce')\n",
    "acc2016['mes'] = acc2016.apply(lambda fila: fila.fecha.month, axis=1)\n",
    "acc2016['direccion'] = acc2016.apply(extrae_calle, axis = 1)\n",
    "acc2016 = acc2016.apply(lambda fila: fila.str.strip() if fila.dtype == 'object' else fila)\n",
    "acc2016['numero'] = pd.to_numeric(acc2016['numero'], errors='coerce')\n",
    "acc2016['direccion'] = acc2016.apply(suma_num, axis = 1)"
   ]
  },
  {
   "cell_type": "code",
   "execution_count": null,
   "metadata": {},
   "outputs": [],
   "source": [
    "acc2016['latitud'] = [latitud(i) for i in acc2016.direccion]"
   ]
  },
  {
   "cell_type": "code",
   "execution_count": null,
   "metadata": {},
   "outputs": [],
   "source": [
    "acc2016['longitud'] = [longitud(i) for i in acc2016.direccion]"
   ]
  },
  {
   "cell_type": "code",
   "execution_count": null,
   "metadata": {},
   "outputs": [],
   "source": [
    "acc2016.lluvia = acc2016.lluvia.astype('category')\n",
    "acc2016.mojado = acc2016.mojado.astype('category')\n",
    "acc2016['victimas'] = pd.to_numeric(acc2016['victimas'], errors='coerce', downcast='integer')"
   ]
  },
  {
   "cell_type": "code",
   "execution_count": null,
   "metadata": {},
   "outputs": [],
   "source": [
    "acc2016 = acc2016.drop(['rango_hora', 'rango_edad', 'lugar', 'numero'], 1)"
   ]
  },
  {
   "cell_type": "markdown",
   "metadata": {},
   "source": [
    "    Guardamos el archivo de 2016."
   ]
  },
  {
   "cell_type": "code",
   "execution_count": null,
   "metadata": {},
   "outputs": [],
   "source": [
    "acc2016.to_csv('../dat/accidentes2016')"
   ]
  },
  {
   "cell_type": "markdown",
   "metadata": {},
   "source": [
    "Realizamos varios `Append` para juntar los tres archivos."
   ]
  },
  {
   "cell_type": "code",
   "execution_count": null,
   "metadata": {},
   "outputs": [],
   "source": [
    "acctmp = acc2016.append(acc2017)\n",
    "accfinal = acctmp.append(acc)"
   ]
  },
  {
   "cell_type": "markdown",
   "metadata": {},
   "source": [
    "    Guardamos el archivo agrupado."
   ]
  },
  {
   "cell_type": "code",
   "execution_count": null,
   "metadata": {},
   "outputs": [],
   "source": [
    "accfinal.to_csv('../dat/all_accidents')"
   ]
  }
 ],
 "metadata": {
  "kernelspec": {
   "display_name": "Python 3",
   "language": "python",
   "name": "python3"
  },
  "language_info": {
   "codemirror_mode": {
    "name": "ipython",
    "version": 3
   },
   "file_extension": ".py",
   "mimetype": "text/x-python",
   "name": "python",
   "nbconvert_exporter": "python",
   "pygments_lexer": "ipython3",
   "version": "3.6.7"
  }
 },
 "nbformat": 4,
 "nbformat_minor": 2
}
