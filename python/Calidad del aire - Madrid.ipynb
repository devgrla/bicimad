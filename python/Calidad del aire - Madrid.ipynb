{
 "cells": [
  {
   "cell_type": "markdown",
   "metadata": {},
   "source": [
    "## Contaminación del aire Madrid.\n",
    "\n",
    "Queremos trabajar sobre estos datos para ver después como afecta la contaminación (si es que afecta) en el uso de las bicicletas. Para esto necesitamos hacer el trabajo previo de la limpieza y transformación de estos datos. Nos vamos a centrar solamente en algunas estaciones.\n",
    "\n",
    "Los valores que importan son los siguientes:\n",
    "\n",
    "The AQI level is based on the level of six atmospheric pollutants, namely sulfur dioxide (SO2), nitrogen dioxide (NO2), suspended particulates smaller than 10 μm in aerodynamic diameter (PM10)suspended particulates smaller than 2.5 μm in aerodynamic diameter (PM2.5)，carbon monoxide (CO), and ozone (O3) measured at the monitoring stations throughout each city\n",
    "\n",
    "Los códigos del excel de datos son los siguientes:\n",
    "\n",
    "* 09 - PM 2.5\n",
    "* 10 - PM10\n",
    "* 14 - Ozono O3\n",
    "* 08 - Dioxido de nitrogeno NO2\n",
    "* 01 - Dioxido de Azufre SO2\n",
    "* 06 - Monoxido de carbono CO\n",
    "\n",
    "**Códigos de estaciones:**\n",
    "\n",
    "Más céntricas\n",
    "* Retiro: 49\n",
    "* Plaza del carmen: 35\n",
    "* Castellana: 48\n",
    "\n",
    "En zonas mas alejadas está:\n",
    "* El pardo: 58\n",
    "* Casa de campo: 24\n",
    "\n",
    "\n",
    "**SOLO SON VALIDOS LOS VALORES QUE TIENEN UNA V**\n",
    "\n",
    "Tomamos valores del 2015 al 2018"
   ]
  },
  {
   "cell_type": "markdown",
   "metadata": {},
   "source": [
    "Importamos librerías que vamos a utilizar"
   ]
  },
  {
   "cell_type": "code",
   "execution_count": null,
   "metadata": {},
   "outputs": [],
   "source": [
    "import pandas as pd\n",
    "from datetime import date, datetime, timedelta\n",
    "import re\n",
    "import numpy as np"
   ]
  },
  {
   "cell_type": "markdown",
   "metadata": {},
   "source": [
    "Importamos los datos por año que previamente descargamos de la página de datos abiertos de Madrid para el periodo 2015-2018."
   ]
  },
  {
   "cell_type": "code",
   "execution_count": null,
   "metadata": {},
   "outputs": [],
   "source": [
    "data2018 = pd.read_excel('../dat/calidadaire2018.xlsx')\n",
    "data2017 = pd.read_excel('../dat/calidadaire2017.xlsx') \n",
    "data2016 = pd.read_excel('../dat/calidadaire2016.xlsx') \n",
    "data2015 = pd.read_excel('../dat/calidadaire2015.xlsx') \n",
    "frames = [data2018, data2017, data2016, data2015]\n",
    "\n",
    "data = pd.concat(frames)"
   ]
  },
  {
   "cell_type": "markdown",
   "metadata": {},
   "source": [
    "Los datos tienen esta estructura. Los días son las columnas pero también están relacionados con otra columna que identifica si es un valor válido o no."
   ]
  },
  {
   "cell_type": "code",
   "execution_count": null,
   "metadata": {},
   "outputs": [],
   "source": [
    "data.head()"
   ]
  },
  {
   "cell_type": "markdown",
   "metadata": {},
   "source": [
    "Elimino las columns que ya se que no sirven."
   ]
  },
  {
   "cell_type": "code",
   "execution_count": null,
   "metadata": {},
   "outputs": [],
   "source": [
    "del data['PROVINCIA']\n",
    "del data['MUNICIPIO']\n",
    "del data['PUNTO_MUESTREO']"
   ]
  },
  {
   "cell_type": "markdown",
   "metadata": {},
   "source": [
    "## Filtro estaciones y magnitudes de mi interés\n",
    "\n",
    "Solo quiero quedarme con una parte de la información. Las magnitudes más importantes y un conjunto de estaciones que representen medidas céntricas de Madrid y de las zonas fueras del centro."
   ]
  },
  {
   "cell_type": "code",
   "execution_count": null,
   "metadata": {},
   "outputs": [],
   "source": [
    "estaciones_utilizar = [24,35,48,49,58] #Códigos de las estaciones descritos al inicio del documento\n",
    "magnitudes_interes = [1,6,8,9,10,14] #Códigos de las magnitudes importantes, descritas al inicio del documento\n",
    "data_copy = data.copy()\n",
    "data_copy = data_copy[data_copy.ESTACION.isin(estaciones_utilizar)]\n",
    "data_copy = data_copy[data_copy.MAGNITUD.isin(magnitudes_interes)]"
   ]
  },
  {
   "cell_type": "markdown",
   "metadata": {},
   "source": [
    "### Convierto datos a formato largo\n",
    "\n",
    "Asi me quedan los dias y los valores como filas"
   ]
  },
  {
   "cell_type": "code",
   "execution_count": null,
   "metadata": {},
   "outputs": [],
   "source": [
    "data_formatted = pd.melt(data_copy, id_vars =['ESTACION', 'MAGNITUD', 'ANO', 'MES'])\n",
    "data_formatted.head()"
   ]
  },
  {
   "cell_type": "markdown",
   "metadata": {},
   "source": [
    "### Transformación de datos\n",
    "\n",
    "Necesitaría crearme una columna con la fecha, ya que tengo mes, año y día por separado. Antes necesito limpiar el día ya que tiene una D o una V delante.\n",
    "\n",
    "Luego voy a separar el dataframe según V o D y voy a cruzarlo por la columna fecha creada.\n",
    "\n",
    "**Fechas con error**\n",
    "\n",
    "Las fechas que dan error cuando se quieren castear a tipo datetime (porque no existen. ej: 30/02) las pongo como 1/1/1900 (porque ya se que no existen) para después borrarlas."
   ]
  },
  {
   "cell_type": "code",
   "execution_count": null,
   "metadata": {},
   "outputs": [],
   "source": [
    "def get_date_from_columns(row):\n",
    "    try:\n",
    "        year = row.ANO\n",
    "        month = row.MES\n",
    "        day = int(re.findall('[0-9]+', row.variable)[0])\n",
    "        return datetime(year, month, day)\n",
    "    except:\n",
    "        #DA ERROR EN DIAS QUE NO EXISTEN. Los voy a borrar despues\n",
    "        return datetime(1900,1,1)\n",
    "\n",
    "def convert_to_letter(variable):\n",
    "    return re.findall('[A-Z]+',variable)[0]\n",
    "\n",
    "data_formatted['date'] = data_formatted.apply(get_date_from_columns, axis=1)\n",
    "data_formatted['variable'] = data_formatted.variable.apply(convert_to_letter)\n",
    "\n",
    "#Elimino las fechas que están mal-\n",
    "data_formatted = data_formatted[data_formatted.date != date(1900,1,1)]"
   ]
  },
  {
   "cell_type": "code",
   "execution_count": null,
   "metadata": {},
   "outputs": [],
   "source": [
    "data_formatted.head(1)"
   ]
  },
  {
   "cell_type": "markdown",
   "metadata": {},
   "source": [
    "### Separo dataframe y lo cruzo por fecha, magnitud y estación\n",
    "\n",
    "Separo el dataframe según el tipo D o V y lo cruzo para saber que días tienen valores válidos y cuales no. Elimino los que no son válidos. Filtro por aquellos con valor 'V'"
   ]
  },
  {
   "cell_type": "code",
   "execution_count": null,
   "metadata": {},
   "outputs": [],
   "source": [
    "data_formatted_D = data_formatted[data_formatted.variable == 'D'].sort_values(['ESTACION','MES', 'MAGNITUD'])\n",
    "data_formatted_V = data_formatted[data_formatted.variable == 'V'].sort_values(['ESTACION','MES', 'MAGNITUD'])\n",
    "\n",
    "#Cruzo dataframes que separé\n",
    "data_formatted = data_formatted_D.merge(data_formatted_V, on=['date','MAGNITUD', 'ESTACION'])\n",
    "\n",
    "#Filtro por aquellos días que tengan la V y elimino los que tienen la 'N' de no válido\n",
    "data_formatted = data_formatted[data_formatted.value_y == 'V']"
   ]
  },
  {
   "cell_type": "markdown",
   "metadata": {},
   "source": [
    "### Transformación de columnas\n",
    "\n",
    "Elimino columnas que no me sirven y cambio nombres para que sean mas descriptivos"
   ]
  },
  {
   "cell_type": "code",
   "execution_count": null,
   "metadata": {},
   "outputs": [],
   "source": [
    "#Borro columnas que no me interesan.\n",
    "del(data_formatted['variable_y'])\n",
    "del(data_formatted['value_y'])\n",
    "del(data_formatted['MES_y'])\n",
    "del(data_formatted['ANO_y'])\n",
    "del(data_formatted['variable_x'])\n",
    "\n",
    "#Cambio nombre de las columnas y converto medicion a numero.\n",
    "data_formatted.columns = ['estacion', 'magnitud', 'ano', 'mes', 'medicion','fecha']\n",
    "data_formatted[\"medicion\"] = pd.to_numeric(data_formatted[\"medicion\"])\n",
    "\n",
    "data_bd = data_formatted.copy() #Lo guardo para después"
   ]
  },
  {
   "cell_type": "markdown",
   "metadata": {},
   "source": [
    "La tabla resultado se ve a continuación."
   ]
  },
  {
   "cell_type": "code",
   "execution_count": null,
   "metadata": {},
   "outputs": [],
   "source": [
    "data_formatted.head()"
   ]
  },
  {
   "cell_type": "markdown",
   "metadata": {},
   "source": [
    "## Reemplazo magnitudes y estaciones por su nombre\n",
    "\n",
    "Las magnitudes y las estaciones están identificadas por un número. Para saber a qué corresponden les cambio los números por su valor correspondiente"
   ]
  },
  {
   "cell_type": "code",
   "execution_count": null,
   "metadata": {},
   "outputs": [],
   "source": [
    "def get_magnitud_name(value):\n",
    "    if value == 1:\n",
    "        return 'Dioxido de Azufre SO2'\n",
    "    elif value == 6:\n",
    "        return 'Monoxido de carbono CO'\n",
    "    elif value == 8:\n",
    "        return 'Dioxido de nitrogeno NO2'\n",
    "    elif value == 9:\n",
    "        return 'PM 2.5'\n",
    "    elif value == 10:\n",
    "        return 'PM10'\n",
    "    elif value == 14:\n",
    "        return 'Ozono O3'\n",
    "\n",
    "def get_station_name(value):\n",
    "    if value == 49:\n",
    "        return 'Retiro'\n",
    "    elif value == 35:\n",
    "        return 'Plaza del carmen'\n",
    "    elif value == 48:\n",
    "        return 'Castellana'\n",
    "    elif value == 58:\n",
    "        return 'El Pardo'\n",
    "    elif value == 24:\n",
    "        return 'Casa de campo'\n",
    "            \n",
    "data_formatted['magnitud'] = data_formatted.magnitud.apply(get_magnitud_name)\n",
    "data_formatted['estacion'] = data_formatted.estacion.apply(get_station_name)"
   ]
  },
  {
   "cell_type": "markdown",
   "metadata": {},
   "source": [
    "## Visualización de datos\n",
    "\n",
    "Importo librerias para gráficos"
   ]
  },
  {
   "cell_type": "code",
   "execution_count": null,
   "metadata": {},
   "outputs": [],
   "source": [
    "import seaborn as sns\n",
    "import matplotlib.pyplot as plt"
   ]
  },
  {
   "cell_type": "code",
   "execution_count": null,
   "metadata": {},
   "outputs": [],
   "source": [
    "from matplotlib import rcParams\n",
    "rcParams['figure.figsize'] = 14, 10\n",
    "sns.set_context('paper', font_scale=1.5, rc={\"lines.linewidth\": 2.5})\n",
    "sns.despine()\n",
    "sns.set_style(\"dark\")"
   ]
  },
  {
   "cell_type": "markdown",
   "metadata": {},
   "source": [
    "**Valores máximos para cada magnitud por año**.\n",
    "\n",
    "Quiero ver para hacerme la idea, cuales son los valores máximos de todas las magnitudes cada año."
   ]
  },
  {
   "cell_type": "code",
   "execution_count": null,
   "metadata": {},
   "outputs": [],
   "source": [
    "data_tmp = data_formatted.copy()\n",
    "valores_max = data_tmp.groupby(['magnitud', 'ano']).medicion.max()\n",
    "data_tmp = pd.DataFrame(valores_max).reset_index()\n",
    "\n",
    "\n",
    "plt.xlabel('Año')\n",
    "plt.ylabel('Medición')\n",
    "plt.title('Máximo valor contaminantes por año') \n",
    "out = sns.barplot(x='ano', y ='medicion' , data=data_tmp, hue='magnitud', palette=\"Set3\", ci=0)\n"
   ]
  },
  {
   "cell_type": "markdown",
   "metadata": {},
   "source": [
    "En el gráfico se ve que mas o menos los máximos se mantienen en los últimos 4 años. Estaría bueno ver como ha sido la distribución por ejemplo del Dióxido de nitrógeno (en promedio por mes), que es por el cual se activan los protocolos de contaminación"
   ]
  },
  {
   "cell_type": "code",
   "execution_count": null,
   "metadata": {},
   "outputs": [],
   "source": [
    "data_tmp = data_formatted.copy()\n",
    "data_tmp = data_tmp[data_tmp.magnitud == 'Dioxido de nitrogeno NO2']\n",
    "\n",
    "plt.title('Distribucion Dioxido de nitrogeno NO2 por año') \n",
    "out = sns.distplot(data_tmp[data_tmp.ano == 2018].medicion, hist=False, kde_kws={\"color\": \"k\", \"lw\": 3, \"label\": \"2018\"})\n",
    "out = sns.distplot(data_tmp[data_tmp.ano == 2017].medicion, hist=False, kde_kws={\"color\": \"y\", \"lw\": 3, \"label\": \"2017\"})\n",
    "out = sns.distplot(data_tmp[data_tmp.ano == 2016].medicion, hist=False, kde_kws={\"color\": \"g\", \"lw\": 3, \"label\": \"2016\"})\n",
    "out = sns.distplot(data_tmp[data_tmp.ano == 2015].medicion, hist=False, kde_kws={\"color\": \"m\", \"lw\": 3, \"label\": \"2015\"})"
   ]
  },
  {
   "cell_type": "markdown",
   "metadata": {},
   "source": [
    "Parecería que los niveles han ido mejorando y que en el 2018 los valores se encuentran mas a la izquierda del gráfico.\n",
    "\n",
    "Quiero ver la media mes a mes entre estos años para ver si han existido mejoras."
   ]
  },
  {
   "cell_type": "code",
   "execution_count": null,
   "metadata": {},
   "outputs": [],
   "source": [
    "data_tmp = data_formatted.copy()\n",
    "data_tmp = data_tmp[(data_tmp.magnitud == 'Dioxido de nitrogeno NO2')]\n",
    "out = sns.lineplot(x='mes', y ='medicion' , data=data_tmp, hue='ano', estimator= np.mean, palette=\"Set2\", ci=0)\n",
    "plt.xlabel('Mes')\n",
    "plt.ylabel('Medición')\n",
    "plt.title('Media Dioxido de nitrogeno NO2 por mes 2015 - 2018 ') \n",
    "plt.show()"
   ]
  },
  {
   "cell_type": "markdown",
   "metadata": {},
   "source": [
    "La media del Dióxido de nitrogeno NO2 en el 2018 es más baja en más de la mitad de los meses con respecto a los años anteriores, lo cual supone una mejora en este sentido, determinado mas que nada por la disminución en aquellos meses como noviembre, diciembre y enero donde los niveles son más altos en general."
   ]
  },
  {
   "cell_type": "markdown",
   "metadata": {},
   "source": [
    "### Activación Protocolos de contaminación 2018.\n",
    "\n",
    "En 2018 los protocolos de contaminación se activaron 4 veces por Dióxido de Nitrogeno.\n",
    "\n",
    "* NO2 del 23 al 24 de enero\n",
    "* NO2 del 5 al 7 de diciembre de 2018\n",
    "* NO2 del 11 al 12 de diciembre de 2018\n",
    "* NO2 del 25 al 28 de diciembre de 2018\n",
    "\n",
    "Los valores de esos días para retiro fueron:"
   ]
  },
  {
   "cell_type": "code",
   "execution_count": null,
   "metadata": {},
   "outputs": [],
   "source": [
    "data_tmp = data_formatted.copy()\n",
    "data_tmp = data_tmp[(data_tmp.magnitud == 'Dioxido de nitrogeno NO2') & (data_tmp.estacion == 'Retiro') & \n",
    "         ((data_tmp.fecha == datetime(2018,12,5)) | (data_tmp.fecha == datetime(2018,12,12)) \n",
    "          | (data_tmp.fecha == datetime(2018,12,25))| (data_tmp.fecha == datetime(2018,12,6))\n",
    "         | (data_tmp.fecha == datetime(2018,12,26)) | (data_tmp.fecha == datetime(2018,12,27))\n",
    "         | (data_tmp.fecha == datetime(2018,12,28)) | (data_tmp.fecha == datetime(2018,1,23))\n",
    "         | (data_tmp.fecha == datetime(2018,1,24)) | (data_tmp.fecha == datetime(2018,12,7)))]\n",
    "data_tmp"
   ]
  },
  {
   "cell_type": "markdown",
   "metadata": {},
   "source": [
    "### Qué pasaba esos días en las estaciones fuera del centro?\n",
    "\n",
    "Quiero ver si hay una diferencia significativa en los días que se activa el protocolo entre por ejemplo Retiro y El Pardo, que están relativamente cerca en cuanto a distancia pero son muy distintas en cuanto a densidad de población y tráfico."
   ]
  },
  {
   "cell_type": "code",
   "execution_count": null,
   "metadata": {},
   "outputs": [],
   "source": [
    "data_tmp2 = data_formatted.copy()\n",
    "data_tmp2 = data_tmp2[(data_tmp2.magnitud == 'Dioxido de nitrogeno NO2') & (data_tmp2.estacion == 'El Pardo') & \n",
    "         ((data_tmp2.fecha == datetime(2018,12,5)) | (data_tmp2.fecha == datetime(2018,12,12)) \n",
    "          | (data_tmp2.fecha == datetime(2018,12,25))| (data_tmp2.fecha == datetime(2018,12,6))\n",
    "         | (data_tmp2.fecha == datetime(2018,12,26)) | (data_tmp2.fecha == datetime(2018,12,27))\n",
    "         | (data_tmp2.fecha == datetime(2018,12,28)) | (data_tmp2.fecha == datetime(2018,1,23))\n",
    "         | (data_tmp2.fecha == datetime(2018,1,24)) | (data_tmp2.fecha == datetime(2018,12,7)))]\n",
    "data_tmp2"
   ]
  },
  {
   "cell_type": "code",
   "execution_count": null,
   "metadata": {},
   "outputs": [],
   "source": [
    "out = sns.lineplot(x='fecha', y ='medicion' , data=data_tmp2, palette=\"Set2\", ci=3)\n",
    "out = sns.lineplot(x='fecha', y ='medicion' , data=data_tmp, palette=\"Set1\", ci=10)\n",
    "plt.xlabel('Fecha')\n",
    "plt.ylabel('Medición')\n",
    "plt.title('Mediciones en días de protocolos de contaminación Retiro vs El Pardo') \n",
    "plt.show()"
   ]
  },
  {
   "cell_type": "markdown",
   "metadata": {},
   "source": [
    "Las diferencias son bastante significativas.\n",
    "Si hago el promedio anual entre ambas estaciones veo los siguientes resultados, donde el promedio de retiro es anualmente casi el doble."
   ]
  },
  {
   "cell_type": "code",
   "execution_count": null,
   "metadata": {},
   "outputs": [],
   "source": [
    "data_tmp = data_formatted.copy()\n",
    "data_tmp = data_tmp[(data_tmp.magnitud == 'Dioxido de nitrogeno NO2') & (data_tmp.estacion.isin(['Retiro','El Pardo']))] \n",
    "\n",
    "plt.title('Promedio anual estaciones céntricas y fuera de madrid ') \n",
    "out = sns.barplot(x='ano', y ='medicion' , data=data_tmp, hue='estacion', estimator= np.mean, palette=\"Set2\", ci=0)\n",
    "plt.xlabel('Año')\n",
    "plt.ylabel('Medición')\n",
    "plt.show()"
   ]
  },
  {
   "cell_type": "markdown",
   "metadata": {},
   "source": [
    "## Contaminantes promedio por estación\n",
    "\n",
    "Para ver el comportamiento promedio de los contaminantes según la estación del año, creamos una columna que dada la fecha nos determine la estación del año."
   ]
  },
  {
   "cell_type": "code",
   "execution_count": null,
   "metadata": {},
   "outputs": [],
   "source": [
    "def get_season(row):\n",
    "    date = row.fecha\n",
    "    if date >= datetime(date.year, 3, 21) and date <= datetime(date.year, 6, 20):\n",
    "        return 'Primavera'\n",
    "    elif date >= datetime(date.year, 6, 21) and date <= datetime(date.year, 9 , 20):\n",
    "        return 'Verano'\n",
    "    elif date >= datetime(date.year, 9, 21) and date <= datetime(date.year, 12 , 20):\n",
    "        return 'Otoño'\n",
    "    else:\n",
    "        return 'Invierno'\n",
    "    \n",
    "data_tmp = data_formatted.copy()    \n",
    "data_tmp['estacion_del_año'] = data_tmp.apply(get_season, axis = 1)"
   ]
  },
  {
   "cell_type": "markdown",
   "metadata": {},
   "source": [
    "Vemos en la siguiente gráfica que en zonas céntricas, el dioxido de nitrogeno tiene valores en promedio que son superiores en Otoño y en Invierno, lo cual tiene sentido en cuanto a los protocolos de contaminación activados."
   ]
  },
  {
   "cell_type": "code",
   "execution_count": null,
   "metadata": {},
   "outputs": [],
   "source": [
    "data_tmp = data_tmp[(data_tmp.estacion.isin(['Retiro','Plaza del carmen', 'Castellana']))] \n",
    "plt.title('Promedio contaminantes por estación del año en zonas céntricas') \n",
    "out = sns.barplot(x='estacion_del_año', y ='medicion' , data=data_tmp, estimator = np.mean, hue='magnitud', palette=\"Set1\", ci=0)\n",
    "plt.xlabel('Estación')\n",
    "plt.ylabel('Medición')\n",
    "plt.show()"
   ]
  },
  {
   "cell_type": "markdown",
   "metadata": {},
   "source": [
    "## Guardo info a BD\n",
    "\n",
    "Guardo la información en base de datos para utilizarla después en el TFM.\n",
    "Solo vamos a guardar los datos de retiro.\n",
    "\n",
    "Está comentada la conexión para no ejecutarlo de nuevo sin querer ya que no hay restricciones para uqe no vuelva a insertarse los datos por el momento. **Por eso da error si se ejecuta**\n",
    "\n",
    "Fue necesario volver a hacer un pivot sobre los datos, pudiendo solo guardar el dioxido y el ozono que son las magnitudes que se registran para Retiro. Nos queda ver de que estación cercana podemos obtener el resto de las magnitudes."
   ]
  },
  {
   "cell_type": "code",
   "execution_count": null,
   "metadata": {},
   "outputs": [],
   "source": [
    "data_to_insert = data_bd.copy()\n",
    "data_to_insert = data_to_insert[data_to_insert.estacion == 49]"
   ]
  },
  {
   "cell_type": "code",
   "execution_count": null,
   "metadata": {},
   "outputs": [],
   "source": [
    "import math\n",
    "def remove_Nan(element):\n",
    "    if math.isnan(element):\n",
    "        return 0\n",
    "    else:\n",
    "        return element\n",
    "\n",
    "data_to_insert = data_to_insert.pivot_table(index=['fecha', 'ano', 'mes', 'estacion'], columns='magnitud', values='medicion').reset_index()\n",
    "data_to_insert.columns = [ 'fecha', 'ano', 'mes', 'estacion','dioxido', 'ozono']\n",
    "data_to_insert['dioxido'] = data_to_insert.dioxido.apply(remove_Nan)\n",
    "data_to_insert['ozono'] = data_to_insert.ozono.apply(remove_Nan)"
   ]
  },
  {
   "cell_type": "code",
   "execution_count": null,
   "metadata": {},
   "outputs": [],
   "source": [
    "import psycopg2 as pg\n",
    "from psycopg2 import sql\n",
    "cur = conn.cursor()\n",
    "for index, row in data_to_insert.iterrows():\n",
    "    insert_query = \"insert into air_quality(date, pm25, pm10, dioxido_azufre, ozono, dioxido_nitrogeno,monoxido_carbono) VALUES ('{0}', '{1}', '{2}', {3}, {4}, {5}, {6})\".format(row.fecha, 0, 0, 0,  row.ozono, row.dioxido, 0)\n",
    "    cur.execute(insert_query)\n",
    "conn.commit()\n",
    "conn.close()"
   ]
  },
  {
   "cell_type": "code",
   "execution_count": null,
   "metadata": {},
   "outputs": [],
   "source": []
  }
 ],
 "metadata": {
  "kernelspec": {
   "display_name": "Python 3",
   "language": "python",
   "name": "python3"
  },
  "language_info": {
   "codemirror_mode": {
    "name": "ipython",
    "version": 3
   },
   "file_extension": ".py",
   "mimetype": "text/x-python",
   "name": "python",
   "nbconvert_exporter": "python",
   "pygments_lexer": "ipython3",
   "version": "3.6.7"
  }
 },
 "nbformat": 4,
 "nbformat_minor": 2
}
