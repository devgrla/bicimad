{
 "cells": [
  {
   "cell_type": "markdown",
   "metadata": {},
   "source": [
    "## Contaminación del aire por día.\n",
    "\n",
    "Queremos trabajar sobre estos datos para ver después como afecta la contaminación (si es que afecta) en el uso de las bicicletas. Para esto necesitamos hacer el trabajo previo de lal impieza y transformación de estos datos\n",
    "\n",
    "Los valores que importan son los siguientes:\n",
    "\n",
    "The AQI level is based on the level of six atmospheric pollutants, namely sulfur dioxide (SO2), nitrogen dioxide (NO2), suspended particulates smaller than 10 μm in aerodynamic diameter (PM10)suspended particulates smaller than 2.5 μm in aerodynamic diameter (PM2.5)，carbon monoxide (CO), and ozone (O3) measured at the monitoring stations throughout each city\n",
    "\n",
    "Los codigos del excel de datos son los siguientes:\n",
    "\n",
    "* 09 -  PM 2.5\n",
    "* 10 - PM10\n",
    "* 14 - Ozono O3\n",
    "* 08 - Dioxido de nitrogeno NO2\n",
    "* 01 - Dioxido de Azufre SO2\n",
    "* 06 - Monoxido de carbono CO\n",
    "\n",
    "**Códigos de estaciones:**\n",
    "\n",
    "Más céntricas\n",
    "* Retiro: 49\n",
    "* Plaza del carmen: 35\n",
    "* Castellana: 48\n",
    "\n",
    "En zonas mas alejadas está:\n",
    "* El pardo: 58\n",
    "* Casa de campo: 24\n",
    "\n",
    "\n",
    "**SOLO SON VALIDOS LOS VALORES QUE TIENEN UNA V**"
   ]
  },
  {
   "cell_type": "code",
   "execution_count": 77,
   "metadata": {},
   "outputs": [],
   "source": [
    "import pandas as pd\n",
    "from datetime import date, datetime, timedelta\n",
    "import re\n",
    "import numpy as np"
   ]
  },
  {
   "cell_type": "code",
   "execution_count": 78,
   "metadata": {},
   "outputs": [],
   "source": [
    "data2018 = pd.read_excel('../dat/calidadaire2018.xlsx')\n",
    "data2017 = pd.read_excel('../dat/calidadaire2017.xlsx') \n",
    "data2016 = pd.read_excel('../dat/calidadaire2016.xlsx') \n",
    "\n",
    "frames = [data2018, data2017, data2016]\n",
    "\n",
    "data = pd.concat(frames)"
   ]
  },
  {
   "cell_type": "markdown",
   "metadata": {},
   "source": [
    "Los datos tienen esta pinta. Los días son las columnas pero también están relacionados con otra columna que identifica si es un valor válido o no."
   ]
  },
  {
   "cell_type": "code",
   "execution_count": 79,
   "metadata": {},
   "outputs": [
    {
     "data": {
      "text/html": [
       "<div>\n",
       "<style scoped>\n",
       "    .dataframe tbody tr th:only-of-type {\n",
       "        vertical-align: middle;\n",
       "    }\n",
       "\n",
       "    .dataframe tbody tr th {\n",
       "        vertical-align: top;\n",
       "    }\n",
       "\n",
       "    .dataframe thead th {\n",
       "        text-align: right;\n",
       "    }\n",
       "</style>\n",
       "<table border=\"1\" class=\"dataframe\">\n",
       "  <thead>\n",
       "    <tr style=\"text-align: right;\">\n",
       "      <th></th>\n",
       "      <th>PROVINCIA</th>\n",
       "      <th>MUNICIPIO</th>\n",
       "      <th>ESTACION</th>\n",
       "      <th>MAGNITUD</th>\n",
       "      <th>PUNTO_MUESTREO</th>\n",
       "      <th>ANO</th>\n",
       "      <th>MES</th>\n",
       "      <th>D01</th>\n",
       "      <th>V01</th>\n",
       "      <th>D02</th>\n",
       "      <th>...</th>\n",
       "      <th>D27</th>\n",
       "      <th>V27</th>\n",
       "      <th>D28</th>\n",
       "      <th>V28</th>\n",
       "      <th>D29</th>\n",
       "      <th>V29</th>\n",
       "      <th>D30</th>\n",
       "      <th>V30</th>\n",
       "      <th>D31</th>\n",
       "      <th>V31</th>\n",
       "    </tr>\n",
       "  </thead>\n",
       "  <tbody>\n",
       "    <tr>\n",
       "      <th>0</th>\n",
       "      <td>28</td>\n",
       "      <td>79</td>\n",
       "      <td>4</td>\n",
       "      <td>1</td>\n",
       "      <td>28079004_1_38</td>\n",
       "      <td>2018</td>\n",
       "      <td>1</td>\n",
       "      <td>1.0</td>\n",
       "      <td>V</td>\n",
       "      <td>1.0</td>\n",
       "      <td>...</td>\n",
       "      <td>2.0</td>\n",
       "      <td>V</td>\n",
       "      <td>2.0</td>\n",
       "      <td>V</td>\n",
       "      <td>6.0</td>\n",
       "      <td>V</td>\n",
       "      <td>5.0</td>\n",
       "      <td>V</td>\n",
       "      <td>6.0</td>\n",
       "      <td>V</td>\n",
       "    </tr>\n",
       "    <tr>\n",
       "      <th>1</th>\n",
       "      <td>28</td>\n",
       "      <td>79</td>\n",
       "      <td>4</td>\n",
       "      <td>1</td>\n",
       "      <td>28079004_1_38</td>\n",
       "      <td>2018</td>\n",
       "      <td>2</td>\n",
       "      <td>5.0</td>\n",
       "      <td>V</td>\n",
       "      <td>3.0</td>\n",
       "      <td>...</td>\n",
       "      <td>3.0</td>\n",
       "      <td>V</td>\n",
       "      <td>2.0</td>\n",
       "      <td>V</td>\n",
       "      <td>0.0</td>\n",
       "      <td>N</td>\n",
       "      <td>0.0</td>\n",
       "      <td>N</td>\n",
       "      <td>0.0</td>\n",
       "      <td>N</td>\n",
       "    </tr>\n",
       "    <tr>\n",
       "      <th>2</th>\n",
       "      <td>28</td>\n",
       "      <td>79</td>\n",
       "      <td>4</td>\n",
       "      <td>1</td>\n",
       "      <td>28079004_1_38</td>\n",
       "      <td>2018</td>\n",
       "      <td>3</td>\n",
       "      <td>1.0</td>\n",
       "      <td>V</td>\n",
       "      <td>2.0</td>\n",
       "      <td>...</td>\n",
       "      <td>2.0</td>\n",
       "      <td>V</td>\n",
       "      <td>4.0</td>\n",
       "      <td>V</td>\n",
       "      <td>2.0</td>\n",
       "      <td>V</td>\n",
       "      <td>2.0</td>\n",
       "      <td>V</td>\n",
       "      <td>2.0</td>\n",
       "      <td>V</td>\n",
       "    </tr>\n",
       "    <tr>\n",
       "      <th>3</th>\n",
       "      <td>28</td>\n",
       "      <td>79</td>\n",
       "      <td>4</td>\n",
       "      <td>1</td>\n",
       "      <td>28079004_1_38</td>\n",
       "      <td>2018</td>\n",
       "      <td>4</td>\n",
       "      <td>2.0</td>\n",
       "      <td>V</td>\n",
       "      <td>3.0</td>\n",
       "      <td>...</td>\n",
       "      <td>1.0</td>\n",
       "      <td>V</td>\n",
       "      <td>2.0</td>\n",
       "      <td>V</td>\n",
       "      <td>2.0</td>\n",
       "      <td>V</td>\n",
       "      <td>2.0</td>\n",
       "      <td>V</td>\n",
       "      <td>0.0</td>\n",
       "      <td>N</td>\n",
       "    </tr>\n",
       "    <tr>\n",
       "      <th>4</th>\n",
       "      <td>28</td>\n",
       "      <td>79</td>\n",
       "      <td>4</td>\n",
       "      <td>1</td>\n",
       "      <td>28079004_1_38</td>\n",
       "      <td>2018</td>\n",
       "      <td>5</td>\n",
       "      <td>2.0</td>\n",
       "      <td>V</td>\n",
       "      <td>2.0</td>\n",
       "      <td>...</td>\n",
       "      <td>2.0</td>\n",
       "      <td>V</td>\n",
       "      <td>2.0</td>\n",
       "      <td>V</td>\n",
       "      <td>3.0</td>\n",
       "      <td>V</td>\n",
       "      <td>2.0</td>\n",
       "      <td>V</td>\n",
       "      <td>2.0</td>\n",
       "      <td>V</td>\n",
       "    </tr>\n",
       "  </tbody>\n",
       "</table>\n",
       "<p>5 rows × 69 columns</p>\n",
       "</div>"
      ],
      "text/plain": [
       "   PROVINCIA  MUNICIPIO  ESTACION  MAGNITUD PUNTO_MUESTREO   ANO  MES  D01  \\\n",
       "0         28         79         4         1  28079004_1_38  2018    1  1.0   \n",
       "1         28         79         4         1  28079004_1_38  2018    2  5.0   \n",
       "2         28         79         4         1  28079004_1_38  2018    3  1.0   \n",
       "3         28         79         4         1  28079004_1_38  2018    4  2.0   \n",
       "4         28         79         4         1  28079004_1_38  2018    5  2.0   \n",
       "\n",
       "  V01  D02 ...   D27  V27  D28  V28  D29  V29  D30  V30  D31  V31  \n",
       "0   V  1.0 ...   2.0    V  2.0    V  6.0    V  5.0    V  6.0    V  \n",
       "1   V  3.0 ...   3.0    V  2.0    V  0.0    N  0.0    N  0.0    N  \n",
       "2   V  2.0 ...   2.0    V  4.0    V  2.0    V  2.0    V  2.0    V  \n",
       "3   V  3.0 ...   1.0    V  2.0    V  2.0    V  2.0    V  0.0    N  \n",
       "4   V  2.0 ...   2.0    V  2.0    V  3.0    V  2.0    V  2.0    V  \n",
       "\n",
       "[5 rows x 69 columns]"
      ]
     },
     "execution_count": 79,
     "metadata": {},
     "output_type": "execute_result"
    }
   ],
   "source": [
    "data.head()"
   ]
  },
  {
   "cell_type": "markdown",
   "metadata": {},
   "source": [
    "Elimino las columns que ya se que no me sirven"
   ]
  },
  {
   "cell_type": "code",
   "execution_count": 80,
   "metadata": {},
   "outputs": [],
   "source": [
    "del data['PROVINCIA']\n",
    "del data['MUNICIPIO']\n",
    "del data['PUNTO_MUESTREO']"
   ]
  },
  {
   "cell_type": "markdown",
   "metadata": {},
   "source": [
    "## Filtro estaciones y magnitudes de mi intéres\n",
    "\n",
    "Solo quiero quedarme con una parte de la información. Las magnitudes más importantes y un conjunto de estaciones que representen medidas céntricas de Madrid y de las afueras."
   ]
  },
  {
   "cell_type": "code",
   "execution_count": 81,
   "metadata": {},
   "outputs": [],
   "source": [
    "estaciones_utilizar = [24,35,48,49,58]\n",
    "magnitudes_interes = [1,6,8,9,10,14]\n",
    "data_copy = data.copy()\n",
    "data_copy = data_copy[data_copy.ESTACION.isin(estaciones_utilizar)]\n",
    "data_copy = data_copy[data_copy.MAGNITUD.isin(magnitudes_interes)]"
   ]
  },
  {
   "cell_type": "markdown",
   "metadata": {},
   "source": [
    "### Convierto datos a formato largo\n",
    "\n",
    "Asi me quedan los dias y los valores como filas"
   ]
  },
  {
   "cell_type": "code",
   "execution_count": 82,
   "metadata": {},
   "outputs": [
    {
     "data": {
      "text/html": [
       "<div>\n",
       "<style scoped>\n",
       "    .dataframe tbody tr th:only-of-type {\n",
       "        vertical-align: middle;\n",
       "    }\n",
       "\n",
       "    .dataframe tbody tr th {\n",
       "        vertical-align: top;\n",
       "    }\n",
       "\n",
       "    .dataframe thead th {\n",
       "        text-align: right;\n",
       "    }\n",
       "</style>\n",
       "<table border=\"1\" class=\"dataframe\">\n",
       "  <thead>\n",
       "    <tr style=\"text-align: right;\">\n",
       "      <th></th>\n",
       "      <th>ESTACION</th>\n",
       "      <th>MAGNITUD</th>\n",
       "      <th>ANO</th>\n",
       "      <th>MES</th>\n",
       "      <th>variable</th>\n",
       "      <th>value</th>\n",
       "    </tr>\n",
       "  </thead>\n",
       "  <tbody>\n",
       "    <tr>\n",
       "      <th>0</th>\n",
       "      <td>24</td>\n",
       "      <td>1</td>\n",
       "      <td>2018</td>\n",
       "      <td>1</td>\n",
       "      <td>D01</td>\n",
       "      <td>3</td>\n",
       "    </tr>\n",
       "    <tr>\n",
       "      <th>1</th>\n",
       "      <td>24</td>\n",
       "      <td>1</td>\n",
       "      <td>2018</td>\n",
       "      <td>2</td>\n",
       "      <td>D01</td>\n",
       "      <td>5</td>\n",
       "    </tr>\n",
       "    <tr>\n",
       "      <th>2</th>\n",
       "      <td>24</td>\n",
       "      <td>1</td>\n",
       "      <td>2018</td>\n",
       "      <td>3</td>\n",
       "      <td>D01</td>\n",
       "      <td>4</td>\n",
       "    </tr>\n",
       "    <tr>\n",
       "      <th>3</th>\n",
       "      <td>24</td>\n",
       "      <td>1</td>\n",
       "      <td>2018</td>\n",
       "      <td>4</td>\n",
       "      <td>D01</td>\n",
       "      <td>4</td>\n",
       "    </tr>\n",
       "    <tr>\n",
       "      <th>4</th>\n",
       "      <td>24</td>\n",
       "      <td>1</td>\n",
       "      <td>2018</td>\n",
       "      <td>5</td>\n",
       "      <td>D01</td>\n",
       "      <td>3</td>\n",
       "    </tr>\n",
       "  </tbody>\n",
       "</table>\n",
       "</div>"
      ],
      "text/plain": [
       "   ESTACION  MAGNITUD   ANO  MES variable value\n",
       "0        24         1  2018    1      D01     3\n",
       "1        24         1  2018    2      D01     5\n",
       "2        24         1  2018    3      D01     4\n",
       "3        24         1  2018    4      D01     4\n",
       "4        24         1  2018    5      D01     3"
      ]
     },
     "execution_count": 82,
     "metadata": {},
     "output_type": "execute_result"
    }
   ],
   "source": [
    "data_formatted = pd.melt(data_copy, id_vars =['ESTACION', 'MAGNITUD', 'ANO', 'MES'])\n",
    "data_formatted.head()"
   ]
  },
  {
   "cell_type": "markdown",
   "metadata": {},
   "source": [
    "### Transformación de datos\n",
    "\n",
    "Necesitaría crearme una columna con la fecha, ya que tengo mes, año y día por separado. Antes necesito limpiar el día ya que tiene una D o una V delante.\n",
    "\n",
    "Luego voy a separar el dataframe según V o D y voy a cruzarlo por la columna fecha creada.\n",
    "\n",
    "**Fechas con error**\n",
    "\n",
    "Las fechas que dan error cuando se quieren castear a tipo datetime (porque no existen. ej: 30/02) las pongo como 1/1/1900 (porque ya se que no existe) para después borrarlas"
   ]
  },
  {
   "cell_type": "code",
   "execution_count": 83,
   "metadata": {},
   "outputs": [
    {
     "name": "stderr",
     "output_type": "stream",
     "text": [
      "C:\\Users\\Xseed\\Anaconda3\\lib\\site-packages\\ipykernel_launcher.py:18: FutureWarning: Comparing Series of datetimes with 'datetime.date'.  Currently, the\n",
      "'datetime.date' is coerced to a datetime. In the future pandas will\n",
      "not coerce, and 'the values will not compare equal to the\n",
      "'datetime.date'. To retain the current behavior, convert the\n",
      "'datetime.date' to a datetime with 'pd.Timestamp'.\n"
     ]
    },
    {
     "data": {
      "text/html": [
       "<div>\n",
       "<style scoped>\n",
       "    .dataframe tbody tr th:only-of-type {\n",
       "        vertical-align: middle;\n",
       "    }\n",
       "\n",
       "    .dataframe tbody tr th {\n",
       "        vertical-align: top;\n",
       "    }\n",
       "\n",
       "    .dataframe thead th {\n",
       "        text-align: right;\n",
       "    }\n",
       "</style>\n",
       "<table border=\"1\" class=\"dataframe\">\n",
       "  <thead>\n",
       "    <tr style=\"text-align: right;\">\n",
       "      <th></th>\n",
       "      <th>ESTACION</th>\n",
       "      <th>MAGNITUD</th>\n",
       "      <th>ANO</th>\n",
       "      <th>MES</th>\n",
       "      <th>variable</th>\n",
       "      <th>value</th>\n",
       "      <th>date</th>\n",
       "    </tr>\n",
       "  </thead>\n",
       "  <tbody>\n",
       "    <tr>\n",
       "      <th>0</th>\n",
       "      <td>24</td>\n",
       "      <td>1</td>\n",
       "      <td>2018</td>\n",
       "      <td>1</td>\n",
       "      <td>D</td>\n",
       "      <td>3</td>\n",
       "      <td>2018-01-01</td>\n",
       "    </tr>\n",
       "  </tbody>\n",
       "</table>\n",
       "</div>"
      ],
      "text/plain": [
       "   ESTACION  MAGNITUD   ANO  MES variable value       date\n",
       "0        24         1  2018    1        D     3 2018-01-01"
      ]
     },
     "execution_count": 83,
     "metadata": {},
     "output_type": "execute_result"
    }
   ],
   "source": [
    "def get_date_from_columns(row):\n",
    "    try:\n",
    "        year = row.ANO\n",
    "        month = row.MES\n",
    "        day = int(re.findall('[0-9]+', row.variable)[0])\n",
    "        return datetime(year, month, day)\n",
    "    except:\n",
    "        #DA ERROR EN DIAS QUE NO EXISTEN. Los voy a borrar despues\n",
    "        return datetime(1900,1,1)\n",
    "\n",
    "def convert_to_letter(variable):\n",
    "    return re.findall('[A-Z]+',variable)[0]\n",
    "\n",
    "data_formatted['date'] = data_formatted.apply(get_date_from_columns, axis=1)\n",
    "data_formatted['variable'] = data_formatted.variable.apply(convert_to_letter)\n",
    "\n",
    "#Elimino las fechas que están mal-\n",
    "data_formatted = data_formatted[data_formatted.date != date(1900,1,1)]\n",
    "\n",
    "data_formatted.head(1)"
   ]
  },
  {
   "cell_type": "code",
   "execution_count": 84,
   "metadata": {},
   "outputs": [
    {
     "data": {
      "text/plain": [
       "(36898, 7)"
      ]
     },
     "execution_count": 84,
     "metadata": {},
     "output_type": "execute_result"
    }
   ],
   "source": [
    "data_formatted.shape #Confirmo se eliminaron filas"
   ]
  },
  {
   "cell_type": "markdown",
   "metadata": {},
   "source": [
    "### Separo dataframe y lo cruzo por fecha, magnitud y estación\n",
    "\n",
    "Separo el dataframe según el tipo D o V y lo cruzo para saber que días tienen valores válidos y cuales no. Elimino los que no son válidos. Filtro por aquellos con valor 'V'"
   ]
  },
  {
   "cell_type": "code",
   "execution_count": 85,
   "metadata": {},
   "outputs": [],
   "source": [
    "data_formatted_D = data_formatted[data_formatted.variable == 'D'].sort_values(['ESTACION','MES', 'MAGNITUD'])\n",
    "data_formatted_V = data_formatted[data_formatted.variable == 'V'].sort_values(['ESTACION','MES', 'MAGNITUD'])\n",
    "\n",
    "#Cruzo dataframes que separé\n",
    "data_formatted = data_formatted_D.merge(data_formatted_V, on=['date','MAGNITUD', 'ESTACION'])\n",
    "\n",
    "#Filtro por aquellos días que tengan la V y elimino los que tienen la 'N' de no válido\n",
    "data_formatted = data_formatted[data_formatted.value_y == 'V']"
   ]
  },
  {
   "cell_type": "markdown",
   "metadata": {},
   "source": [
    "### Transformación de columnas\n",
    "\n",
    "Elimino columnas que no me sirven y cambio nombres para que sean mas descriptivos"
   ]
  },
  {
   "cell_type": "code",
   "execution_count": 86,
   "metadata": {},
   "outputs": [],
   "source": [
    "#Borro columnas que no me interesan.\n",
    "del(data_formatted['variable_y'])\n",
    "del(data_formatted['value_y'])\n",
    "del(data_formatted['MES_y'])\n",
    "del(data_formatted['ANO_y'])\n",
    "del(data_formatted['variable_x'])\n",
    "\n",
    "#Cambio nombre de las columnas y converto medicion a numero.\n",
    "data_formatted.columns = ['estacion', 'magnitud', 'ano', 'mes', 'medicion','fecha']\n",
    "data_formatted[\"medicion\"] = pd.to_numeric(data_formatted[\"medicion\"])"
   ]
  },
  {
   "cell_type": "markdown",
   "metadata": {},
   "source": [
    "La tabla resultado se ve a continuación."
   ]
  },
  {
   "cell_type": "code",
   "execution_count": 87,
   "metadata": {},
   "outputs": [
    {
     "data": {
      "text/html": [
       "<div>\n",
       "<style scoped>\n",
       "    .dataframe tbody tr th:only-of-type {\n",
       "        vertical-align: middle;\n",
       "    }\n",
       "\n",
       "    .dataframe tbody tr th {\n",
       "        vertical-align: top;\n",
       "    }\n",
       "\n",
       "    .dataframe thead th {\n",
       "        text-align: right;\n",
       "    }\n",
       "</style>\n",
       "<table border=\"1\" class=\"dataframe\">\n",
       "  <thead>\n",
       "    <tr style=\"text-align: right;\">\n",
       "      <th></th>\n",
       "      <th>estacion</th>\n",
       "      <th>magnitud</th>\n",
       "      <th>ano</th>\n",
       "      <th>mes</th>\n",
       "      <th>medicion</th>\n",
       "      <th>fecha</th>\n",
       "    </tr>\n",
       "  </thead>\n",
       "  <tbody>\n",
       "    <tr>\n",
       "      <th>0</th>\n",
       "      <td>24</td>\n",
       "      <td>1</td>\n",
       "      <td>2018</td>\n",
       "      <td>1</td>\n",
       "      <td>3.0</td>\n",
       "      <td>2018-01-01</td>\n",
       "    </tr>\n",
       "    <tr>\n",
       "      <th>1</th>\n",
       "      <td>24</td>\n",
       "      <td>1</td>\n",
       "      <td>2017</td>\n",
       "      <td>1</td>\n",
       "      <td>3.0</td>\n",
       "      <td>2017-01-01</td>\n",
       "    </tr>\n",
       "    <tr>\n",
       "      <th>2</th>\n",
       "      <td>24</td>\n",
       "      <td>1</td>\n",
       "      <td>2016</td>\n",
       "      <td>1</td>\n",
       "      <td>2.0</td>\n",
       "      <td>2016-01-01</td>\n",
       "    </tr>\n",
       "    <tr>\n",
       "      <th>4</th>\n",
       "      <td>24</td>\n",
       "      <td>1</td>\n",
       "      <td>2017</td>\n",
       "      <td>1</td>\n",
       "      <td>3.0</td>\n",
       "      <td>2017-01-02</td>\n",
       "    </tr>\n",
       "    <tr>\n",
       "      <th>5</th>\n",
       "      <td>24</td>\n",
       "      <td>1</td>\n",
       "      <td>2016</td>\n",
       "      <td>1</td>\n",
       "      <td>2.0</td>\n",
       "      <td>2016-01-02</td>\n",
       "    </tr>\n",
       "  </tbody>\n",
       "</table>\n",
       "</div>"
      ],
      "text/plain": [
       "   estacion  magnitud   ano  mes  medicion      fecha\n",
       "0        24         1  2018    1       3.0 2018-01-01\n",
       "1        24         1  2017    1       3.0 2017-01-01\n",
       "2        24         1  2016    1       2.0 2016-01-01\n",
       "4        24         1  2017    1       3.0 2017-01-02\n",
       "5        24         1  2016    1       2.0 2016-01-02"
      ]
     },
     "execution_count": 87,
     "metadata": {},
     "output_type": "execute_result"
    }
   ],
   "source": [
    "data_formatted.head()"
   ]
  },
  {
   "cell_type": "markdown",
   "metadata": {},
   "source": [
    "## Reemplazo magnitudes y estaciones por su nombre\n",
    "\n",
    "Las magnitudes y las estaciones están identificadas por un número. Para saber a qué corresponden les cambio los números por su valor correspondiente"
   ]
  },
  {
   "cell_type": "code",
   "execution_count": 89,
   "metadata": {},
   "outputs": [],
   "source": [
    "def get_magnitud_name(value):\n",
    "    if value == 1:\n",
    "        return 'Dioxido de Azufre SO2'\n",
    "    elif value == 6:\n",
    "        return 'Monoxido de carbono CO'\n",
    "    elif value == 8:\n",
    "        return 'Dioxido de nitrogeno NO2'\n",
    "    elif value == 9:\n",
    "        return 'PM 2.5'\n",
    "    elif value == 10:\n",
    "        return 'PM10'\n",
    "    elif value == 14:\n",
    "        return 'Ozono O3'\n",
    "\n",
    "def get_station_name(value):\n",
    "    if value == 49:\n",
    "        return 'Retiro'\n",
    "    elif value == 35:\n",
    "        return 'Plaza del carmen'\n",
    "    elif value == 48:\n",
    "        return 'Castellana'\n",
    "    elif value == 58:\n",
    "        return 'El Pardo'\n",
    "    elif value == 24:\n",
    "        return 'Casa de campo'\n",
    "            \n",
    "data_formatted['magnitud'] = data_formatted.magnitud.apply(get_magnitud_name)\n",
    "data_formatted['estacion'] = data_formatted.estacion.apply(get_station_name)"
   ]
  },
  {
   "cell_type": "markdown",
   "metadata": {},
   "source": [
    "## Visualización de datos"
   ]
  },
  {
   "cell_type": "code",
   "execution_count": 53,
   "metadata": {},
   "outputs": [],
   "source": [
    "#Valores maximos para cada magnitud en el 2018\n",
    "valores_max = data2018_formatted.groupby(['magnitud']).medicion.max()"
   ]
  },
  {
   "cell_type": "code",
   "execution_count": 90,
   "metadata": {},
   "outputs": [
    {
     "data": {
      "text/html": [
       "<div>\n",
       "<style scoped>\n",
       "    .dataframe tbody tr th:only-of-type {\n",
       "        vertical-align: middle;\n",
       "    }\n",
       "\n",
       "    .dataframe tbody tr th {\n",
       "        vertical-align: top;\n",
       "    }\n",
       "\n",
       "    .dataframe thead th {\n",
       "        text-align: right;\n",
       "    }\n",
       "</style>\n",
       "<table border=\"1\" class=\"dataframe\">\n",
       "  <thead>\n",
       "    <tr style=\"text-align: right;\">\n",
       "      <th></th>\n",
       "      <th>estacion</th>\n",
       "      <th>magnitud</th>\n",
       "      <th>ano</th>\n",
       "      <th>mes</th>\n",
       "      <th>medicion</th>\n",
       "      <th>fecha</th>\n",
       "    </tr>\n",
       "  </thead>\n",
       "  <tbody>\n",
       "    <tr>\n",
       "      <th>0</th>\n",
       "      <td>Casa de campo</td>\n",
       "      <td>Dioxido de Azufre SO2</td>\n",
       "      <td>2018</td>\n",
       "      <td>1</td>\n",
       "      <td>3.0</td>\n",
       "      <td>2018-01-01</td>\n",
       "    </tr>\n",
       "    <tr>\n",
       "      <th>1</th>\n",
       "      <td>Casa de campo</td>\n",
       "      <td>Dioxido de Azufre SO2</td>\n",
       "      <td>2017</td>\n",
       "      <td>1</td>\n",
       "      <td>3.0</td>\n",
       "      <td>2017-01-01</td>\n",
       "    </tr>\n",
       "    <tr>\n",
       "      <th>2</th>\n",
       "      <td>Casa de campo</td>\n",
       "      <td>Dioxido de Azufre SO2</td>\n",
       "      <td>2016</td>\n",
       "      <td>1</td>\n",
       "      <td>2.0</td>\n",
       "      <td>2016-01-01</td>\n",
       "    </tr>\n",
       "    <tr>\n",
       "      <th>4</th>\n",
       "      <td>Casa de campo</td>\n",
       "      <td>Dioxido de Azufre SO2</td>\n",
       "      <td>2017</td>\n",
       "      <td>1</td>\n",
       "      <td>3.0</td>\n",
       "      <td>2017-01-02</td>\n",
       "    </tr>\n",
       "    <tr>\n",
       "      <th>5</th>\n",
       "      <td>Casa de campo</td>\n",
       "      <td>Dioxido de Azufre SO2</td>\n",
       "      <td>2016</td>\n",
       "      <td>1</td>\n",
       "      <td>2.0</td>\n",
       "      <td>2016-01-02</td>\n",
       "    </tr>\n",
       "  </tbody>\n",
       "</table>\n",
       "</div>"
      ],
      "text/plain": [
       "        estacion               magnitud   ano  mes  medicion      fecha\n",
       "0  Casa de campo  Dioxido de Azufre SO2  2018    1       3.0 2018-01-01\n",
       "1  Casa de campo  Dioxido de Azufre SO2  2017    1       3.0 2017-01-01\n",
       "2  Casa de campo  Dioxido de Azufre SO2  2016    1       2.0 2016-01-01\n",
       "4  Casa de campo  Dioxido de Azufre SO2  2017    1       3.0 2017-01-02\n",
       "5  Casa de campo  Dioxido de Azufre SO2  2016    1       2.0 2016-01-02"
      ]
     },
     "execution_count": 90,
     "metadata": {},
     "output_type": "execute_result"
    }
   ],
   "source": [
    "valores_max.to_dict()"
   ]
  },
  {
   "cell_type": "code",
   "execution_count": 55,
   "metadata": {},
   "outputs": [
    {
     "data": {
      "text/plain": [
       "29.365140650854936"
      ]
     },
     "execution_count": 55,
     "metadata": {},
     "output_type": "execute_result"
    }
   ],
   "source": [
    "media_no2 = data2018_formatted[data2018_formatted.magnitud == 'Dioxido de nitrogeno NO2'].medicion.mean()\n",
    "media_no2"
   ]
  },
  {
   "cell_type": "code",
   "execution_count": 26,
   "metadata": {},
   "outputs": [],
   "source": [
    "def get_season(row):\n",
    "    date = row.fecha\n",
    "    if date >= datetime(date.year, 3, 21) and date <= datetime(date.year, 6, 20):\n",
    "        return 'Primavera'\n",
    "    elif date >= datetime(date.year, 6, 21) and date <= datetime(date.year, 9 , 20):\n",
    "        return 'Verano'\n",
    "    elif date >= datetime(date.year, 9, 21) and date <= datetime(date.year, 12 , 20):\n",
    "        return 'Otoño'\n",
    "    else:\n",
    "        return 'Invierno'\n",
    "    \n",
    "data2018_formatted['estacion_del_año'] = data2018_formatted.apply(get_season, axis = 1)"
   ]
  },
  {
   "cell_type": "code",
   "execution_count": 27,
   "metadata": {},
   "outputs": [
    {
     "data": {
      "text/plain": [
       "<Figure size 1008x720 with 0 Axes>"
      ]
     },
     "metadata": {},
     "output_type": "display_data"
    }
   ],
   "source": [
    "import seaborn as sns\n",
    "import matplotlib.pyplot as plt\n",
    "\n",
    "from matplotlib import rcParams\n",
    "rcParams['figure.figsize'] = 14, 10\n",
    "sns.set_context('paper', font_scale=1.5, rc={\"lines.linewidth\": 2.5})\n",
    "sns.despine()\n",
    "sns.set_style(\"dark\")\n",
    "\n",
    "#umbral valores permitidos\n",
    "valores_permitidos = {\n",
    "    'Dioxido de nitrogeno NO2': 40,\n",
    "    'PM 10': 40,\n",
    "    'PM 2.5': 10,\n",
    "    'Ozono': 120\n",
    "}"
   ]
  },
  {
   "cell_type": "code",
   "execution_count": 28,
   "metadata": {},
   "outputs": [
    {
     "name": "stderr",
     "output_type": "stream",
     "text": [
      "C:\\Users\\Xseed\\Anaconda3\\lib\\site-packages\\scipy\\stats\\stats.py:1713: FutureWarning: Using a non-tuple sequence for multidimensional indexing is deprecated; use `arr[tuple(seq)]` instead of `arr[seq]`. In the future this will be interpreted as an array index, `arr[np.array(seq)]`, which will result either in an error or a different result.\n",
      "  return np.add.reduce(sorted[indexer] * weights, axis=axis) / sumval\n"
     ]
    },
    {
     "data": {
      "image/png": "[encoded data removed]",
      "text/plain": [
       "<Figure size 1008x720 with 1 Axes>"
      ]
     },
     "metadata": {},
     "output_type": "display_data"
    }
   ],
   "source": [
    "#Máximo valor contaminantes en cada estacion del año\n",
    "\n",
    "plt.xlabel('Estación')\n",
    "plt.ylabel('Medición')\n",
    "plt.title('Máximo valor contaminantes por estación 2018') \n",
    "out = sns.barplot(x='estacion_del_año', y ='medicion' , data=data2018_formatted, estimator = np.max, hue='magnitud', palette=\"Set1\", ci=0)"
   ]
  },
  {
   "cell_type": "markdown",
   "metadata": {},
   "source": [
    "### Activación Protocolos de contaminación 2018.\n",
    "* NO2 del 23 al 24 de enero\n",
    "* NO2 del 5 al 7 de diciembre de 2018\n",
    "* NO2 del 11 al 12 de diciembre de 2018\n",
    "* NO2 del 25 al 28 de diciembre de 2018"
   ]
  },
  {
   "cell_type": "code",
   "execution_count": 261,
   "metadata": {},
   "outputs": [
    {
     "data": {
      "text/html": [
       "<div>\n",
       "<style scoped>\n",
       "    .dataframe tbody tr th:only-of-type {\n",
       "        vertical-align: middle;\n",
       "    }\n",
       "\n",
       "    .dataframe tbody tr th {\n",
       "        vertical-align: top;\n",
       "    }\n",
       "\n",
       "    .dataframe thead th {\n",
       "        text-align: right;\n",
       "    }\n",
       "</style>\n",
       "<table border=\"1\" class=\"dataframe\">\n",
       "  <thead>\n",
       "    <tr style=\"text-align: right;\">\n",
       "      <th></th>\n",
       "      <th>estacion</th>\n",
       "      <th>magnitud</th>\n",
       "      <th>ano</th>\n",
       "      <th>mes</th>\n",
       "      <th>medicion</th>\n",
       "      <th>fecha</th>\n",
       "    </tr>\n",
       "  </thead>\n",
       "  <tbody>\n",
       "    <tr>\n",
       "      <th>1887</th>\n",
       "      <td>Otoño</td>\n",
       "      <td>Dioxido de nitrogeno NO2</td>\n",
       "      <td>2018</td>\n",
       "      <td>12</td>\n",
       "      <td>49.0</td>\n",
       "      <td>2018-12-05</td>\n",
       "    </tr>\n",
       "    <tr>\n",
       "      <th>3409</th>\n",
       "      <td>Otoño</td>\n",
       "      <td>Dioxido de nitrogeno NO2</td>\n",
       "      <td>2018</td>\n",
       "      <td>12</td>\n",
       "      <td>71.0</td>\n",
       "      <td>2018-12-05</td>\n",
       "    </tr>\n",
       "    <tr>\n",
       "      <th>4473</th>\n",
       "      <td>Otoño</td>\n",
       "      <td>Dioxido de nitrogeno NO2</td>\n",
       "      <td>2018</td>\n",
       "      <td>12</td>\n",
       "      <td>75.0</td>\n",
       "      <td>2018-12-05</td>\n",
       "    </tr>\n",
       "    <tr>\n",
       "      <th>5234</th>\n",
       "      <td>Otoño</td>\n",
       "      <td>Dioxido de nitrogeno NO2</td>\n",
       "      <td>2018</td>\n",
       "      <td>12</td>\n",
       "      <td>54.0</td>\n",
       "      <td>2018-12-05</td>\n",
       "    </tr>\n",
       "    <tr>\n",
       "      <th>5964</th>\n",
       "      <td>Otoño</td>\n",
       "      <td>Dioxido de nitrogeno NO2</td>\n",
       "      <td>2018</td>\n",
       "      <td>12</td>\n",
       "      <td>30.0</td>\n",
       "      <td>2018-12-05</td>\n",
       "    </tr>\n",
       "  </tbody>\n",
       "</table>\n",
       "</div>"
      ],
      "text/plain": [
       "     estacion                  magnitud   ano  mes  medicion      fecha\n",
       "1887    Otoño  Dioxido de nitrogeno NO2  2018   12      49.0 2018-12-05\n",
       "3409    Otoño  Dioxido de nitrogeno NO2  2018   12      71.0 2018-12-05\n",
       "4473    Otoño  Dioxido de nitrogeno NO2  2018   12      75.0 2018-12-05\n",
       "5234    Otoño  Dioxido de nitrogeno NO2  2018   12      54.0 2018-12-05\n",
       "5964    Otoño  Dioxido de nitrogeno NO2  2018   12      30.0 2018-12-05"
      ]
     },
     "execution_count": 261,
     "metadata": {},
     "output_type": "execute_result"
    }
   ],
   "source": [
    "data2018_formatted[(data2018_formatted.magnitud == 'Dioxido de nitrogeno NO2') & \n",
    "                   (data2018_formatted.fecha == datetime(2018,12,5))]\n"
   ]
  },
  {
   "cell_type": "code",
   "execution_count": 281,
   "metadata": {},
   "outputs": [
    {
     "data": {
      "text/html": [
       "<div>\n",
       "<style scoped>\n",
       "    .dataframe tbody tr th:only-of-type {\n",
       "        vertical-align: middle;\n",
       "    }\n",
       "\n",
       "    .dataframe tbody tr th {\n",
       "        vertical-align: top;\n",
       "    }\n",
       "\n",
       "    .dataframe thead th {\n",
       "        text-align: right;\n",
       "    }\n",
       "</style>\n",
       "<table border=\"1\" class=\"dataframe\">\n",
       "  <thead>\n",
       "    <tr style=\"text-align: right;\">\n",
       "      <th></th>\n",
       "      <th>estacion</th>\n",
       "      <th>magnitud</th>\n",
       "      <th>ano</th>\n",
       "      <th>mes</th>\n",
       "      <th>medicion</th>\n",
       "      <th>fecha</th>\n",
       "      <th>estacion_del_año</th>\n",
       "    </tr>\n",
       "  </thead>\n",
       "  <tbody>\n",
       "    <tr>\n",
       "      <th>0</th>\n",
       "      <td>Casa de campo</td>\n",
       "      <td>Dioxido de Azufre SO2</td>\n",
       "      <td>2018</td>\n",
       "      <td>1</td>\n",
       "      <td>3.0</td>\n",
       "      <td>2018-01-01</td>\n",
       "      <td>Invierno</td>\n",
       "    </tr>\n",
       "    <tr>\n",
       "      <th>4</th>\n",
       "      <td>Casa de campo</td>\n",
       "      <td>Dioxido de Azufre SO2</td>\n",
       "      <td>2018</td>\n",
       "      <td>1</td>\n",
       "      <td>3.0</td>\n",
       "      <td>2018-01-05</td>\n",
       "      <td>Invierno</td>\n",
       "    </tr>\n",
       "    <tr>\n",
       "      <th>5</th>\n",
       "      <td>Casa de campo</td>\n",
       "      <td>Dioxido de Azufre SO2</td>\n",
       "      <td>2018</td>\n",
       "      <td>1</td>\n",
       "      <td>3.0</td>\n",
       "      <td>2018-01-06</td>\n",
       "      <td>Invierno</td>\n",
       "    </tr>\n",
       "    <tr>\n",
       "      <th>6</th>\n",
       "      <td>Casa de campo</td>\n",
       "      <td>Dioxido de Azufre SO2</td>\n",
       "      <td>2018</td>\n",
       "      <td>1</td>\n",
       "      <td>3.0</td>\n",
       "      <td>2018-01-07</td>\n",
       "      <td>Invierno</td>\n",
       "    </tr>\n",
       "    <tr>\n",
       "      <th>7</th>\n",
       "      <td>Casa de campo</td>\n",
       "      <td>Dioxido de Azufre SO2</td>\n",
       "      <td>2018</td>\n",
       "      <td>1</td>\n",
       "      <td>4.0</td>\n",
       "      <td>2018-01-08</td>\n",
       "      <td>Invierno</td>\n",
       "    </tr>\n",
       "  </tbody>\n",
       "</table>\n",
       "</div>"
      ],
      "text/plain": [
       "        estacion               magnitud   ano  mes  medicion      fecha  \\\n",
       "0  Casa de campo  Dioxido de Azufre SO2  2018    1       3.0 2018-01-01   \n",
       "4  Casa de campo  Dioxido de Azufre SO2  2018    1       3.0 2018-01-05   \n",
       "5  Casa de campo  Dioxido de Azufre SO2  2018    1       3.0 2018-01-06   \n",
       "6  Casa de campo  Dioxido de Azufre SO2  2018    1       3.0 2018-01-07   \n",
       "7  Casa de campo  Dioxido de Azufre SO2  2018    1       4.0 2018-01-08   \n",
       "\n",
       "  estacion_del_año  \n",
       "0         Invierno  \n",
       "4         Invierno  \n",
       "5         Invierno  \n",
       "6         Invierno  \n",
       "7         Invierno  "
      ]
     },
     "execution_count": 281,
     "metadata": {},
     "output_type": "execute_result"
    }
   ],
   "source": [
    "data2018_formatted.head()"
   ]
  },
  {
   "cell_type": "code",
   "execution_count": null,
   "metadata": {},
   "outputs": [],
   "source": []
  }
 ],
 "metadata": {
  "kernelspec": {
   "display_name": "Python 3",
   "language": "python",
   "name": "python3"
  },
  "language_info": {
   "codemirror_mode": {
    "name": "ipython",
    "version": 3
   },
   "file_extension": ".py",
   "mimetype": "text/x-python",
   "name": "python",
   "nbconvert_exporter": "python",
   "pygments_lexer": "ipython3",
   "version": "3.6.7"
  }
 },
 "nbformat": 4,
 "nbformat_minor": 2
}
