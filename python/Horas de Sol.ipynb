{
 "cells": [
  {
   "cell_type": "code",
   "execution_count": 36,
   "metadata": {},
   "outputs": [],
   "source": [
    "import pandas as pd\n",
    "import matplotlib.pyplot as plt\n",
    "from datetime import date, datetime\n",
    "import holidays"
   ]
  },
  {
   "cell_type": "code",
   "execution_count": 2,
   "metadata": {},
   "outputs": [],
   "source": [
    "sol = pd.read_excel('sol.xlsx', header=None)"
   ]
  },
  {
   "cell_type": "code",
   "execution_count": 3,
   "metadata": {},
   "outputs": [
    {
     "data": {
      "text/html": [
       "<div>\n",
       "<style scoped>\n",
       "    .dataframe tbody tr th:only-of-type {\n",
       "        vertical-align: middle;\n",
       "    }\n",
       "\n",
       "    .dataframe tbody tr th {\n",
       "        vertical-align: top;\n",
       "    }\n",
       "\n",
       "    .dataframe thead th {\n",
       "        text-align: right;\n",
       "    }\n",
       "</style>\n",
       "<table border=\"1\" class=\"dataframe\">\n",
       "  <thead>\n",
       "    <tr style=\"text-align: right;\">\n",
       "      <th></th>\n",
       "      <th>0</th>\n",
       "    </tr>\n",
       "  </thead>\n",
       "  <tbody>\n",
       "    <tr>\n",
       "      <th>0</th>\n",
       "      <td>01.01 08:39 13:19 17:59 09:20 +0:40 07:01 07:3...</td>\n",
       "    </tr>\n",
       "    <tr>\n",
       "      <th>1</th>\n",
       "      <td>02.01 08:39 13:19 18:00 09:21 +0:42 07:01 07:3...</td>\n",
       "    </tr>\n",
       "    <tr>\n",
       "      <th>2</th>\n",
       "      <td>03.01 08:39 13:20 18:01 09:21 +0:47 07:01 07:3...</td>\n",
       "    </tr>\n",
       "    <tr>\n",
       "      <th>3</th>\n",
       "      <td>04.01 08:39 13:20 18:02 09:22 +0:50 07:01 07:3...</td>\n",
       "    </tr>\n",
       "    <tr>\n",
       "      <th>4</th>\n",
       "      <td>05.01 08:39 13:21 18:02 09:23 +0:54 07:01 07:3...</td>\n",
       "    </tr>\n",
       "  </tbody>\n",
       "</table>\n",
       "</div>"
      ],
      "text/plain": [
       "                                                   0\n",
       "0  01.01 08:39 13:19 17:59 09:20 +0:40 07:01 07:3...\n",
       "1  02.01 08:39 13:19 18:00 09:21 +0:42 07:01 07:3...\n",
       "2  03.01 08:39 13:20 18:01 09:21 +0:47 07:01 07:3...\n",
       "3  04.01 08:39 13:20 18:02 09:22 +0:50 07:01 07:3...\n",
       "4  05.01 08:39 13:21 18:02 09:23 +0:54 07:01 07:3..."
      ]
     },
     "execution_count": 3,
     "metadata": {},
     "output_type": "execute_result"
    }
   ],
   "source": [
    "sol.head()"
   ]
  },
  {
   "cell_type": "code",
   "execution_count": 4,
   "metadata": {},
   "outputs": [],
   "source": [
    "sol.columns = ['horas']"
   ]
  },
  {
   "cell_type": "code",
   "execution_count": 5,
   "metadata": {},
   "outputs": [],
   "source": [
    "def extrae_horas(h):\n",
    "    try:\n",
    "        _, _, _, _, horas_sol, _, _, _, _, _, _, _, = h.horas.split(' ')\n",
    "        return horas_sol\n",
    "    except:\n",
    "        return None\n",
    "\n",
    "sol['horas_sol'] = sol.apply(extrae_horas, axis = 1)"
   ]
  },
  {
   "cell_type": "code",
   "execution_count": 6,
   "metadata": {},
   "outputs": [
    {
     "data": {
      "text/html": [
       "<div>\n",
       "<style scoped>\n",
       "    .dataframe tbody tr th:only-of-type {\n",
       "        vertical-align: middle;\n",
       "    }\n",
       "\n",
       "    .dataframe tbody tr th {\n",
       "        vertical-align: top;\n",
       "    }\n",
       "\n",
       "    .dataframe thead th {\n",
       "        text-align: right;\n",
       "    }\n",
       "</style>\n",
       "<table border=\"1\" class=\"dataframe\">\n",
       "  <thead>\n",
       "    <tr style=\"text-align: right;\">\n",
       "      <th></th>\n",
       "      <th>horas</th>\n",
       "      <th>horas_sol</th>\n",
       "    </tr>\n",
       "  </thead>\n",
       "  <tbody>\n",
       "    <tr>\n",
       "      <th>0</th>\n",
       "      <td>01.01 08:39 13:19 17:59 09:20 +0:40 07:01 07:3...</td>\n",
       "      <td>09:20</td>\n",
       "    </tr>\n",
       "    <tr>\n",
       "      <th>1</th>\n",
       "      <td>02.01 08:39 13:19 18:00 09:21 +0:42 07:01 07:3...</td>\n",
       "      <td>09:21</td>\n",
       "    </tr>\n",
       "    <tr>\n",
       "      <th>2</th>\n",
       "      <td>03.01 08:39 13:20 18:01 09:21 +0:47 07:01 07:3...</td>\n",
       "      <td>09:21</td>\n",
       "    </tr>\n",
       "    <tr>\n",
       "      <th>3</th>\n",
       "      <td>04.01 08:39 13:20 18:02 09:22 +0:50 07:01 07:3...</td>\n",
       "      <td>09:22</td>\n",
       "    </tr>\n",
       "    <tr>\n",
       "      <th>4</th>\n",
       "      <td>05.01 08:39 13:21 18:02 09:23 +0:54 07:01 07:3...</td>\n",
       "      <td>09:23</td>\n",
       "    </tr>\n",
       "  </tbody>\n",
       "</table>\n",
       "</div>"
      ],
      "text/plain": [
       "                                               horas horas_sol\n",
       "0  01.01 08:39 13:19 17:59 09:20 +0:40 07:01 07:3...     09:20\n",
       "1  02.01 08:39 13:19 18:00 09:21 +0:42 07:01 07:3...     09:21\n",
       "2  03.01 08:39 13:20 18:01 09:21 +0:47 07:01 07:3...     09:21\n",
       "3  04.01 08:39 13:20 18:02 09:22 +0:50 07:01 07:3...     09:22\n",
       "4  05.01 08:39 13:21 18:02 09:23 +0:54 07:01 07:3...     09:23"
      ]
     },
     "execution_count": 6,
     "metadata": {},
     "output_type": "execute_result"
    }
   ],
   "source": [
    "sol.head()"
   ]
  },
  {
   "cell_type": "code",
   "execution_count": 7,
   "metadata": {},
   "outputs": [],
   "source": [
    "def extrae_minutos(m):\n",
    "    try:\n",
    "        _, minutos, = m.horas_sol.split(':')\n",
    "        return minutos\n",
    "    except:\n",
    "        return None\n",
    "\n",
    "sol['minutos'] = sol.apply(extrae_minutos, axis = 1)"
   ]
  },
  {
   "cell_type": "code",
   "execution_count": 8,
   "metadata": {},
   "outputs": [],
   "source": [
    "def extrae_horas2(h):\n",
    "    try:\n",
    "        horas, _, = h.horas_sol.split(':')\n",
    "        return horas\n",
    "    except:\n",
    "        return None\n",
    "\n",
    "sol['horas_t'] = sol.apply(extrae_horas2, axis = 1)"
   ]
  },
  {
   "cell_type": "code",
   "execution_count": 9,
   "metadata": {},
   "outputs": [
    {
     "data": {
      "text/html": [
       "<div>\n",
       "<style scoped>\n",
       "    .dataframe tbody tr th:only-of-type {\n",
       "        vertical-align: middle;\n",
       "    }\n",
       "\n",
       "    .dataframe tbody tr th {\n",
       "        vertical-align: top;\n",
       "    }\n",
       "\n",
       "    .dataframe thead th {\n",
       "        text-align: right;\n",
       "    }\n",
       "</style>\n",
       "<table border=\"1\" class=\"dataframe\">\n",
       "  <thead>\n",
       "    <tr style=\"text-align: right;\">\n",
       "      <th></th>\n",
       "      <th>horas</th>\n",
       "      <th>horas_sol</th>\n",
       "      <th>minutos</th>\n",
       "      <th>horas_t</th>\n",
       "    </tr>\n",
       "  </thead>\n",
       "  <tbody>\n",
       "    <tr>\n",
       "      <th>0</th>\n",
       "      <td>01.01 08:39 13:19 17:59 09:20 +0:40 07:01 07:3...</td>\n",
       "      <td>09:20</td>\n",
       "      <td>20</td>\n",
       "      <td>09</td>\n",
       "    </tr>\n",
       "    <tr>\n",
       "      <th>1</th>\n",
       "      <td>02.01 08:39 13:19 18:00 09:21 +0:42 07:01 07:3...</td>\n",
       "      <td>09:21</td>\n",
       "      <td>21</td>\n",
       "      <td>09</td>\n",
       "    </tr>\n",
       "    <tr>\n",
       "      <th>2</th>\n",
       "      <td>03.01 08:39 13:20 18:01 09:21 +0:47 07:01 07:3...</td>\n",
       "      <td>09:21</td>\n",
       "      <td>21</td>\n",
       "      <td>09</td>\n",
       "    </tr>\n",
       "    <tr>\n",
       "      <th>3</th>\n",
       "      <td>04.01 08:39 13:20 18:02 09:22 +0:50 07:01 07:3...</td>\n",
       "      <td>09:22</td>\n",
       "      <td>22</td>\n",
       "      <td>09</td>\n",
       "    </tr>\n",
       "    <tr>\n",
       "      <th>4</th>\n",
       "      <td>05.01 08:39 13:21 18:02 09:23 +0:54 07:01 07:3...</td>\n",
       "      <td>09:23</td>\n",
       "      <td>23</td>\n",
       "      <td>09</td>\n",
       "    </tr>\n",
       "  </tbody>\n",
       "</table>\n",
       "</div>"
      ],
      "text/plain": [
       "                                               horas horas_sol minutos horas_t\n",
       "0  01.01 08:39 13:19 17:59 09:20 +0:40 07:01 07:3...     09:20      20      09\n",
       "1  02.01 08:39 13:19 18:00 09:21 +0:42 07:01 07:3...     09:21      21      09\n",
       "2  03.01 08:39 13:20 18:01 09:21 +0:47 07:01 07:3...     09:21      21      09\n",
       "3  04.01 08:39 13:20 18:02 09:22 +0:50 07:01 07:3...     09:22      22      09\n",
       "4  05.01 08:39 13:21 18:02 09:23 +0:54 07:01 07:3...     09:23      23      09"
      ]
     },
     "execution_count": 9,
     "metadata": {},
     "output_type": "execute_result"
    }
   ],
   "source": [
    "sol.head()"
   ]
  },
  {
   "cell_type": "code",
   "execution_count": 10,
   "metadata": {},
   "outputs": [],
   "source": [
    "sol['horas_t'] = pd.to_numeric(sol['horas_t'])\n",
    "sol['minutos'] = pd.to_numeric(sol['minutos'])"
   ]
  },
  {
   "cell_type": "code",
   "execution_count": 11,
   "metadata": {},
   "outputs": [
    {
     "name": "stdout",
     "output_type": "stream",
     "text": [
      "<class 'pandas.core.frame.DataFrame'>\n",
      "RangeIndex: 1461 entries, 0 to 1460\n",
      "Data columns (total 4 columns):\n",
      "horas        1461 non-null object\n",
      "horas_sol    1461 non-null object\n",
      "minutos      1461 non-null int64\n",
      "horas_t      1461 non-null int64\n",
      "dtypes: int64(2), object(2)\n",
      "memory usage: 45.7+ KB\n"
     ]
    }
   ],
   "source": [
    "sol.info()"
   ]
  },
  {
   "cell_type": "code",
   "execution_count": 12,
   "metadata": {},
   "outputs": [],
   "source": [
    "sol['min_sun'] = sol['horas_t']*60 + sol['minutos']"
   ]
  },
  {
   "cell_type": "code",
   "execution_count": 13,
   "metadata": {},
   "outputs": [],
   "source": [
    "sol = sol.drop(['horas', 'horas_sol', 'minutos'], 1)"
   ]
  },
  {
   "cell_type": "code",
   "execution_count": 14,
   "metadata": {},
   "outputs": [
    {
     "data": {
      "text/plain": [
       "[<matplotlib.lines.Line2D at 0x235172992e8>]"
      ]
     },
     "execution_count": 14,
     "metadata": {},
     "output_type": "execute_result"
    },
    {
     "data": {
      "image/png": "[encoded data removed]",
      "text/plain": [
       "<Figure size 432x288 with 1 Axes>"
      ]
     },
     "metadata": {
      "needs_background": "light"
     },
     "output_type": "display_data"
    }
   ],
   "source": [
    "plt.plot('min_sun', data = sol)"
   ]
  },
  {
   "cell_type": "code",
   "execution_count": 15,
   "metadata": {},
   "outputs": [],
   "source": [
    "mode = pd.read_csv('../../TFM/usos_para_modelo2.csv', index_col=0)"
   ]
  },
  {
   "cell_type": "code",
   "execution_count": 16,
   "metadata": {},
   "outputs": [
    {
     "data": {
      "text/html": [
       "<div>\n",
       "<style scoped>\n",
       "    .dataframe tbody tr th:only-of-type {\n",
       "        vertical-align: middle;\n",
       "    }\n",
       "\n",
       "    .dataframe tbody tr th {\n",
       "        vertical-align: top;\n",
       "    }\n",
       "\n",
       "    .dataframe thead th {\n",
       "        text-align: right;\n",
       "    }\n",
       "</style>\n",
       "<table border=\"1\" class=\"dataframe\">\n",
       "  <thead>\n",
       "    <tr style=\"text-align: right;\">\n",
       "      <th></th>\n",
       "      <th>anual_total_use_day</th>\n",
       "      <th>date</th>\n",
       "      <th>precipitation</th>\n",
       "      <th>temp_max</th>\n",
       "      <th>temp_media</th>\n",
       "      <th>temp_min</th>\n",
       "      <th>wind_speed</th>\n",
       "      <th>dioxido_nitrogeno</th>\n",
       "      <th>season</th>\n",
       "      <th>weekend</th>\n",
       "      <th>day</th>\n",
       "      <th>month</th>\n",
       "      <th>year</th>\n",
       "    </tr>\n",
       "  </thead>\n",
       "  <tbody>\n",
       "    <tr>\n",
       "      <th>2</th>\n",
       "      <td>17</td>\n",
       "      <td>2014-06-23</td>\n",
       "      <td>0.0</td>\n",
       "      <td>29.7</td>\n",
       "      <td>23.2</td>\n",
       "      <td>16.6</td>\n",
       "      <td>1.7</td>\n",
       "      <td>20.0</td>\n",
       "      <td>Verano</td>\n",
       "      <td>0</td>\n",
       "      <td>0</td>\n",
       "      <td>6</td>\n",
       "      <td>2014</td>\n",
       "    </tr>\n",
       "    <tr>\n",
       "      <th>3</th>\n",
       "      <td>24</td>\n",
       "      <td>2014-06-24</td>\n",
       "      <td>0.0</td>\n",
       "      <td>19.8</td>\n",
       "      <td>18.4</td>\n",
       "      <td>17.0</td>\n",
       "      <td>1.7</td>\n",
       "      <td>17.0</td>\n",
       "      <td>Verano</td>\n",
       "      <td>0</td>\n",
       "      <td>1</td>\n",
       "      <td>6</td>\n",
       "      <td>2014</td>\n",
       "    </tr>\n",
       "    <tr>\n",
       "      <th>0</th>\n",
       "      <td>105</td>\n",
       "      <td>2014-06-25</td>\n",
       "      <td>1.7</td>\n",
       "      <td>27.0</td>\n",
       "      <td>21.6</td>\n",
       "      <td>16.2</td>\n",
       "      <td>1.4</td>\n",
       "      <td>20.0</td>\n",
       "      <td>Verano</td>\n",
       "      <td>0</td>\n",
       "      <td>2</td>\n",
       "      <td>6</td>\n",
       "      <td>2014</td>\n",
       "    </tr>\n",
       "    <tr>\n",
       "      <th>4</th>\n",
       "      <td>120</td>\n",
       "      <td>2014-06-26</td>\n",
       "      <td>0.4</td>\n",
       "      <td>26.2</td>\n",
       "      <td>20.8</td>\n",
       "      <td>15.5</td>\n",
       "      <td>0.6</td>\n",
       "      <td>21.0</td>\n",
       "      <td>Verano</td>\n",
       "      <td>0</td>\n",
       "      <td>3</td>\n",
       "      <td>6</td>\n",
       "      <td>2014</td>\n",
       "    </tr>\n",
       "    <tr>\n",
       "      <th>5</th>\n",
       "      <td>131</td>\n",
       "      <td>2014-06-27</td>\n",
       "      <td>0.0</td>\n",
       "      <td>30.4</td>\n",
       "      <td>23.7</td>\n",
       "      <td>17.0</td>\n",
       "      <td>2.2</td>\n",
       "      <td>23.0</td>\n",
       "      <td>Verano</td>\n",
       "      <td>0</td>\n",
       "      <td>4</td>\n",
       "      <td>6</td>\n",
       "      <td>2014</td>\n",
       "    </tr>\n",
       "  </tbody>\n",
       "</table>\n",
       "</div>"
      ],
      "text/plain": [
       "   anual_total_use_day        date  precipitation  temp_max  temp_media  \\\n",
       "2                   17  2014-06-23            0.0      29.7        23.2   \n",
       "3                   24  2014-06-24            0.0      19.8        18.4   \n",
       "0                  105  2014-06-25            1.7      27.0        21.6   \n",
       "4                  120  2014-06-26            0.4      26.2        20.8   \n",
       "5                  131  2014-06-27            0.0      30.4        23.7   \n",
       "\n",
       "   temp_min  wind_speed  dioxido_nitrogeno  season  weekend  day  month  year  \n",
       "2      16.6         1.7               20.0  Verano        0    0      6  2014  \n",
       "3      17.0         1.7               17.0  Verano        0    1      6  2014  \n",
       "0      16.2         1.4               20.0  Verano        0    2      6  2014  \n",
       "4      15.5         0.6               21.0  Verano        0    3      6  2014  \n",
       "5      17.0         2.2               23.0  Verano        0    4      6  2014  "
      ]
     },
     "execution_count": 16,
     "metadata": {},
     "output_type": "execute_result"
    }
   ],
   "source": [
    "mode.head()"
   ]
  },
  {
   "cell_type": "code",
   "execution_count": 17,
   "metadata": {},
   "outputs": [],
   "source": [
    "mod = mode[mode['date'] > '2014-12-31']"
   ]
  },
  {
   "cell_type": "code",
   "execution_count": 18,
   "metadata": {},
   "outputs": [
    {
     "name": "stdout",
     "output_type": "stream",
     "text": [
      "<class 'pandas.core.frame.DataFrame'>\n",
      "Int64Index: 1461 entries, 192 to 1652\n",
      "Data columns (total 13 columns):\n",
      "anual_total_use_day    1461 non-null int64\n",
      "date                   1461 non-null object\n",
      "precipitation          1459 non-null float64\n",
      "temp_max               1459 non-null float64\n",
      "temp_media             1459 non-null float64\n",
      "temp_min               1459 non-null float64\n",
      "wind_speed             1459 non-null float64\n",
      "dioxido_nitrogeno      1458 non-null float64\n",
      "season                 1461 non-null object\n",
      "weekend                1461 non-null int64\n",
      "day                    1461 non-null int64\n",
      "month                  1461 non-null int64\n",
      "year                   1461 non-null int64\n",
      "dtypes: float64(6), int64(5), object(2)\n",
      "memory usage: 159.8+ KB\n"
     ]
    }
   ],
   "source": [
    "mod.info()"
   ]
  },
  {
   "cell_type": "code",
   "execution_count": 19,
   "metadata": {},
   "outputs": [],
   "source": [
    "mod = mod.reset_index(drop=True)\n",
    "sol = sol.reset_index(drop=True)"
   ]
  },
  {
   "cell_type": "code",
   "execution_count": 21,
   "metadata": {},
   "outputs": [],
   "source": [
    "ds = pd.concat([mod, sol], axis = 1)"
   ]
  },
  {
   "cell_type": "code",
   "execution_count": 44,
   "metadata": {},
   "outputs": [
    {
     "name": "stdout",
     "output_type": "stream",
     "text": [
      "<class 'pandas.core.frame.DataFrame'>\n",
      "RangeIndex: 1461 entries, 0 to 1460\n",
      "Data columns (total 15 columns):\n",
      "anual_total_use_day    1461 non-null int64\n",
      "date                   1461 non-null datetime64[ns]\n",
      "precipitation          1459 non-null float64\n",
      "temp_max               1459 non-null float64\n",
      "temp_media             1459 non-null float64\n",
      "temp_min               1459 non-null float64\n",
      "wind_speed             1459 non-null float64\n",
      "dioxido_nitrogeno      1458 non-null float64\n",
      "season                 1461 non-null object\n",
      "weekend                1461 non-null int64\n",
      "day                    1461 non-null int64\n",
      "month                  1461 non-null int64\n",
      "year                   1461 non-null int64\n",
      "min_sun                1461 non-null int64\n",
      "holiday                1461 non-null int64\n",
      "dtypes: datetime64[ns](1), float64(6), int64(7), object(1)\n",
      "memory usage: 171.3+ KB\n"
     ]
    },
    {
     "data": {
      "text/html": [
       "<div>\n",
       "<style scoped>\n",
       "    .dataframe tbody tr th:only-of-type {\n",
       "        vertical-align: middle;\n",
       "    }\n",
       "\n",
       "    .dataframe tbody tr th {\n",
       "        vertical-align: top;\n",
       "    }\n",
       "\n",
       "    .dataframe thead th {\n",
       "        text-align: right;\n",
       "    }\n",
       "</style>\n",
       "<table border=\"1\" class=\"dataframe\">\n",
       "  <thead>\n",
       "    <tr style=\"text-align: right;\">\n",
       "      <th></th>\n",
       "      <th>anual_total_use_day</th>\n",
       "      <th>date</th>\n",
       "      <th>precipitation</th>\n",
       "      <th>temp_max</th>\n",
       "      <th>temp_media</th>\n",
       "      <th>temp_min</th>\n",
       "      <th>wind_speed</th>\n",
       "      <th>dioxido_nitrogeno</th>\n",
       "      <th>season</th>\n",
       "      <th>weekend</th>\n",
       "      <th>day</th>\n",
       "      <th>month</th>\n",
       "      <th>year</th>\n",
       "      <th>min_sun</th>\n",
       "      <th>holiday</th>\n",
       "    </tr>\n",
       "  </thead>\n",
       "  <tbody>\n",
       "    <tr>\n",
       "      <th>0</th>\n",
       "      <td>2018</td>\n",
       "      <td>2015-01-01</td>\n",
       "      <td>0.0</td>\n",
       "      <td>10.4</td>\n",
       "      <td>4.7</td>\n",
       "      <td>-1.0</td>\n",
       "      <td>0.8</td>\n",
       "      <td>81.0</td>\n",
       "      <td>Invierno</td>\n",
       "      <td>0</td>\n",
       "      <td>3</td>\n",
       "      <td>1</td>\n",
       "      <td>2015</td>\n",
       "      <td>560</td>\n",
       "      <td>1</td>\n",
       "    </tr>\n",
       "    <tr>\n",
       "      <th>1</th>\n",
       "      <td>2880</td>\n",
       "      <td>2015-01-02</td>\n",
       "      <td>0.0</td>\n",
       "      <td>12.0</td>\n",
       "      <td>5.5</td>\n",
       "      <td>-1.0</td>\n",
       "      <td>0.6</td>\n",
       "      <td>89.0</td>\n",
       "      <td>Invierno</td>\n",
       "      <td>0</td>\n",
       "      <td>4</td>\n",
       "      <td>1</td>\n",
       "      <td>2015</td>\n",
       "      <td>561</td>\n",
       "      <td>0</td>\n",
       "    </tr>\n",
       "    <tr>\n",
       "      <th>2</th>\n",
       "      <td>3187</td>\n",
       "      <td>2015-01-03</td>\n",
       "      <td>0.0</td>\n",
       "      <td>11.4</td>\n",
       "      <td>6.3</td>\n",
       "      <td>1.2</td>\n",
       "      <td>0.3</td>\n",
       "      <td>76.0</td>\n",
       "      <td>Invierno</td>\n",
       "      <td>1</td>\n",
       "      <td>5</td>\n",
       "      <td>1</td>\n",
       "      <td>2015</td>\n",
       "      <td>561</td>\n",
       "      <td>0</td>\n",
       "    </tr>\n",
       "    <tr>\n",
       "      <th>3</th>\n",
       "      <td>3296</td>\n",
       "      <td>2015-01-04</td>\n",
       "      <td>0.0</td>\n",
       "      <td>14.0</td>\n",
       "      <td>7.7</td>\n",
       "      <td>1.4</td>\n",
       "      <td>0.3</td>\n",
       "      <td>86.0</td>\n",
       "      <td>Invierno</td>\n",
       "      <td>1</td>\n",
       "      <td>6</td>\n",
       "      <td>1</td>\n",
       "      <td>2015</td>\n",
       "      <td>562</td>\n",
       "      <td>0</td>\n",
       "    </tr>\n",
       "    <tr>\n",
       "      <th>4</th>\n",
       "      <td>4039</td>\n",
       "      <td>2015-01-05</td>\n",
       "      <td>0.0</td>\n",
       "      <td>12.0</td>\n",
       "      <td>6.8</td>\n",
       "      <td>1.5</td>\n",
       "      <td>1.4</td>\n",
       "      <td>78.0</td>\n",
       "      <td>Invierno</td>\n",
       "      <td>0</td>\n",
       "      <td>0</td>\n",
       "      <td>1</td>\n",
       "      <td>2015</td>\n",
       "      <td>563</td>\n",
       "      <td>0</td>\n",
       "    </tr>\n",
       "  </tbody>\n",
       "</table>\n",
       "</div>"
      ],
      "text/plain": [
       "   anual_total_use_day       date  precipitation  temp_max  temp_media  \\\n",
       "0                 2018 2015-01-01            0.0      10.4         4.7   \n",
       "1                 2880 2015-01-02            0.0      12.0         5.5   \n",
       "2                 3187 2015-01-03            0.0      11.4         6.3   \n",
       "3                 3296 2015-01-04            0.0      14.0         7.7   \n",
       "4                 4039 2015-01-05            0.0      12.0         6.8   \n",
       "\n",
       "   temp_min  wind_speed  dioxido_nitrogeno    season  weekend  day  month  \\\n",
       "0      -1.0         0.8               81.0  Invierno        0    3      1   \n",
       "1      -1.0         0.6               89.0  Invierno        0    4      1   \n",
       "2       1.2         0.3               76.0  Invierno        1    5      1   \n",
       "3       1.4         0.3               86.0  Invierno        1    6      1   \n",
       "4       1.5         1.4               78.0  Invierno        0    0      1   \n",
       "\n",
       "   year  min_sun  holiday  \n",
       "0  2015      560        1  \n",
       "1  2015      561        0  \n",
       "2  2015      561        0  \n",
       "3  2015      562        0  \n",
       "4  2015      563        0  "
      ]
     },
     "execution_count": 44,
     "metadata": {},
     "output_type": "execute_result"
    }
   ],
   "source": [
    "ds.info()\n",
    "ds.head()"
   ]
  },
  {
   "cell_type": "code",
   "execution_count": 23,
   "metadata": {},
   "outputs": [],
   "source": [
    "ds = ds.drop('horas_t', 1)"
   ]
  },
  {
   "cell_type": "code",
   "execution_count": 27,
   "metadata": {},
   "outputs": [],
   "source": [
    "mad_holidays = holidays.CountryHoliday('ES', prov='MAD')"
   ]
  },
  {
   "cell_type": "code",
   "execution_count": 37,
   "metadata": {},
   "outputs": [],
   "source": [
    "def cast_date(date):\n",
    "    return datetime.strptime(date, '%Y-%m-%d')\n",
    "\n",
    "ds['date'] = ds.date.apply(cast_date)"
   ]
  },
  {
   "cell_type": "code",
   "execution_count": 30,
   "metadata": {},
   "outputs": [],
   "source": [
    "def holiday(x):\n",
    "    if x.date in mad_holidays:\n",
    "        return 1\n",
    "    else:\n",
    "        return 0"
   ]
  },
  {
   "cell_type": "code",
   "execution_count": 43,
   "metadata": {},
   "outputs": [],
   "source": [
    "ds['holiday'] = ds.apply(holiday, axis = 1)"
   ]
  },
  {
   "cell_type": "code",
   "execution_count": 48,
   "metadata": {},
   "outputs": [],
   "source": [
    "ds.to_csv('data_set')"
   ]
  }
 ],
 "metadata": {
  "kernelspec": {
   "display_name": "Python 3",
   "language": "python",
   "name": "python3"
  },
  "language_info": {
   "codemirror_mode": {
    "name": "ipython",
    "version": 3
   },
   "file_extension": ".py",
   "mimetype": "text/x-python",
   "name": "python",
   "nbconvert_exporter": "python",
   "pygments_lexer": "ipython3",
   "version": "3.7.1"
  }
 },
 "nbformat": 4,
 "nbformat_minor": 2
}
